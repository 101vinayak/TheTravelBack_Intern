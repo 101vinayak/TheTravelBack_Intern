{
 "cells": [
  {
   "cell_type": "code",
   "execution_count": 1,
   "metadata": {},
   "outputs": [],
   "source": [
    "import pandas as pd\n",
    "import numpy as np\n",
    "from sklearn.feature_extraction.text import TfidfVectorizer, CountVectorizer"
   ]
  },
  {
   "cell_type": "code",
   "execution_count": 3,
   "metadata": {
    "scrolled": true
   },
   "outputs": [
    {
     "data": {
      "text/html": [
       "<div>\n",
       "<style scoped>\n",
       "    .dataframe tbody tr th:only-of-type {\n",
       "        vertical-align: middle;\n",
       "    }\n",
       "\n",
       "    .dataframe tbody tr th {\n",
       "        vertical-align: top;\n",
       "    }\n",
       "\n",
       "    .dataframe thead th {\n",
       "        text-align: right;\n",
       "    }\n",
       "</style>\n",
       "<table border=\"1\" class=\"dataframe\">\n",
       "  <thead>\n",
       "    <tr style=\"text-align: right;\">\n",
       "      <th></th>\n",
       "      <th>Unnamed: 0</th>\n",
       "      <th>City_Name</th>\n",
       "      <th>Establishment_Type</th>\n",
       "      <th>Name</th>\n",
       "      <th>Rating</th>\n",
       "      <th>No_of_Reviews</th>\n",
       "      <th>Other_Ratings</th>\n",
       "      <th>Timings</th>\n",
       "      <th>Latitude</th>\n",
       "      <th>Longitude</th>\n",
       "      <th>...</th>\n",
       "      <th>Range_n_Cuisine</th>\n",
       "      <th>Address</th>\n",
       "      <th>Contact_No</th>\n",
       "      <th>Changed_Tag</th>\n",
       "      <th>Range_Cuisine_new</th>\n",
       "      <th>Cuisine</th>\n",
       "      <th>Cuisines</th>\n",
       "      <th>Meals</th>\n",
       "      <th>Special Diets</th>\n",
       "      <th>PRICE RANGE</th>\n",
       "    </tr>\n",
       "  </thead>\n",
       "  <tbody>\n",
       "    <tr>\n",
       "      <th>0</th>\n",
       "      <td>3</td>\n",
       "      <td>Abbotsford</td>\n",
       "      <td>Restaurant</td>\n",
       "      <td>Townhall Public House Abbotsford</td>\n",
       "      <td>4.0</td>\n",
       "      <td>123</td>\n",
       "      <td>{'Food': 3.5, 'Service': 4.0, 'Value': 3.5, 'A...</td>\n",
       "      <td>[{'days': 'Sun', 'times': ['10:00 AM - 12:00 A...</td>\n",
       "      <td>49.047710</td>\n",
       "      <td>-122.291150</td>\n",
       "      <td>...</td>\n",
       "      <td>['$$ - $$$', 'Bar', 'Gastropub', 'Canadian']</td>\n",
       "      <td>33720 South Fraser Way, Abbotsford, British Co...</td>\n",
       "      <td>+1 604-746-2000</td>\n",
       "      <td>All reviews  brunch  fish chips  salad  pub fo...</td>\n",
       "      <td>Bar,Gastropub,Canadian</td>\n",
       "      <td>Gastropub, Bar, Canadian</td>\n",
       "      <td>Gastropub, Bar, Canadian,Bar,Gastropub,Canadian</td>\n",
       "      <td>None</td>\n",
       "      <td>NaN</td>\n",
       "      <td>NaN</td>\n",
       "    </tr>\n",
       "    <tr>\n",
       "      <th>1</th>\n",
       "      <td>8</td>\n",
       "      <td>Abbotsford</td>\n",
       "      <td>Restaurant</td>\n",
       "      <td>White Spot</td>\n",
       "      <td>4.0</td>\n",
       "      <td>80</td>\n",
       "      <td>{'Food': 4.5, 'Service': 4.5, 'Value': 4.0, 'A...</td>\n",
       "      <td>NaN</td>\n",
       "      <td>49.037080</td>\n",
       "      <td>-122.225850</td>\n",
       "      <td>...</td>\n",
       "      <td>['$$ - $$$', 'Canadian', 'Vegetarian Friendly'...</td>\n",
       "      <td>36063 North Parallel Rd, Abbotsford, British C...</td>\n",
       "      <td>+1 604-864-5744</td>\n",
       "      <td>All reviews  eggs bacon  burger  fries  salad ...</td>\n",
       "      <td>Canadian,Vegetarian,Friendly,Gluten,Free,Options</td>\n",
       "      <td>Canadian</td>\n",
       "      <td>Canadian,Canadian,Vegetarian,Friendly,Gluten,F...</td>\n",
       "      <td>Breakfast, Lunch, Dinner, Brunch</td>\n",
       "      <td>Breakfast, Lunch, Dinner, Brunch</td>\n",
       "      <td>None</td>\n",
       "    </tr>\n",
       "    <tr>\n",
       "      <th>2</th>\n",
       "      <td>12</td>\n",
       "      <td>Abbotsford</td>\n",
       "      <td>Restaurant</td>\n",
       "      <td>Common Place Cafe</td>\n",
       "      <td>4.5</td>\n",
       "      <td>18</td>\n",
       "      <td>{'Food': 4.5, 'Service': 4.0, 'Value': 4.0}</td>\n",
       "      <td>[{'days': 'Mon - Sat', 'times': ['7:00 AM - 4:...</td>\n",
       "      <td>49.044353</td>\n",
       "      <td>-122.281450</td>\n",
       "      <td>...</td>\n",
       "      <td>['₹', 'Canadian', 'Vegetarian Friendly', 'Vega...</td>\n",
       "      <td>33933 Gladys Ave MCC Centre, Abbotsford, Briti...</td>\n",
       "      <td>+1 604-851-7737</td>\n",
       "      <td>All reviews  borscht  fair trade  cottage chee...</td>\n",
       "      <td>Canadian,Vegetarian,Friendly,Vegan,Options</td>\n",
       "      <td>Canadian</td>\n",
       "      <td>Canadian,Canadian,Vegetarian,Friendly,Vegan,Op...</td>\n",
       "      <td>Breakfast, Lunch, Brunch</td>\n",
       "      <td>Breakfast, Lunch, Brunch</td>\n",
       "      <td>None</td>\n",
       "    </tr>\n",
       "    <tr>\n",
       "      <th>3</th>\n",
       "      <td>15</td>\n",
       "      <td>Abbotsford</td>\n",
       "      <td>Restaurant</td>\n",
       "      <td>Ricardo's Pizza</td>\n",
       "      <td>4.5</td>\n",
       "      <td>58</td>\n",
       "      <td>{'Food': 4.0, 'Service': 4.0, 'Value': 4.0, 'A...</td>\n",
       "      <td>[{'days': 'Sun', 'times': ['11:00 AM - 10:00 P...</td>\n",
       "      <td>49.055172</td>\n",
       "      <td>-122.317184</td>\n",
       "      <td>...</td>\n",
       "      <td>['$$ - $$$', 'Italian', 'Pizza', 'Canadian']</td>\n",
       "      <td>6-32750 George Ferguson Way, Abbotsford, Briti...</td>\n",
       "      <td>+1 604-859-1112</td>\n",
       "      <td>All reviews  pizza  pineapple  ham  salad  bbq...</td>\n",
       "      <td>Italian,Pizza,Canadian</td>\n",
       "      <td>Italian, Pizza, Canadian</td>\n",
       "      <td>Italian, Pizza, Canadian,Italian,Pizza,Canadian</td>\n",
       "      <td>Lunch, Dinner</td>\n",
       "      <td>Lunch, Dinner</td>\n",
       "      <td>None</td>\n",
       "    </tr>\n",
       "    <tr>\n",
       "      <th>4</th>\n",
       "      <td>18</td>\n",
       "      <td>Abbotsford</td>\n",
       "      <td>Restaurant</td>\n",
       "      <td>Keg Restaurant &amp; Bar</td>\n",
       "      <td>4.0</td>\n",
       "      <td>199</td>\n",
       "      <td>{'Food': 4.0, 'Service': 4.0, 'Value': 3.5, 'A...</td>\n",
       "      <td>[{'days': 'Sun - Sat', 'times': ['4:00 PM - 10...</td>\n",
       "      <td>49.041615</td>\n",
       "      <td>-122.277780</td>\n",
       "      <td>...</td>\n",
       "      <td>['$$ - $$$', 'American', 'Steakhouse', 'Bar']</td>\n",
       "      <td>2142 West Railway St, Abbotsford, British Colu...</td>\n",
       "      <td>+1 604-855-9893</td>\n",
       "      <td>All reviews  prime rib  steak  half lobster  c...</td>\n",
       "      <td>American,Steakhouse,Bar</td>\n",
       "      <td>Steakhouse, Bar, Canadian, American</td>\n",
       "      <td>Steakhouse, Bar, Canadian, American,American,S...</td>\n",
       "      <td>Dinner, After-hours</td>\n",
       "      <td>Dinner, After-hours</td>\n",
       "      <td>None</td>\n",
       "    </tr>\n",
       "  </tbody>\n",
       "</table>\n",
       "<p>5 rows × 23 columns</p>\n",
       "</div>"
      ],
      "text/plain": [
       "   Unnamed: 0   City_Name Establishment_Type  \\\n",
       "0           3  Abbotsford         Restaurant   \n",
       "1           8  Abbotsford         Restaurant   \n",
       "2          12  Abbotsford         Restaurant   \n",
       "3          15  Abbotsford         Restaurant   \n",
       "4          18  Abbotsford         Restaurant   \n",
       "\n",
       "                               Name  Rating No_of_Reviews  \\\n",
       "0  Townhall Public House Abbotsford     4.0           123   \n",
       "1                        White Spot     4.0            80   \n",
       "2                 Common Place Cafe     4.5            18   \n",
       "3                   Ricardo's Pizza     4.5            58   \n",
       "4              Keg Restaurant & Bar     4.0           199   \n",
       "\n",
       "                                       Other_Ratings  \\\n",
       "0  {'Food': 3.5, 'Service': 4.0, 'Value': 3.5, 'A...   \n",
       "1  {'Food': 4.5, 'Service': 4.5, 'Value': 4.0, 'A...   \n",
       "2        {'Food': 4.5, 'Service': 4.0, 'Value': 4.0}   \n",
       "3  {'Food': 4.0, 'Service': 4.0, 'Value': 4.0, 'A...   \n",
       "4  {'Food': 4.0, 'Service': 4.0, 'Value': 3.5, 'A...   \n",
       "\n",
       "                                             Timings   Latitude   Longitude  \\\n",
       "0  [{'days': 'Sun', 'times': ['10:00 AM - 12:00 A...  49.047710 -122.291150   \n",
       "1                                                NaN  49.037080 -122.225850   \n",
       "2  [{'days': 'Mon - Sat', 'times': ['7:00 AM - 4:...  49.044353 -122.281450   \n",
       "3  [{'days': 'Sun', 'times': ['11:00 AM - 10:00 P...  49.055172 -122.317184   \n",
       "4  [{'days': 'Sun - Sat', 'times': ['4:00 PM - 10...  49.041615 -122.277780   \n",
       "\n",
       "   ...                                    Range_n_Cuisine  \\\n",
       "0  ...       ['$$ - $$$', 'Bar', 'Gastropub', 'Canadian']   \n",
       "1  ...  ['$$ - $$$', 'Canadian', 'Vegetarian Friendly'...   \n",
       "2  ...  ['₹', 'Canadian', 'Vegetarian Friendly', 'Vega...   \n",
       "3  ...       ['$$ - $$$', 'Italian', 'Pizza', 'Canadian']   \n",
       "4  ...      ['$$ - $$$', 'American', 'Steakhouse', 'Bar']   \n",
       "\n",
       "                                             Address       Contact_No  \\\n",
       "0  33720 South Fraser Way, Abbotsford, British Co...  +1 604-746-2000   \n",
       "1  36063 North Parallel Rd, Abbotsford, British C...  +1 604-864-5744   \n",
       "2  33933 Gladys Ave MCC Centre, Abbotsford, Briti...  +1 604-851-7737   \n",
       "3  6-32750 George Ferguson Way, Abbotsford, Briti...  +1 604-859-1112   \n",
       "4  2142 West Railway St, Abbotsford, British Colu...  +1 604-855-9893   \n",
       "\n",
       "                                         Changed_Tag  \\\n",
       "0  All reviews  brunch  fish chips  salad  pub fo...   \n",
       "1  All reviews  eggs bacon  burger  fries  salad ...   \n",
       "2  All reviews  borscht  fair trade  cottage chee...   \n",
       "3  All reviews  pizza  pineapple  ham  salad  bbq...   \n",
       "4  All reviews  prime rib  steak  half lobster  c...   \n",
       "\n",
       "                                  Range_Cuisine_new  \\\n",
       "0                            Bar,Gastropub,Canadian   \n",
       "1  Canadian,Vegetarian,Friendly,Gluten,Free,Options   \n",
       "2        Canadian,Vegetarian,Friendly,Vegan,Options   \n",
       "3                            Italian,Pizza,Canadian   \n",
       "4                           American,Steakhouse,Bar   \n",
       "\n",
       "                               Cuisine  \\\n",
       "0             Gastropub, Bar, Canadian   \n",
       "1                             Canadian   \n",
       "2                             Canadian   \n",
       "3             Italian, Pizza, Canadian   \n",
       "4  Steakhouse, Bar, Canadian, American   \n",
       "\n",
       "                                            Cuisines  \\\n",
       "0    Gastropub, Bar, Canadian,Bar,Gastropub,Canadian   \n",
       "1  Canadian,Canadian,Vegetarian,Friendly,Gluten,F...   \n",
       "2  Canadian,Canadian,Vegetarian,Friendly,Vegan,Op...   \n",
       "3    Italian, Pizza, Canadian,Italian,Pizza,Canadian   \n",
       "4  Steakhouse, Bar, Canadian, American,American,S...   \n",
       "\n",
       "                              Meals                     Special Diets  \\\n",
       "0                              None                               NaN   \n",
       "1  Breakfast, Lunch, Dinner, Brunch  Breakfast, Lunch, Dinner, Brunch   \n",
       "2          Breakfast, Lunch, Brunch          Breakfast, Lunch, Brunch   \n",
       "3                     Lunch, Dinner                     Lunch, Dinner   \n",
       "4               Dinner, After-hours               Dinner, After-hours   \n",
       "\n",
       "  PRICE RANGE  \n",
       "0         NaN  \n",
       "1        None  \n",
       "2        None  \n",
       "3        None  \n",
       "4        None  \n",
       "\n",
       "[5 rows x 23 columns]"
      ]
     },
     "execution_count": 3,
     "metadata": {},
     "output_type": "execute_result"
    }
   ],
   "source": [
    "df = pd.read_csv('temp.csv')\n",
    "df.head()"
   ]
  },
  {
   "cell_type": "code",
   "execution_count": 4,
   "metadata": {},
   "outputs": [
    {
     "data": {
      "text/plain": [
       "Index(['Unnamed: 0', 'City_Name', 'Establishment_Type', 'Name', 'Rating',\n",
       "       'No_of_Reviews', 'Other_Ratings', 'Timings', 'Latitude', 'Longitude',\n",
       "       'Tags', 'Details', 'Rank', 'Range_n_Cuisine', 'Address', 'Contact_No',\n",
       "       'Changed_Tag', 'Range_Cuisine_new', 'Cuisine', 'Cuisines', 'Meals',\n",
       "       'Special Diets', 'PRICE RANGE'],\n",
       "      dtype='object')"
      ]
     },
     "execution_count": 4,
     "metadata": {},
     "output_type": "execute_result"
    }
   ],
   "source": [
    "df.columns"
   ]
  },
  {
   "cell_type": "code",
   "execution_count": 5,
   "metadata": {},
   "outputs": [],
   "source": [
    "col_to_remove = ['Unnamed: 0', 'Contact_No', 'Address']\n",
    "df = df.drop(columns=col_to_remove)"
   ]
  },
  {
   "cell_type": "code",
   "execution_count": 6,
   "metadata": {},
   "outputs": [],
   "source": [
    "from sklearn.preprocessing import LabelEncoder\n",
    "le = LabelEncoder()"
   ]
  },
  {
   "cell_type": "code",
   "execution_count": 7,
   "metadata": {},
   "outputs": [],
   "source": [
    "city = df['City_Name'].values\n",
    "city = le.fit_transform(city)\n",
    "\n",
    "df['City_Name'] = city"
   ]
  },
  {
   "cell_type": "code",
   "execution_count": 8,
   "metadata": {},
   "outputs": [],
   "source": [
    "type_ = df['Establishment_Type'].values\n",
    "type_ = le.fit_transform(city)\n",
    "\n",
    "df['Establishment_Type'] = type_"
   ]
  },
  {
   "cell_type": "code",
   "execution_count": 10,
   "metadata": {},
   "outputs": [],
   "source": [
    "rev = df['No_of_Reviews']\n",
    "rev = [locale.atoi(i) for i in rev]\n",
    "df['No_of_Reviews'] = rev"
   ]
  },
  {
   "cell_type": "code",
   "execution_count": 16,
   "metadata": {},
   "outputs": [],
   "source": [
    "import ast\n",
    "\n",
    "ratings = df['Other_Ratings']\n",
    "ratings[0]\n",
    "\n",
    "new_rating = []\n",
    "\n",
    "for rate in ratings:\n",
    "    res = ast.literal_eval(rate)\n",
    "    try:\n",
    "        new_rating.append(sum(res.values())/len(res))\n",
    "    except:\n",
    "        new_rating.append(0)"
   ]
  },
  {
   "cell_type": "code",
   "execution_count": 17,
   "metadata": {},
   "outputs": [],
   "source": [
    "df['Other_Ratings'] = new_rating"
   ]
  },
  {
   "cell_type": "code",
   "execution_count": 67,
   "metadata": {},
   "outputs": [
    {
     "name": "stderr",
     "output_type": "stream",
     "text": [
      "E:\\Anaconda\\lib\\site-packages\\IPython\\core\\interactiveshell.py:3071: DtypeWarning: Columns (38,43) have mixed types.Specify dtype option on import or set low_memory=False.\n",
      "  has_raised = await self.run_ast_nodes(code_ast.body, cell_name,\n"
     ]
    },
    {
     "data": {
      "text/html": [
       "<div>\n",
       "<style scoped>\n",
       "    .dataframe tbody tr th:only-of-type {\n",
       "        vertical-align: middle;\n",
       "    }\n",
       "\n",
       "    .dataframe tbody tr th {\n",
       "        vertical-align: top;\n",
       "    }\n",
       "\n",
       "    .dataframe thead th {\n",
       "        text-align: right;\n",
       "    }\n",
       "</style>\n",
       "<table border=\"1\" class=\"dataframe\">\n",
       "  <thead>\n",
       "    <tr style=\"text-align: right;\">\n",
       "      <th></th>\n",
       "      <th>Unnamed: 0</th>\n",
       "      <th>Name</th>\n",
       "      <th>Rating</th>\n",
       "      <th>No_of_Reviews</th>\n",
       "      <th>Latitude</th>\n",
       "      <th>Longitude</th>\n",
       "      <th>Price</th>\n",
       "      <th>day_a</th>\n",
       "      <th>day_a1</th>\n",
       "      <th>time_a</th>\n",
       "      <th>...</th>\n",
       "      <th>After-hours.3</th>\n",
       "      <th>Breakfast.3</th>\n",
       "      <th>Brunch.3</th>\n",
       "      <th>Dinner.3</th>\n",
       "      <th>Drinks.3</th>\n",
       "      <th>Lunch.3</th>\n",
       "      <th>After-hours.4</th>\n",
       "      <th>Dinner.4</th>\n",
       "      <th>Drinks.4</th>\n",
       "      <th>Lunch.4</th>\n",
       "    </tr>\n",
       "  </thead>\n",
       "  <tbody>\n",
       "    <tr>\n",
       "      <th>0</th>\n",
       "      <td>0</td>\n",
       "      <td>Freshii</td>\n",
       "      <td>3.5</td>\n",
       "      <td>9.0</td>\n",
       "      <td>49.036045</td>\n",
       "      <td>-122.293106</td>\n",
       "      <td>lowcost</td>\n",
       "      <td>1.0</td>\n",
       "      <td>5.0</td>\n",
       "      <td>7.0</td>\n",
       "      <td>...</td>\n",
       "      <td>0</td>\n",
       "      <td>0</td>\n",
       "      <td>0</td>\n",
       "      <td>0</td>\n",
       "      <td>0</td>\n",
       "      <td>0</td>\n",
       "      <td>0</td>\n",
       "      <td>0</td>\n",
       "      <td>0</td>\n",
       "      <td>0</td>\n",
       "    </tr>\n",
       "    <tr>\n",
       "      <th>1</th>\n",
       "      <td>1</td>\n",
       "      <td>Pantry Family Restaurant</td>\n",
       "      <td>4.0</td>\n",
       "      <td>10.0</td>\n",
       "      <td>49.049360</td>\n",
       "      <td>-122.312770</td>\n",
       "      <td>highcost</td>\n",
       "      <td>0.0</td>\n",
       "      <td>4.0</td>\n",
       "      <td>6.3</td>\n",
       "      <td>...</td>\n",
       "      <td>0</td>\n",
       "      <td>0</td>\n",
       "      <td>0</td>\n",
       "      <td>0</td>\n",
       "      <td>0</td>\n",
       "      <td>0</td>\n",
       "      <td>0</td>\n",
       "      <td>0</td>\n",
       "      <td>0</td>\n",
       "      <td>0</td>\n",
       "    </tr>\n",
       "    <tr>\n",
       "      <th>2</th>\n",
       "      <td>2</td>\n",
       "      <td>Townhall Public House Abbotsford</td>\n",
       "      <td>4.0</td>\n",
       "      <td>123.0</td>\n",
       "      <td>49.047710</td>\n",
       "      <td>-122.291150</td>\n",
       "      <td>highcost</td>\n",
       "      <td>0.0</td>\n",
       "      <td>NaN</td>\n",
       "      <td>10.0</td>\n",
       "      <td>...</td>\n",
       "      <td>0</td>\n",
       "      <td>0</td>\n",
       "      <td>0</td>\n",
       "      <td>0</td>\n",
       "      <td>0</td>\n",
       "      <td>0</td>\n",
       "      <td>0</td>\n",
       "      <td>0</td>\n",
       "      <td>0</td>\n",
       "      <td>0</td>\n",
       "    </tr>\n",
       "    <tr>\n",
       "      <th>3</th>\n",
       "      <td>3</td>\n",
       "      <td>Golden Dragon Restaurant</td>\n",
       "      <td>3.5</td>\n",
       "      <td>39.0</td>\n",
       "      <td>49.048800</td>\n",
       "      <td>-122.295150</td>\n",
       "      <td>highcost</td>\n",
       "      <td>0.0</td>\n",
       "      <td>1.0</td>\n",
       "      <td>11.3</td>\n",
       "      <td>...</td>\n",
       "      <td>0</td>\n",
       "      <td>0</td>\n",
       "      <td>0</td>\n",
       "      <td>0</td>\n",
       "      <td>0</td>\n",
       "      <td>0</td>\n",
       "      <td>0</td>\n",
       "      <td>0</td>\n",
       "      <td>0</td>\n",
       "      <td>0</td>\n",
       "    </tr>\n",
       "    <tr>\n",
       "      <th>4</th>\n",
       "      <td>4</td>\n",
       "      <td>Townline Taphouse &amp; Grill</td>\n",
       "      <td>1.0</td>\n",
       "      <td>1.0</td>\n",
       "      <td>49.068900</td>\n",
       "      <td>-122.358580</td>\n",
       "      <td>not_available</td>\n",
       "      <td>NaN</td>\n",
       "      <td>NaN</td>\n",
       "      <td>NaN</td>\n",
       "      <td>...</td>\n",
       "      <td>0</td>\n",
       "      <td>0</td>\n",
       "      <td>0</td>\n",
       "      <td>0</td>\n",
       "      <td>0</td>\n",
       "      <td>0</td>\n",
       "      <td>0</td>\n",
       "      <td>0</td>\n",
       "      <td>0</td>\n",
       "      <td>0</td>\n",
       "    </tr>\n",
       "    <tr>\n",
       "      <th>...</th>\n",
       "      <td>...</td>\n",
       "      <td>...</td>\n",
       "      <td>...</td>\n",
       "      <td>...</td>\n",
       "      <td>...</td>\n",
       "      <td>...</td>\n",
       "      <td>...</td>\n",
       "      <td>...</td>\n",
       "      <td>...</td>\n",
       "      <td>...</td>\n",
       "      <td>...</td>\n",
       "      <td>...</td>\n",
       "      <td>...</td>\n",
       "      <td>...</td>\n",
       "      <td>...</td>\n",
       "      <td>...</td>\n",
       "      <td>...</td>\n",
       "      <td>...</td>\n",
       "      <td>...</td>\n",
       "      <td>...</td>\n",
       "      <td>...</td>\n",
       "    </tr>\n",
       "    <tr>\n",
       "      <th>33277</th>\n",
       "      <td>33277</td>\n",
       "      <td>Mama Sita's Cafe</td>\n",
       "      <td>4.0</td>\n",
       "      <td>32.0</td>\n",
       "      <td>49.611073</td>\n",
       "      <td>-117.563180</td>\n",
       "      <td>highcost</td>\n",
       "      <td>0.0</td>\n",
       "      <td>6.0</td>\n",
       "      <td>7.0</td>\n",
       "      <td>...</td>\n",
       "      <td>0</td>\n",
       "      <td>0</td>\n",
       "      <td>1</td>\n",
       "      <td>0</td>\n",
       "      <td>0</td>\n",
       "      <td>0</td>\n",
       "      <td>0</td>\n",
       "      <td>0</td>\n",
       "      <td>0</td>\n",
       "      <td>0</td>\n",
       "    </tr>\n",
       "    <tr>\n",
       "      <th>33278</th>\n",
       "      <td>33278</td>\n",
       "      <td>Sleep is for Sissies</td>\n",
       "      <td>4.5</td>\n",
       "      <td>44.0</td>\n",
       "      <td>49.610270</td>\n",
       "      <td>-117.563780</td>\n",
       "      <td>highcost</td>\n",
       "      <td>NaN</td>\n",
       "      <td>NaN</td>\n",
       "      <td>NaN</td>\n",
       "      <td>...</td>\n",
       "      <td>0</td>\n",
       "      <td>0</td>\n",
       "      <td>0</td>\n",
       "      <td>0</td>\n",
       "      <td>0</td>\n",
       "      <td>0</td>\n",
       "      <td>0</td>\n",
       "      <td>0</td>\n",
       "      <td>0</td>\n",
       "      <td>0</td>\n",
       "    </tr>\n",
       "    <tr>\n",
       "      <th>33279</th>\n",
       "      <td>33279</td>\n",
       "      <td>Two Scoop Steve</td>\n",
       "      <td>4.5</td>\n",
       "      <td>27.0</td>\n",
       "      <td>49.080708</td>\n",
       "      <td>-116.103870</td>\n",
       "      <td>lowcost</td>\n",
       "      <td>0.0</td>\n",
       "      <td>4.0</td>\n",
       "      <td>10.0</td>\n",
       "      <td>...</td>\n",
       "      <td>0</td>\n",
       "      <td>0</td>\n",
       "      <td>0</td>\n",
       "      <td>0</td>\n",
       "      <td>0</td>\n",
       "      <td>0</td>\n",
       "      <td>0</td>\n",
       "      <td>0</td>\n",
       "      <td>0</td>\n",
       "      <td>0</td>\n",
       "    </tr>\n",
       "    <tr>\n",
       "      <th>33280</th>\n",
       "      <td>33280</td>\n",
       "      <td>Smoke'N'Jugz Roadhouse</td>\n",
       "      <td>4.5</td>\n",
       "      <td>19.0</td>\n",
       "      <td>49.085630</td>\n",
       "      <td>-116.089920</td>\n",
       "      <td>highcost</td>\n",
       "      <td>3.0</td>\n",
       "      <td>0.0</td>\n",
       "      <td>12.0</td>\n",
       "      <td>...</td>\n",
       "      <td>0</td>\n",
       "      <td>0</td>\n",
       "      <td>0</td>\n",
       "      <td>0</td>\n",
       "      <td>0</td>\n",
       "      <td>0</td>\n",
       "      <td>0</td>\n",
       "      <td>0</td>\n",
       "      <td>0</td>\n",
       "      <td>0</td>\n",
       "    </tr>\n",
       "    <tr>\n",
       "      <th>33281</th>\n",
       "      <td>33281</td>\n",
       "      <td>Woss Vegas Cafe</td>\n",
       "      <td>4.0</td>\n",
       "      <td>4.0</td>\n",
       "      <td>50.213120</td>\n",
       "      <td>-126.594600</td>\n",
       "      <td>not_available</td>\n",
       "      <td>NaN</td>\n",
       "      <td>NaN</td>\n",
       "      <td>NaN</td>\n",
       "      <td>...</td>\n",
       "      <td>0</td>\n",
       "      <td>0</td>\n",
       "      <td>0</td>\n",
       "      <td>0</td>\n",
       "      <td>0</td>\n",
       "      <td>0</td>\n",
       "      <td>0</td>\n",
       "      <td>0</td>\n",
       "      <td>0</td>\n",
       "      <td>0</td>\n",
       "    </tr>\n",
       "  </tbody>\n",
       "</table>\n",
       "<p>33282 rows × 550 columns</p>\n",
       "</div>"
      ],
      "text/plain": [
       "       Unnamed: 0                              Name  Rating  No_of_Reviews  \\\n",
       "0               0                           Freshii     3.5            9.0   \n",
       "1               1          Pantry Family Restaurant     4.0           10.0   \n",
       "2               2  Townhall Public House Abbotsford     4.0          123.0   \n",
       "3               3          Golden Dragon Restaurant     3.5           39.0   \n",
       "4               4         Townline Taphouse & Grill     1.0            1.0   \n",
       "...           ...                               ...     ...            ...   \n",
       "33277       33277                  Mama Sita's Cafe     4.0           32.0   \n",
       "33278       33278              Sleep is for Sissies     4.5           44.0   \n",
       "33279       33279                   Two Scoop Steve     4.5           27.0   \n",
       "33280       33280            Smoke'N'Jugz Roadhouse     4.5           19.0   \n",
       "33281       33281                   Woss Vegas Cafe     4.0            4.0   \n",
       "\n",
       "        Latitude   Longitude          Price  day_a  day_a1  time_a  ...  \\\n",
       "0      49.036045 -122.293106        lowcost    1.0     5.0     7.0  ...   \n",
       "1      49.049360 -122.312770       highcost    0.0     4.0     6.3  ...   \n",
       "2      49.047710 -122.291150       highcost    0.0     NaN    10.0  ...   \n",
       "3      49.048800 -122.295150       highcost    0.0     1.0    11.3  ...   \n",
       "4      49.068900 -122.358580  not_available    NaN     NaN     NaN  ...   \n",
       "...          ...         ...            ...    ...     ...     ...  ...   \n",
       "33277  49.611073 -117.563180       highcost    0.0     6.0     7.0  ...   \n",
       "33278  49.610270 -117.563780       highcost    NaN     NaN     NaN  ...   \n",
       "33279  49.080708 -116.103870        lowcost    0.0     4.0    10.0  ...   \n",
       "33280  49.085630 -116.089920       highcost    3.0     0.0    12.0  ...   \n",
       "33281  50.213120 -126.594600  not_available    NaN     NaN     NaN  ...   \n",
       "\n",
       "        After-hours.3   Breakfast.3   Brunch.3   Dinner.3   Drinks.3  \\\n",
       "0                   0             0          0          0          0   \n",
       "1                   0             0          0          0          0   \n",
       "2                   0             0          0          0          0   \n",
       "3                   0             0          0          0          0   \n",
       "4                   0             0          0          0          0   \n",
       "...               ...           ...        ...        ...        ...   \n",
       "33277               0             0          1          0          0   \n",
       "33278               0             0          0          0          0   \n",
       "33279               0             0          0          0          0   \n",
       "33280               0             0          0          0          0   \n",
       "33281               0             0          0          0          0   \n",
       "\n",
       "        Lunch.3   After-hours.4   Dinner.4   Drinks.4   Lunch.4  \n",
       "0             0               0          0          0         0  \n",
       "1             0               0          0          0         0  \n",
       "2             0               0          0          0         0  \n",
       "3             0               0          0          0         0  \n",
       "4             0               0          0          0         0  \n",
       "...         ...             ...        ...        ...       ...  \n",
       "33277         0               0          0          0         0  \n",
       "33278         0               0          0          0         0  \n",
       "33279         0               0          0          0         0  \n",
       "33280         0               0          0          0         0  \n",
       "33281         0               0          0          0         0  \n",
       "\n",
       "[33282 rows x 550 columns]"
      ]
     },
     "execution_count": 67,
     "metadata": {},
     "output_type": "execute_result"
    }
   ],
   "source": [
    "df2 = pd.read_csv('british_final3.csv')\n",
    "df2"
   ]
  },
  {
   "cell_type": "code",
   "execution_count": 68,
   "metadata": {},
   "outputs": [
    {
     "data": {
      "text/plain": [
       "550"
      ]
     },
     "execution_count": 68,
     "metadata": {},
     "output_type": "execute_result"
    }
   ],
   "source": [
    "cols = df2.columns\n",
    "len(cols)"
   ]
  },
  {
   "cell_type": "code",
   "execution_count": 82,
   "metadata": {},
   "outputs": [
    {
     "data": {
      "text/plain": [
       "Index(['Unnamed: 0', 'Name', 'Rating', 'No_of_Reviews', 'Latitude',\n",
       "       'Longitude', 'Price', 'day_a', 'day_a1', 'time_a', 'time_a1', 'time_a2',\n",
       "       'time_a3', 'day_b', 'day_b1', 'time_b', 'time_b1', 'time_b2', 'time_b3',\n",
       "       'day_c', 'day_c1', 'time_c', 'time_c1', 'time_c2', 'time_c3', 'day_d',\n",
       "       'day_d1', 'time_d', 'time_d1', 'time_d2', 'time_d3', 'day_e', 'day_e1',\n",
       "       'time_e', 'time_e1', 'time_e2', 'time_e3', 'day_f', 'day_f1', 'time_f',\n",
       "       'time_f1', 'City_encode', 'Est_code', 'Food', 'Service', 'Value',\n",
       "       'Atmosphere', 'Afghani', 'African', 'American', 'Arabic', 'Asian',\n",
       "       'Australian', 'Austrian', 'Bar', 'Barbecue', 'Beer restaurants',\n",
       "       'Belgian', 'Brazilian', 'Brew Pub', 'British', 'Cafe', 'Cajun & Creole',\n",
       "       'Canadian', 'Caribbean', 'Caucasian', 'Central European', 'Chinese',\n",
       "       'Colombian', 'Contemporary', 'Czech', 'Deli', 'Diner', 'Dining bars',\n",
       "       'Dutch', 'Eastern European', 'Ethiopian', 'European', 'Fast food',\n",
       "       'French', 'Fusion', 'Gastropub', 'German', 'Greek', 'Grill',\n",
       "       'Guatemalan', 'Hawaiian', 'Healthy', 'Indian', 'International', 'Irish',\n",
       "       'Israeli', 'Italian', 'Jamaican', 'Japanese', 'Korean', 'Latin',\n",
       "       'Lebanese', 'Malaysian', 'Mediterranean'],\n",
       "      dtype='object')"
      ]
     },
     "execution_count": 82,
     "metadata": {},
     "output_type": "execute_result"
    }
   ],
   "source": [
    "cols[:100]"
   ]
  },
  {
   "cell_type": "code",
   "execution_count": 70,
   "metadata": {},
   "outputs": [
    {
     "data": {
      "text/plain": [
       "0        3.5\n",
       "1        4.0\n",
       "2        4.0\n",
       "3        3.5\n",
       "4        1.0\n",
       "        ... \n",
       "33277    4.0\n",
       "33278    4.5\n",
       "33279    4.5\n",
       "33280    4.5\n",
       "33281    4.0\n",
       "Name: Rating, Length: 33282, dtype: float64"
      ]
     },
     "execution_count": 70,
     "metadata": {},
     "output_type": "execute_result"
    }
   ],
   "source": [
    "df2['Rating']"
   ]
  },
  {
   "cell_type": "code",
   "execution_count": null,
   "metadata": {},
   "outputs": [],
   "source": []
  },
  {
   "cell_type": "code",
   "execution_count": 71,
   "metadata": {},
   "outputs": [],
   "source": [
    "lat = df2['Latitude']\n",
    "lon = df2['Longitude']"
   ]
  },
  {
   "cell_type": "code",
   "execution_count": 72,
   "metadata": {},
   "outputs": [
    {
     "data": {
      "image/png": "[encoded data removed]",
      "text/plain": [
       "<Figure size 432x288 with 1 Axes>"
      ]
     },
     "metadata": {
      "needs_background": "light"
     },
     "output_type": "display_data"
    }
   ],
   "source": [
    "import matplotlib.pyplot as plt\n",
    "\n",
    "plt.scatter(lat, lon)\n",
    "plt.show()"
   ]
  },
  {
   "cell_type": "code",
   "execution_count": 74,
   "metadata": {},
   "outputs": [
    {
     "name": "stdout",
     "output_type": "stream",
     "text": [
      "19095\n"
     ]
    }
   ],
   "source": [
    "for i in range(lon.shape[0]):\n",
    "    if lon[i] > -80:\n",
    "        print(i)"
   ]
  },
  {
   "cell_type": "code",
   "execution_count": 76,
   "metadata": {},
   "outputs": [
    {
     "data": {
      "text/plain": [
       "<bound method NDFrame.describe of        Unnamed: 0                              Name  Rating  No_of_Reviews  \\\n",
       "0               0                           Freshii     3.5            9.0   \n",
       "1               1          Pantry Family Restaurant     4.0           10.0   \n",
       "2               2  Townhall Public House Abbotsford     4.0          123.0   \n",
       "3               3          Golden Dragon Restaurant     3.5           39.0   \n",
       "4               4         Townline Taphouse & Grill     1.0            1.0   \n",
       "...           ...                               ...     ...            ...   \n",
       "33277       33277                  Mama Sita's Cafe     4.0           32.0   \n",
       "33278       33278              Sleep is for Sissies     4.5           44.0   \n",
       "33279       33279                   Two Scoop Steve     4.5           27.0   \n",
       "33280       33280            Smoke'N'Jugz Roadhouse     4.5           19.0   \n",
       "33281       33281                   Woss Vegas Cafe     4.0            4.0   \n",
       "\n",
       "        Latitude   Longitude          Price  day_a  day_a1  time_a  ...  \\\n",
       "0      49.036045 -122.293106        lowcost    1.0     5.0     7.0  ...   \n",
       "1      49.049360 -122.312770       highcost    0.0     4.0     6.3  ...   \n",
       "2      49.047710 -122.291150       highcost    0.0     NaN    10.0  ...   \n",
       "3      49.048800 -122.295150       highcost    0.0     1.0    11.3  ...   \n",
       "4      49.068900 -122.358580  not_available    NaN     NaN     NaN  ...   \n",
       "...          ...         ...            ...    ...     ...     ...  ...   \n",
       "33277  49.611073 -117.563180       highcost    0.0     6.0     7.0  ...   \n",
       "33278  49.610270 -117.563780       highcost    NaN     NaN     NaN  ...   \n",
       "33279  49.080708 -116.103870        lowcost    0.0     4.0    10.0  ...   \n",
       "33280  49.085630 -116.089920       highcost    3.0     0.0    12.0  ...   \n",
       "33281  50.213120 -126.594600  not_available    NaN     NaN     NaN  ...   \n",
       "\n",
       "        After-hours.3   Breakfast.3   Brunch.3   Dinner.3   Drinks.3  \\\n",
       "0                   0             0          0          0          0   \n",
       "1                   0             0          0          0          0   \n",
       "2                   0             0          0          0          0   \n",
       "3                   0             0          0          0          0   \n",
       "4                   0             0          0          0          0   \n",
       "...               ...           ...        ...        ...        ...   \n",
       "33277               0             0          1          0          0   \n",
       "33278               0             0          0          0          0   \n",
       "33279               0             0          0          0          0   \n",
       "33280               0             0          0          0          0   \n",
       "33281               0             0          0          0          0   \n",
       "\n",
       "        Lunch.3   After-hours.4   Dinner.4   Drinks.4   Lunch.4  \n",
       "0             0               0          0          0         0  \n",
       "1             0               0          0          0         0  \n",
       "2             0               0          0          0         0  \n",
       "3             0               0          0          0         0  \n",
       "4             0               0          0          0         0  \n",
       "...         ...             ...        ...        ...       ...  \n",
       "33277         0               0          0          0         0  \n",
       "33278         0               0          0          0         0  \n",
       "33279         0               0          0          0         0  \n",
       "33280         0               0          0          0         0  \n",
       "33281         0               0          0          0         0  \n",
       "\n",
       "[33282 rows x 550 columns]>"
      ]
     },
     "execution_count": 76,
     "metadata": {},
     "output_type": "execute_result"
    }
   ],
   "source": [
    "df2.describe"
   ]
  },
  {
   "cell_type": "code",
   "execution_count": 87,
   "metadata": {},
   "outputs": [
    {
     "data": {
      "text/plain": [
       "array([3.5, 4. , 4. , 3.5, 1. , 3. , 4. , 4.5, 3.5, 3. ])"
      ]
     },
     "execution_count": 87,
     "metadata": {},
     "output_type": "execute_result"
    }
   ],
   "source": [
    "y = df2['Rating'].values\n",
    "y[:10]"
   ]
  },
  {
   "cell_type": "code",
   "execution_count": 162,
   "metadata": {},
   "outputs": [],
   "source": [
    "x = df2[['No_of_Reviews', 'Latitude', 'Longitude', 'Price', 'Est_code', 'Service', 'Value', 'Atmosphere']]"
   ]
  },
  {
   "cell_type": "code",
   "execution_count": 169,
   "metadata": {},
   "outputs": [
    {
     "data": {
      "text/plain": [
       "pandas.core.frame.DataFrame"
      ]
     },
     "execution_count": 169,
     "metadata": {},
     "output_type": "execute_result"
    }
   ],
   "source": [
    "type(x)"
   ]
  },
  {
   "cell_type": "code",
   "execution_count": 163,
   "metadata": {},
   "outputs": [
    {
     "data": {
      "text/plain": [
       "((33282, 8), (33282,))"
      ]
     },
     "execution_count": 163,
     "metadata": {},
     "output_type": "execute_result"
    }
   ],
   "source": [
    "x.shape, y.shape"
   ]
  },
  {
   "cell_type": "code",
   "execution_count": 164,
   "metadata": {},
   "outputs": [],
   "source": [
    "def imp_df(column_names, importances):\n",
    "    data = {\n",
    "        'Feature': column_names,\n",
    "        'Importance': importances,\n",
    "    }\n",
    "    df = pd.DataFrame(data) \\\n",
    "        .set_index('Feature') \\\n",
    "        .sort_values('Importance', ascending=False)\n",
    "\n",
    "    return df\n",
    "\n",
    "\n",
    "def r2(rf, X_train, y_train):\n",
    "    return r2_score(y_train, rf.predict(X_train))\n",
    "\n",
    "\n",
    "def drop_col_feat_imp(model, X_train, y_train, random_state=42):\n",
    "    model_clone = clone(model)\n",
    "    model_clone.random_state = random_state\n",
    "\n",
    "    model_clone.fit(X_train, y_train)\n",
    "    benchmark_score = model_clone.score(X_train, y_train)\n",
    "\n",
    "    importances = []\n",
    "\n",
    "    for col in X_train.columns:\n",
    "        model_clone = clone(model)\n",
    "        model_clone.random_state = random_state\n",
    "        model_clone.fit(X_train.drop(col, axis=1), y_train)\n",
    "        drop_col_score = model_clone.score(X_train.drop(col, axis=1), y_train)\n",
    "        importances.append(benchmark_score - drop_col_score)\n",
    "\n",
    "    return imp_df(X_train.columns, importances)"
   ]
  },
  {
   "cell_type": "code",
   "execution_count": 165,
   "metadata": {},
   "outputs": [],
   "source": [
    "from rfpimp import permutation_importances\n",
    "from sklearn.base import clone\n",
    "from sklearn.ensemble import RandomForestRegressor\n",
    "from sklearn.metrics import r2_score\n",
    "from sklearn.model_selection import train_test_split"
   ]
  },
  {
   "cell_type": "code",
   "execution_count": 166,
   "metadata": {},
   "outputs": [],
   "source": [
    "X_train, X_test, y_train, y_test = train_test_split(x, y, test_size=.33, random_state=0)"
   ]
  },
  {
   "cell_type": "code",
   "execution_count": 170,
   "metadata": {},
   "outputs": [
    {
     "data": {
      "text/plain": [
       "pandas.core.frame.DataFrame"
      ]
     },
     "execution_count": 170,
     "metadata": {},
     "output_type": "execute_result"
    }
   ],
   "source": [
    "type(X_train)"
   ]
  },
  {
   "cell_type": "code",
   "execution_count": 171,
   "metadata": {},
   "outputs": [
    {
     "name": "stdout",
     "output_type": "stream",
     "text": [
      "Random Forest Feature Importances:\n",
      "               Importance\n",
      "Feature                  \n",
      "Service          0.254763\n",
      "Latitude         0.240592\n",
      "Longitude        0.235122\n",
      "No_of_Reviews    0.128520\n",
      "Value            0.083210\n",
      "Price            0.027023\n",
      "Est_code         0.021607\n",
      "Atmosphere       0.009164\n",
      "\n",
      "Permutation Feature Importance:\n",
      "\n",
      "Drop-Col Feature Importance:\n",
      "               Importance\n",
      "Feature                  \n",
      "No_of_Reviews    0.015927\n",
      "Longitude        0.005043\n",
      "Latitude         0.004684\n",
      "Price            0.001582\n",
      "Value            0.001223\n",
      "Service          0.001155\n",
      "Atmosphere      -0.000228\n",
      "Est_code        -0.002598\n"
     ]
    }
   ],
   "source": [
    "rf = RandomForestRegressor(n_estimators=10).fit(X_train, y_train)\n",
    "print('Random Forest Feature Importances:')\n",
    "print(imp_df(x.columns, rf.feature_importances_))\n",
    "print()\n",
    "\n",
    "print('Permutation Feature Importance:')\n",
    "#print(permutation_importances(rf, X_train, y_train, r2))\n",
    "print()\n",
    "\n",
    "print('Drop-Col Feature Importance:')\n",
    "print(drop_col_feat_imp(rf, X_train, y_train))"
   ]
  },
  {
   "cell_type": "code",
   "execution_count": 148,
   "metadata": {},
   "outputs": [
    {
     "data": {
      "text/plain": [
       "array([   9.      ,   49.036045, -122.293106,    1.      ,    5.      ,\n",
       "          4.5     ,    0.      ,    0.      ])"
      ]
     },
     "execution_count": 148,
     "metadata": {},
     "output_type": "execute_result"
    }
   ],
   "source": [
    "x[0]"
   ]
  },
  {
   "cell_type": "code",
   "execution_count": 149,
   "metadata": {},
   "outputs": [
    {
     "data": {
      "text/plain": [
       "0        1\n",
       "1        0\n",
       "2        0\n",
       "3        0\n",
       "4        3\n",
       "        ..\n",
       "33277    0\n",
       "33278    0\n",
       "33279    1\n",
       "33280    0\n",
       "33281    3\n",
       "Name: Price, Length: 33282, dtype: int32"
      ]
     },
     "execution_count": 149,
     "metadata": {},
     "output_type": "execute_result"
    }
   ],
   "source": [
    "df2['Price']"
   ]
  },
  {
   "cell_type": "code",
   "execution_count": 122,
   "metadata": {},
   "outputs": [
    {
     "data": {
      "text/plain": [
       "array([1, 0, 0, ..., 1, 0, 3])"
      ]
     },
     "execution_count": 122,
     "metadata": {},
     "output_type": "execute_result"
    }
   ],
   "source": [
    "from sklearn.preprocessing import LabelEncoder\n",
    "le = LabelEncoder()\n",
    "\n",
    "val = le.fit_transform(df2['Price'])\n",
    "val"
   ]
  },
  {
   "cell_type": "code",
   "execution_count": 124,
   "metadata": {},
   "outputs": [
    {
     "data": {
      "text/plain": [
       "0        1\n",
       "1        0\n",
       "2        0\n",
       "3        0\n",
       "4        3\n",
       "        ..\n",
       "33277    0\n",
       "33278    0\n",
       "33279    1\n",
       "33280    0\n",
       "33281    3\n",
       "Name: Price, Length: 33282, dtype: int32"
      ]
     },
     "execution_count": 124,
     "metadata": {},
     "output_type": "execute_result"
    }
   ],
   "source": [
    "df2['Price'] = val\n",
    "df2['Price']"
   ]
  },
  {
   "cell_type": "code",
   "execution_count": 154,
   "metadata": {},
   "outputs": [],
   "source": [
    "df2['Price'] = df2['Price'].fillna(0)"
   ]
  },
  {
   "cell_type": "code",
   "execution_count": 177,
   "metadata": {},
   "outputs": [],
   "source": [
    "X = x"
   ]
  },
  {
   "cell_type": "code",
   "execution_count": 183,
   "metadata": {},
   "outputs": [
    {
     "name": "stderr",
     "output_type": "stream",
     "text": [
      "<ipython-input-183-19a71f92f3e3>:1: SettingWithCopyWarning: \n",
      "A value is trying to be set on a copy of a slice from a DataFrame.\n",
      "Try using .loc[row_indexer,col_indexer] = value instead\n",
      "\n",
      "See the caveats in the documentation: https://pandas.pydata.org/pandas-docs/stable/user_guide/indexing.html#returning-a-view-versus-a-copy\n",
      "  X['score'] = (\n"
     ]
    }
   ],
   "source": [
    "X['score'] = (\n",
    "    0.254763 * X['Service'] + \n",
    "    -1 * 0.240592 * X['Latitude'] + \n",
    "    -1 * 0.235122 * X['Longitude'] + \n",
    "    0.128520 * X['No_of_Reviews'] +\n",
    "    0.083210 * X['Value'] + \n",
    "    0.027023 * X['Price'] + \n",
    "    0.021607 * X['Est_code'] + \n",
    "    0.009164 * X['Atmosphere']\n",
    ")"
   ]
  },
  {
   "cell_type": "code",
   "execution_count": 184,
   "metadata": {},
   "outputs": [
    {
     "data": {
      "text/html": [
       "<div>\n",
       "<style scoped>\n",
       "    .dataframe tbody tr th:only-of-type {\n",
       "        vertical-align: middle;\n",
       "    }\n",
       "\n",
       "    .dataframe tbody tr th {\n",
       "        vertical-align: top;\n",
       "    }\n",
       "\n",
       "    .dataframe thead th {\n",
       "        text-align: right;\n",
       "    }\n",
       "</style>\n",
       "<table border=\"1\" class=\"dataframe\">\n",
       "  <thead>\n",
       "    <tr style=\"text-align: right;\">\n",
       "      <th></th>\n",
       "      <th>No_of_Reviews</th>\n",
       "      <th>Latitude</th>\n",
       "      <th>Longitude</th>\n",
       "      <th>Price</th>\n",
       "      <th>Est_code</th>\n",
       "      <th>Service</th>\n",
       "      <th>Value</th>\n",
       "      <th>Atmosphere</th>\n",
       "      <th>score</th>\n",
       "    </tr>\n",
       "  </thead>\n",
       "  <tbody>\n",
       "    <tr>\n",
       "      <th>0</th>\n",
       "      <td>9.0</td>\n",
       "      <td>49.036045</td>\n",
       "      <td>-122.293106</td>\n",
       "      <td>1</td>\n",
       "      <td>5</td>\n",
       "      <td>4.5</td>\n",
       "      <td>0.0</td>\n",
       "      <td>0.0</td>\n",
       "      <td>19.394291</td>\n",
       "    </tr>\n",
       "    <tr>\n",
       "      <th>1</th>\n",
       "      <td>10.0</td>\n",
       "      <td>49.049360</td>\n",
       "      <td>-122.312770</td>\n",
       "      <td>0</td>\n",
       "      <td>5</td>\n",
       "      <td>0.0</td>\n",
       "      <td>0.0</td>\n",
       "      <td>0.0</td>\n",
       "      <td>18.350774</td>\n",
       "    </tr>\n",
       "    <tr>\n",
       "      <th>2</th>\n",
       "      <td>123.0</td>\n",
       "      <td>49.047710</td>\n",
       "      <td>-122.291150</td>\n",
       "      <td>0</td>\n",
       "      <td>5</td>\n",
       "      <td>4.0</td>\n",
       "      <td>3.5</td>\n",
       "      <td>4.0</td>\n",
       "      <td>34.215791</td>\n",
       "    </tr>\n",
       "    <tr>\n",
       "      <th>3</th>\n",
       "      <td>39.0</td>\n",
       "      <td>49.048800</td>\n",
       "      <td>-122.295150</td>\n",
       "      <td>0</td>\n",
       "      <td>5</td>\n",
       "      <td>3.5</td>\n",
       "      <td>4.0</td>\n",
       "      <td>4.0</td>\n",
       "      <td>23.335013</td>\n",
       "    </tr>\n",
       "    <tr>\n",
       "      <th>4</th>\n",
       "      <td>1.0</td>\n",
       "      <td>49.068900</td>\n",
       "      <td>-122.358580</td>\n",
       "      <td>3</td>\n",
       "      <td>5</td>\n",
       "      <td>0.0</td>\n",
       "      <td>0.0</td>\n",
       "      <td>0.0</td>\n",
       "      <td>17.281233</td>\n",
       "    </tr>\n",
       "  </tbody>\n",
       "</table>\n",
       "</div>"
      ],
      "text/plain": [
       "   No_of_Reviews   Latitude   Longitude  Price  Est_code  Service  Value  \\\n",
       "0            9.0  49.036045 -122.293106      1         5      4.5    0.0   \n",
       "1           10.0  49.049360 -122.312770      0         5      0.0    0.0   \n",
       "2          123.0  49.047710 -122.291150      0         5      4.0    3.5   \n",
       "3           39.0  49.048800 -122.295150      0         5      3.5    4.0   \n",
       "4            1.0  49.068900 -122.358580      3         5      0.0    0.0   \n",
       "\n",
       "   Atmosphere      score  \n",
       "0         0.0  19.394291  \n",
       "1         0.0  18.350774  \n",
       "2         4.0  34.215791  \n",
       "3         4.0  23.335013  \n",
       "4         0.0  17.281233  "
      ]
     },
     "execution_count": 184,
     "metadata": {},
     "output_type": "execute_result"
    }
   ],
   "source": [
    "X.head()    "
   ]
  },
  {
   "cell_type": "code",
   "execution_count": 185,
   "metadata": {},
   "outputs": [
    {
     "data": {
      "text/plain": [
       "<matplotlib.axes._subplots.AxesSubplot at 0x27593c9aeb0>"
      ]
     },
     "execution_count": 185,
     "metadata": {},
     "output_type": "execute_result"
    },
    {
     "data": {
      "image/png": "[encoded data removed]",
      "text/plain": [
       "<Figure size 648x432 with 1 Axes>"
      ]
     },
     "metadata": {
      "needs_background": "light"
     },
     "output_type": "display_data"
    }
   ],
   "source": [
    "import matplotlib.pyplot as plt\n",
    "import seaborn as sns\n",
    "plt.figure(figsize=(9, 6))\n",
    "sns.distplot(x['score'])\n",
    "#plt.axvline(18000, color='r');"
   ]
  },
  {
   "cell_type": "code",
   "execution_count": 206,
   "metadata": {
    "scrolled": false
   },
   "outputs": [
    {
     "data": {
      "text/plain": [
       "0        19.394291\n",
       "1        18.350774\n",
       "2        34.215791\n",
       "3        23.335013\n",
       "4        17.281233\n",
       "           ...    \n",
       "33277    21.278230\n",
       "33278    22.862042\n",
       "33279    20.743506\n",
       "33280    19.683859\n",
       "33281    18.387485\n",
       "Name: score, Length: 33282, dtype: float64"
      ]
     },
     "execution_count": 206,
     "metadata": {},
     "output_type": "execute_result"
    }
   ],
   "source": [
    "x['score']"
   ]
  },
  {
   "cell_type": "code",
   "execution_count": 226,
   "metadata": {},
   "outputs": [
    {
     "data": {
      "text/plain": [
       "Unnamed: 0                               1\n",
       "Name              Pantry Family Restaurant\n",
       "Rating                                   4\n",
       "No_of_Reviews                           10\n",
       "Latitude                           49.0494\n",
       "                            ...           \n",
       " Lunch.3                                 0\n",
       " After-hours.4                           0\n",
       " Dinner.4                                0\n",
       " Drinks.4                                0\n",
       " Lunch.4                                 0\n",
       "Name: 1, Length: 550, dtype: object"
      ]
     },
     "execution_count": 226,
     "metadata": {},
     "output_type": "execute_result"
    }
   ],
   "source": [
    "df2.iloc[1]"
   ]
  },
  {
   "cell_type": "code",
   "execution_count": 225,
   "metadata": {},
   "outputs": [
    {
     "data": {
      "text/plain": [
       "Unnamed: 0                  33281\n",
       "Name              Woss Vegas Cafe\n",
       "Rating                          4\n",
       "No_of_Reviews                   4\n",
       "Latitude                  50.2131\n",
       "                       ...       \n",
       " Lunch.3                        0\n",
       " After-hours.4                  0\n",
       " Dinner.4                       0\n",
       " Drinks.4                       0\n",
       " Lunch.4                        0\n",
       "Name: 33281, Length: 550, dtype: object"
      ]
     },
     "execution_count": 225,
     "metadata": {},
     "output_type": "execute_result"
    }
   ],
   "source": [
    "df2.iloc[33281]"
   ]
  },
  {
   "cell_type": "code",
   "execution_count": 222,
   "metadata": {},
   "outputs": [
    {
     "data": {
      "text/plain": [
       "time_f1         NaN\n",
       "City_encode       3\n",
       "Est_code          5\n",
       "Food            4.0\n",
       "Service         4.5\n",
       "Name: 0, dtype: object"
      ]
     },
     "execution_count": 222,
     "metadata": {},
     "output_type": "execute_result"
    }
   ],
   "source": [
    "df2.iloc[0][40:45]"
   ]
  },
  {
   "cell_type": "code",
   "execution_count": 221,
   "metadata": {},
   "outputs": [
    {
     "data": {
      "text/plain": [
       "time_f1         NaN\n",
       "City_encode     303\n",
       "Est_code          5\n",
       "Food            4.5\n",
       "Service           5\n",
       "Name: 33280, dtype: object"
      ]
     },
     "execution_count": 221,
     "metadata": {},
     "output_type": "execute_result"
    }
   ],
   "source": [
    "df2.iloc[33280][40:45]"
   ]
  },
  {
   "cell_type": "code",
   "execution_count": null,
   "metadata": {},
   "outputs": [],
   "source": []
  },
  {
   "cell_type": "code",
   "execution_count": null,
   "metadata": {},
   "outputs": [],
   "source": []
  },
  {
   "cell_type": "code",
   "execution_count": null,
   "metadata": {},
   "outputs": [],
   "source": []
  }
 ],
 "metadata": {
  "kernelspec": {
   "display_name": "Python 3",
   "language": "python",
   "name": "python3"
  },
  "language_info": {
   "codemirror_mode": {
    "name": "ipython",
    "version": 3
   },
   "file_extension": ".py",
   "mimetype": "text/x-python",
   "name": "python",
   "nbconvert_exporter": "python",
   "pygments_lexer": "ipython3",
   "version": "3.8.3"
  }
 },
 "nbformat": 4,
 "nbformat_minor": 4
}
