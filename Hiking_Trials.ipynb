{
 "cells": [
  {
   "cell_type": "code",
   "execution_count": 1,
   "metadata": {},
   "outputs": [],
   "source": [
    "import requests\n",
    "from bs4 import BeautifulSoup as bs\n",
    "from selenium import webdriver\n",
    "import time\n",
    "import pandas as pd"
   ]
  },
  {
   "cell_type": "code",
   "execution_count": 10,
   "metadata": {},
   "outputs": [],
   "source": [
    "url = \"https://www.alltrails.com/trail/canada/british-columbia/deas-island?ref=result-card\"\n",
    "content = requests.get(url)\n",
    "soup  = bs(content.text,'html.parser')"
   ]
  },
  {
   "cell_type": "code",
   "execution_count": 3,
   "metadata": {},
   "outputs": [],
   "source": [
    "total = soup.find('div',class_=\"styles-module__title___3d5Lq fontStyles-module__title1___IMFmL\")"
   ]
  },
  {
   "cell_type": "code",
   "execution_count": 12,
   "metadata": {},
   "outputs": [],
   "source": [
    "#num_of_trials= total.text.split('(')[1].split(')')[0]"
   ]
  },
  {
   "cell_type": "code",
   "execution_count": 11,
   "metadata": {},
   "outputs": [],
   "source": [
    "path_chrome = r\"C:\\Users\\Lenovo\\chromedriver\"\n",
    "driver = webdriver.Chrome(path_chrome)\n",
    "driver.get(url)\n",
    "\n"
   ]
  },
  {
   "cell_type": "code",
   "execution_count": 12,
   "metadata": {},
   "outputs": [],
   "source": [
    "driver.find_element_by_xpath('//*[@id=\"main-action-bar\"]/ul/li[1]/a/div/div').click()\n",
    "time.sleep(3)\n",
    "\n",
    "soup = bs(driver.page_source, 'html.parser')\n",
    "imgs = soup.find_all('a', class_='photo-item gallery sm')\n",
    "if(len(imgs) > 5):\n",
    "    imgs = imgs[:5]\n",
    "\n",
    "img_links = []\n",
    "for i in imgs:\n",
    "    img_links.append(i['href'])\n"
   ]
  },
  {
   "cell_type": "code",
   "execution_count": 16,
   "metadata": {},
   "outputs": [],
   "source": [
    "soup = bs(driver.page_source, 'html.parser')\n",
    "imgs = soup.find_all('a', class_='photo-item gallery sm')\n",
    "if(len(imgs) > 5):\n",
    "    imgs = imgs[:5]"
   ]
  },
  {
   "cell_type": "code",
   "execution_count": 19,
   "metadata": {},
   "outputs": [
    {
     "data": {
      "text/plain": [
       "['https://cdn-assets.alltrails.com/uploads/photo/image/11112551/extra_large_1b91014b504b5a6348fdce1e60857402.jpg',\n",
       " 'https://cdn-assets.alltrails.com/uploads/photo/image/31399200/extra_large_b744beeae207921ded14bd2296a2f5d4.jpg',\n",
       " 'https://cdn-assets.alltrails.com/uploads/photo/image/31071332/extra_large_792526cd3aa0c74cebc71c7f4c5b722b.jpg',\n",
       " 'https://cdn-assets.alltrails.com/uploads/photo/image/31071334/extra_large_4c1c78066f01629ba66eca765fe95ffb.jpg',\n",
       " 'https://cdn-assets.alltrails.com/uploads/photo/image/31005291/extra_large_d834613dbc6acce5a2c198249647da9c.jpg']"
      ]
     },
     "execution_count": 19,
     "metadata": {},
     "output_type": "execute_result"
    }
   ],
   "source": [
    "links = []\n",
    "for i in imgs:\n",
    "    links.append(i['href'])\n",
    "\n",
    "links"
   ]
  },
  {
   "cell_type": "code",
   "execution_count": null,
   "metadata": {},
   "outputs": [],
   "source": []
  },
  {
   "cell_type": "code",
   "execution_count": null,
   "metadata": {},
   "outputs": [],
   "source": []
  },
  {
   "cell_type": "code",
   "execution_count": null,
   "metadata": {},
   "outputs": [],
   "source": []
  },
  {
   "cell_type": "code",
   "execution_count": null,
   "metadata": {},
   "outputs": [],
   "source": []
  },
  {
   "cell_type": "code",
   "execution_count": null,
   "metadata": {},
   "outputs": [],
   "source": []
  },
  {
   "cell_type": "code",
   "execution_count": null,
   "metadata": {},
   "outputs": [],
   "source": []
  },
  {
   "cell_type": "code",
   "execution_count": null,
   "metadata": {},
   "outputs": [],
   "source": []
  },
  {
   "cell_type": "code",
   "execution_count": 50,
   "metadata": {
    "scrolled": true
   },
   "outputs": [
    {
     "data": {
      "text/plain": [
       "45"
      ]
     },
     "execution_count": 50,
     "metadata": {},
     "output_type": "execute_result"
    }
   ],
   "source": [
    "len(trial_links)"
   ]
  },
  {
   "cell_type": "code",
   "execution_count": 51,
   "metadata": {},
   "outputs": [],
   "source": [
    "# alltrails = dict()\n",
    "# alltrails['Easy'] = dict()\n",
    "# alltrails['Hard'] = dict()\n",
    "alltrails['Hard']['Point to Point'] = trial_links"
   ]
  },
  {
   "cell_type": "code",
   "execution_count": 52,
   "metadata": {},
   "outputs": [
    {
     "data": {
      "text/plain": [
       "dict_keys(['Loop', 'Out n Back', 'Point to Point'])"
      ]
     },
     "execution_count": 52,
     "metadata": {},
     "output_type": "execute_result"
    }
   ],
   "source": [
    "alltrails[\"Hard\"].keys()"
   ]
  },
  {
   "cell_type": "code",
   "execution_count": 61,
   "metadata": {},
   "outputs": [
    {
     "ename": "TypeError",
     "evalue": "'dict_values' object is not subscriptable",
     "output_type": "error",
     "traceback": [
      "\u001b[1;31m---------------------------------------------------------------------------\u001b[0m",
      "\u001b[1;31mTypeError\u001b[0m                                 Traceback (most recent call last)",
      "\u001b[1;32m<ipython-input-61-3b802e5f612e>\u001b[0m in \u001b[0;36m<module>\u001b[1;34m\u001b[0m\n\u001b[0;32m      1\u001b[0m \u001b[0mx\u001b[0m \u001b[1;33m=\u001b[0m \u001b[0malltrails\u001b[0m\u001b[1;33m[\u001b[0m\u001b[1;34m'Easy'\u001b[0m\u001b[1;33m]\u001b[0m\u001b[1;33m.\u001b[0m\u001b[0mvalues\u001b[0m\u001b[1;33m(\u001b[0m\u001b[1;33m)\u001b[0m\u001b[1;33m\u001b[0m\u001b[1;33m\u001b[0m\u001b[0m\n\u001b[1;32m----> 2\u001b[1;33m \u001b[0mx\u001b[0m\u001b[1;33m[\u001b[0m\u001b[1;36m0\u001b[0m\u001b[1;33m]\u001b[0m\u001b[1;33m\u001b[0m\u001b[1;33m\u001b[0m\u001b[0m\n\u001b[0m",
      "\u001b[1;31mTypeError\u001b[0m: 'dict_values' object is not subscriptable"
     ]
    }
   ],
   "source": [
    "easy = []\n",
    "for i in list(alltrails['Easy'].keys()):\n",
    "    easy.append(alltrails['Easy'][i])\n",
    "\n",
    "medium = "
   ]
  },
  {
   "cell_type": "code",
   "execution_count": 4,
   "metadata": {},
   "outputs": [
    {
     "data": {
      "text/html": [
       "<div>\n",
       "<style scoped>\n",
       "    .dataframe tbody tr th:only-of-type {\n",
       "        vertical-align: middle;\n",
       "    }\n",
       "\n",
       "    .dataframe tbody tr th {\n",
       "        vertical-align: top;\n",
       "    }\n",
       "\n",
       "    .dataframe thead th {\n",
       "        text-align: right;\n",
       "    }\n",
       "</style>\n",
       "<table border=\"1\" class=\"dataframe\">\n",
       "  <thead>\n",
       "    <tr style=\"text-align: right;\">\n",
       "      <th></th>\n",
       "      <th>Easy</th>\n",
       "      <th>Moderate</th>\n",
       "      <th>Hard</th>\n",
       "    </tr>\n",
       "  </thead>\n",
       "  <tbody>\n",
       "    <tr>\n",
       "      <th>Loop</th>\n",
       "      <td>[https://www.alltrails.com/trail/canada/britis...</td>\n",
       "      <td>[https://www.alltrails.com/trail/canada/britis...</td>\n",
       "      <td>[https://www.alltrails.com/trail/canada/britis...</td>\n",
       "    </tr>\n",
       "    <tr>\n",
       "      <th>Out n Back</th>\n",
       "      <td>[https://www.alltrails.com/trail/canada/britis...</td>\n",
       "      <td>[https://www.alltrails.com/trail/canada/britis...</td>\n",
       "      <td>[https://www.alltrails.com/trail/canada/britis...</td>\n",
       "    </tr>\n",
       "    <tr>\n",
       "      <th>Point to Point</th>\n",
       "      <td>[https://www.alltrails.com/trail/canada/britis...</td>\n",
       "      <td>[https://www.alltrails.com/trail/canada/britis...</td>\n",
       "      <td>[https://www.alltrails.com/trail/canada/britis...</td>\n",
       "    </tr>\n",
       "  </tbody>\n",
       "</table>\n",
       "</div>"
      ],
      "text/plain": [
       "                                                             Easy  \\\n",
       "Loop            [https://www.alltrails.com/trail/canada/britis...   \n",
       "Out n Back      [https://www.alltrails.com/trail/canada/britis...   \n",
       "Point to Point  [https://www.alltrails.com/trail/canada/britis...   \n",
       "\n",
       "                                                         Moderate  \\\n",
       "Loop            [https://www.alltrails.com/trail/canada/britis...   \n",
       "Out n Back      [https://www.alltrails.com/trail/canada/britis...   \n",
       "Point to Point  [https://www.alltrails.com/trail/canada/britis...   \n",
       "\n",
       "                                                             Hard  \n",
       "Loop            [https://www.alltrails.com/trail/canada/britis...  \n",
       "Out n Back      [https://www.alltrails.com/trail/canada/britis...  \n",
       "Point to Point  [https://www.alltrails.com/trail/canada/britis...  "
      ]
     },
     "execution_count": 4,
     "metadata": {},
     "output_type": "execute_result"
    }
   ],
   "source": [
    "df = pd.DataFrame.from_dict(alltrails)\n",
    "df"
   ]
  },
  {
   "cell_type": "code",
   "execution_count": 43,
   "metadata": {},
   "outputs": [],
   "source": [
    "#data = []\n",
    "\n",
    "x = df['Hard']['Point to Point']\n",
    "for i in x:\n",
    "    data.append([i, 'Hard', 'Point to Point'])"
   ]
  },
  {
   "cell_type": "code",
   "execution_count": 44,
   "metadata": {},
   "outputs": [
    {
     "data": {
      "text/plain": [
       "3244"
      ]
     },
     "execution_count": 44,
     "metadata": {},
     "output_type": "execute_result"
    }
   ],
   "source": [
    "len(data)"
   ]
  },
  {
   "cell_type": "code",
   "execution_count": 45,
   "metadata": {},
   "outputs": [
    {
     "data": {
      "text/html": [
       "<div>\n",
       "<style scoped>\n",
       "    .dataframe tbody tr th:only-of-type {\n",
       "        vertical-align: middle;\n",
       "    }\n",
       "\n",
       "    .dataframe tbody tr th {\n",
       "        vertical-align: top;\n",
       "    }\n",
       "\n",
       "    .dataframe thead th {\n",
       "        text-align: right;\n",
       "    }\n",
       "</style>\n",
       "<table border=\"1\" class=\"dataframe\">\n",
       "  <thead>\n",
       "    <tr style=\"text-align: right;\">\n",
       "      <th></th>\n",
       "      <th>Links</th>\n",
       "      <th>Difficulty</th>\n",
       "      <th>Track</th>\n",
       "    </tr>\n",
       "  </thead>\n",
       "  <tbody>\n",
       "    <tr>\n",
       "      <th>0</th>\n",
       "      <td>https://www.alltrails.com/trail/canada/british...</td>\n",
       "      <td>Easy</td>\n",
       "      <td>Loop</td>\n",
       "    </tr>\n",
       "    <tr>\n",
       "      <th>1</th>\n",
       "      <td>https://www.alltrails.com/trail/canada/british...</td>\n",
       "      <td>Easy</td>\n",
       "      <td>Loop</td>\n",
       "    </tr>\n",
       "    <tr>\n",
       "      <th>2</th>\n",
       "      <td>https://www.alltrails.com/trail/canada/british...</td>\n",
       "      <td>Easy</td>\n",
       "      <td>Loop</td>\n",
       "    </tr>\n",
       "    <tr>\n",
       "      <th>3</th>\n",
       "      <td>https://www.alltrails.com/trail/canada/british...</td>\n",
       "      <td>Easy</td>\n",
       "      <td>Loop</td>\n",
       "    </tr>\n",
       "    <tr>\n",
       "      <th>4</th>\n",
       "      <td>https://www.alltrails.com/trail/canada/british...</td>\n",
       "      <td>Easy</td>\n",
       "      <td>Loop</td>\n",
       "    </tr>\n",
       "    <tr>\n",
       "      <th>...</th>\n",
       "      <td>...</td>\n",
       "      <td>...</td>\n",
       "      <td>...</td>\n",
       "    </tr>\n",
       "    <tr>\n",
       "      <th>3239</th>\n",
       "      <td>https://www.alltrails.com/trail/canada/british...</td>\n",
       "      <td>Hard</td>\n",
       "      <td>Point to Point</td>\n",
       "    </tr>\n",
       "    <tr>\n",
       "      <th>3240</th>\n",
       "      <td>https://www.alltrails.com/trail/canada/british...</td>\n",
       "      <td>Hard</td>\n",
       "      <td>Point to Point</td>\n",
       "    </tr>\n",
       "    <tr>\n",
       "      <th>3241</th>\n",
       "      <td>https://www.alltrails.com/trail/canada/british...</td>\n",
       "      <td>Hard</td>\n",
       "      <td>Point to Point</td>\n",
       "    </tr>\n",
       "    <tr>\n",
       "      <th>3242</th>\n",
       "      <td>https://www.alltrails.com/trail/canada/british...</td>\n",
       "      <td>Hard</td>\n",
       "      <td>Point to Point</td>\n",
       "    </tr>\n",
       "    <tr>\n",
       "      <th>3243</th>\n",
       "      <td>https://www.alltrails.com/trail/canada/british...</td>\n",
       "      <td>Hard</td>\n",
       "      <td>Point to Point</td>\n",
       "    </tr>\n",
       "  </tbody>\n",
       "</table>\n",
       "<p>3244 rows × 3 columns</p>\n",
       "</div>"
      ],
      "text/plain": [
       "                                                  Links Difficulty  \\\n",
       "0     https://www.alltrails.com/trail/canada/british...       Easy   \n",
       "1     https://www.alltrails.com/trail/canada/british...       Easy   \n",
       "2     https://www.alltrails.com/trail/canada/british...       Easy   \n",
       "3     https://www.alltrails.com/trail/canada/british...       Easy   \n",
       "4     https://www.alltrails.com/trail/canada/british...       Easy   \n",
       "...                                                 ...        ...   \n",
       "3239  https://www.alltrails.com/trail/canada/british...       Hard   \n",
       "3240  https://www.alltrails.com/trail/canada/british...       Hard   \n",
       "3241  https://www.alltrails.com/trail/canada/british...       Hard   \n",
       "3242  https://www.alltrails.com/trail/canada/british...       Hard   \n",
       "3243  https://www.alltrails.com/trail/canada/british...       Hard   \n",
       "\n",
       "               Track  \n",
       "0               Loop  \n",
       "1               Loop  \n",
       "2               Loop  \n",
       "3               Loop  \n",
       "4               Loop  \n",
       "...              ...  \n",
       "3239  Point to Point  \n",
       "3240  Point to Point  \n",
       "3241  Point to Point  \n",
       "3242  Point to Point  \n",
       "3243  Point to Point  \n",
       "\n",
       "[3244 rows x 3 columns]"
      ]
     },
     "execution_count": 45,
     "metadata": {},
     "output_type": "execute_result"
    }
   ],
   "source": [
    "df = pd.DataFrame(data, columns=['Links', 'Difficulty', 'Track'])\n",
    "df.dro"
   ]
  },
  {
   "cell_type": "code",
   "execution_count": 49,
   "metadata": {},
   "outputs": [],
   "source": [
    "df.to_csv('links.csv', index=False)"
   ]
  },
  {
   "cell_type": "code",
   "execution_count": 50,
   "metadata": {},
   "outputs": [
    {
     "data": {
      "text/html": [
       "<div>\n",
       "<style scoped>\n",
       "    .dataframe tbody tr th:only-of-type {\n",
       "        vertical-align: middle;\n",
       "    }\n",
       "\n",
       "    .dataframe tbody tr th {\n",
       "        vertical-align: top;\n",
       "    }\n",
       "\n",
       "    .dataframe thead th {\n",
       "        text-align: right;\n",
       "    }\n",
       "</style>\n",
       "<table border=\"1\" class=\"dataframe\">\n",
       "  <thead>\n",
       "    <tr style=\"text-align: right;\">\n",
       "      <th></th>\n",
       "      <th>Links</th>\n",
       "      <th>Difficulty</th>\n",
       "      <th>Track</th>\n",
       "    </tr>\n",
       "  </thead>\n",
       "  <tbody>\n",
       "    <tr>\n",
       "      <th>0</th>\n",
       "      <td>https://www.alltrails.com/trail/canada/british...</td>\n",
       "      <td>Easy</td>\n",
       "      <td>Loop</td>\n",
       "    </tr>\n",
       "    <tr>\n",
       "      <th>1</th>\n",
       "      <td>https://www.alltrails.com/trail/canada/british...</td>\n",
       "      <td>Easy</td>\n",
       "      <td>Loop</td>\n",
       "    </tr>\n",
       "    <tr>\n",
       "      <th>2</th>\n",
       "      <td>https://www.alltrails.com/trail/canada/british...</td>\n",
       "      <td>Easy</td>\n",
       "      <td>Loop</td>\n",
       "    </tr>\n",
       "    <tr>\n",
       "      <th>3</th>\n",
       "      <td>https://www.alltrails.com/trail/canada/british...</td>\n",
       "      <td>Easy</td>\n",
       "      <td>Loop</td>\n",
       "    </tr>\n",
       "    <tr>\n",
       "      <th>4</th>\n",
       "      <td>https://www.alltrails.com/trail/canada/british...</td>\n",
       "      <td>Easy</td>\n",
       "      <td>Loop</td>\n",
       "    </tr>\n",
       "    <tr>\n",
       "      <th>...</th>\n",
       "      <td>...</td>\n",
       "      <td>...</td>\n",
       "      <td>...</td>\n",
       "    </tr>\n",
       "    <tr>\n",
       "      <th>3239</th>\n",
       "      <td>https://www.alltrails.com/trail/canada/british...</td>\n",
       "      <td>Hard</td>\n",
       "      <td>Point to Point</td>\n",
       "    </tr>\n",
       "    <tr>\n",
       "      <th>3240</th>\n",
       "      <td>https://www.alltrails.com/trail/canada/british...</td>\n",
       "      <td>Hard</td>\n",
       "      <td>Point to Point</td>\n",
       "    </tr>\n",
       "    <tr>\n",
       "      <th>3241</th>\n",
       "      <td>https://www.alltrails.com/trail/canada/british...</td>\n",
       "      <td>Hard</td>\n",
       "      <td>Point to Point</td>\n",
       "    </tr>\n",
       "    <tr>\n",
       "      <th>3242</th>\n",
       "      <td>https://www.alltrails.com/trail/canada/british...</td>\n",
       "      <td>Hard</td>\n",
       "      <td>Point to Point</td>\n",
       "    </tr>\n",
       "    <tr>\n",
       "      <th>3243</th>\n",
       "      <td>https://www.alltrails.com/trail/canada/british...</td>\n",
       "      <td>Hard</td>\n",
       "      <td>Point to Point</td>\n",
       "    </tr>\n",
       "  </tbody>\n",
       "</table>\n",
       "<p>3244 rows × 3 columns</p>\n",
       "</div>"
      ],
      "text/plain": [
       "                                                  Links Difficulty  \\\n",
       "0     https://www.alltrails.com/trail/canada/british...       Easy   \n",
       "1     https://www.alltrails.com/trail/canada/british...       Easy   \n",
       "2     https://www.alltrails.com/trail/canada/british...       Easy   \n",
       "3     https://www.alltrails.com/trail/canada/british...       Easy   \n",
       "4     https://www.alltrails.com/trail/canada/british...       Easy   \n",
       "...                                                 ...        ...   \n",
       "3239  https://www.alltrails.com/trail/canada/british...       Hard   \n",
       "3240  https://www.alltrails.com/trail/canada/british...       Hard   \n",
       "3241  https://www.alltrails.com/trail/canada/british...       Hard   \n",
       "3242  https://www.alltrails.com/trail/canada/british...       Hard   \n",
       "3243  https://www.alltrails.com/trail/canada/british...       Hard   \n",
       "\n",
       "               Track  \n",
       "0               Loop  \n",
       "1               Loop  \n",
       "2               Loop  \n",
       "3               Loop  \n",
       "4               Loop  \n",
       "...              ...  \n",
       "3239  Point to Point  \n",
       "3240  Point to Point  \n",
       "3241  Point to Point  \n",
       "3242  Point to Point  \n",
       "3243  Point to Point  \n",
       "\n",
       "[3244 rows x 3 columns]"
      ]
     },
     "execution_count": 50,
     "metadata": {},
     "output_type": "execute_result"
    }
   ],
   "source": [
    "df1 = pd.read_csv('links.csv')\n",
    "df1"
   ]
  },
  {
   "cell_type": "code",
   "execution_count": null,
   "metadata": {},
   "outputs": [],
   "source": []
  },
  {
   "cell_type": "code",
   "execution_count": null,
   "metadata": {},
   "outputs": [],
   "source": []
  },
  {
   "cell_type": "code",
   "execution_count": null,
   "metadata": {},
   "outputs": [],
   "source": []
  },
  {
   "cell_type": "code",
   "execution_count": null,
   "metadata": {},
   "outputs": [],
   "source": []
  },
  {
   "cell_type": "code",
   "execution_count": null,
   "metadata": {},
   "outputs": [],
   "source": []
  },
  {
   "cell_type": "code",
   "execution_count": null,
   "metadata": {},
   "outputs": [],
   "source": []
  },
  {
   "cell_type": "code",
   "execution_count": null,
   "metadata": {},
   "outputs": [],
   "source": []
  },
  {
   "cell_type": "code",
   "execution_count": null,
   "metadata": {},
   "outputs": [],
   "source": []
  },
  {
   "cell_type": "code",
   "execution_count": null,
   "metadata": {},
   "outputs": [],
   "source": []
  },
  {
   "cell_type": "code",
   "execution_count": null,
   "metadata": {},
   "outputs": [],
   "source": []
  },
  {
   "cell_type": "code",
   "execution_count": null,
   "metadata": {},
   "outputs": [],
   "source": []
  },
  {
   "cell_type": "code",
   "execution_count": 31,
   "metadata": {},
   "outputs": [],
   "source": [
    "with open(\"links.txt\", 'w') as f:\n",
    "    for s in trial_links:\n",
    "        f.write(str(s) + '\\n')"
   ]
  },
  {
   "cell_type": "code",
   "execution_count": 1,
   "metadata": {},
   "outputs": [],
   "source": [
    "import hike\n",
    "from multiprocessing import Pool\n",
    "if __name__==\"__main__\":\n",
    "    p=Pool(2)\n",
    "    p.map(hike.trials,trial_links)\n",
    "    p.close()"
   ]
  },
  {
   "cell_type": "code",
   "execution_count": null,
   "metadata": {},
   "outputs": [],
   "source": []
  }
 ],
 "metadata": {
  "kernelspec": {
   "display_name": "Python 3",
   "language": "python",
   "name": "python3"
  },
  "language_info": {
   "codemirror_mode": {
    "name": "ipython",
    "version": 3
   },
   "file_extension": ".py",
   "mimetype": "text/x-python",
   "name": "python",
   "nbconvert_exporter": "python",
   "pygments_lexer": "ipython3",
   "version": "3.8.3"
  }
 },
 "nbformat": 4,
 "nbformat_minor": 2
}
