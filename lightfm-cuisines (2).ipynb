{
 "cells": [
  {
   "cell_type": "code",
   "execution_count": 1,
   "metadata": {
    "_cell_guid": "b1076dfc-b9ad-4769-8c92-a6c4dae69d19",
    "_uuid": "8f2839f25d086af736a60e9eeb907d3b93b6e0e5",
    "execution": {
     "iopub.execute_input": "2020-10-24T14:14:08.142257Z",
     "iopub.status.busy": "2020-10-24T14:14:08.141385Z",
     "iopub.status.idle": "2020-10-24T14:14:08.164815Z",
     "shell.execute_reply": "2020-10-24T14:14:08.163898Z"
    },
    "papermill": {
     "duration": 0.061009,
     "end_time": "2020-10-24T14:14:08.164971",
     "exception": false,
     "start_time": "2020-10-24T14:14:08.103962",
     "status": "completed"
    },
    "tags": []
   },
   "outputs": [],
   "source": [
    "# This Python 3 environment comes with many helpful analytics libraries installed\n",
    "# It is defined by the kaggle/python Docker image: https://github.com/kaggle/docker-python\n",
    "# For example, here's several helpful packages to load\n",
    "\n",
    "import numpy as np # linear algebra\n",
    "import pandas as pd # data processing, CSV file I/O (e.g. pd.read_csv)\n",
    "\n",
    "# Input data files are available in the read-only \"../input/\" directory\n",
    "# For example, running this (by clicking run or pressing Shift+Enter) will list all files under the input directory\n",
    "\n",
    "import os\n",
    "for dirname, _, filenames in os.walk('/kaggle/input'):\n",
    "    for filename in filenames:\n",
    "        print(os.path.join(dirname, filename))\n",
    "\n",
    "# You can write up to 5GB to the current directory (/kaggle/working/) that gets preserved as output when you create a version using \"Save & Run All\" \n",
    "# You can also write temporary files to /kaggle/temp/, but they won't be saved outside of the current session"
   ]
  },
  {
   "cell_type": "code",
   "execution_count": 2,
   "metadata": {
    "execution": {
     "iopub.execute_input": "2020-10-24T14:14:08.234584Z",
     "iopub.status.busy": "2020-10-24T14:14:08.233712Z",
     "iopub.status.idle": "2020-10-24T14:14:09.844076Z",
     "shell.execute_reply": "2020-10-24T14:14:09.843399Z"
    },
    "papermill": {
     "duration": 1.649054,
     "end_time": "2020-10-24T14:14:09.844213",
     "exception": false,
     "start_time": "2020-10-24T14:14:08.195159",
     "status": "completed"
    },
    "tags": []
   },
   "outputs": [
    {
     "name": "stderr",
     "output_type": "stream",
     "text": [
      "/Library/Frameworks/Python.framework/Versions/3.7/lib/python3.7/site-packages/lightfm/_lightfm_fast.py:9: UserWarning: LightFM was compiled without OpenMP support. Only a single thread will be used.\n",
      "  warnings.warn('LightFM was compiled without OpenMP support. '\n"
     ]
    }
   ],
   "source": [
    "# import dependent libraries\n",
    "import pandas as pd\n",
    "from scipy.sparse import csr_matrix\n",
    "import numpy as np\n",
    "\n",
    "\n",
    "import matplotlib.pyplot as plt\n",
    "from matplotlib.gridspec import GridSpec\n",
    "import seaborn as sns\n",
    "%matplotlib inline\n",
    "\n",
    "from lightfm.cross_validation import random_train_test_split\n",
    "from lightfm.evaluation import auc_score, precision_at_k, recall_at_k\n",
    "from lightfm import LightFM\n",
    "from skopt import forest_minimize"
   ]
  },
  {
   "cell_type": "code",
   "execution_count": 4,
   "metadata": {
    "_cell_guid": "79c7e3d0-c299-4dcb-8224-4455121ee9b0",
    "_uuid": "d629ff2d2480ee46fbb7e2d37f6b5fab8052498a",
    "execution": {
     "iopub.execute_input": "2020-10-24T14:14:09.907511Z",
     "iopub.status.busy": "2020-10-24T14:14:09.906627Z",
     "iopub.status.idle": "2020-10-24T14:14:10.013593Z",
     "shell.execute_reply": "2020-10-24T14:14:10.012793Z"
    },
    "papermill": {
     "duration": 0.141632,
     "end_time": "2020-10-24T14:14:10.013726",
     "exception": false,
     "start_time": "2020-10-24T14:14:09.872094",
     "status": "completed"
    },
    "tags": []
   },
   "outputs": [
    {
     "data": {
      "text/html": [
       "<div>\n",
       "<style scoped>\n",
       "    .dataframe tbody tr th:only-of-type {\n",
       "        vertical-align: middle;\n",
       "    }\n",
       "\n",
       "    .dataframe tbody tr th {\n",
       "        vertical-align: top;\n",
       "    }\n",
       "\n",
       "    .dataframe thead th {\n",
       "        text-align: right;\n",
       "    }\n",
       "</style>\n",
       "<table border=\"1\" class=\"dataframe\">\n",
       "  <thead>\n",
       "    <tr style=\"text-align: right;\">\n",
       "      <th></th>\n",
       "      <th>Unnamed: 0</th>\n",
       "      <th>user_id</th>\n",
       "      <th>restaurant_id</th>\n",
       "      <th>Rating_x</th>\n",
       "      <th>title</th>\n",
       "      <th>No_of_Reviews</th>\n",
       "      <th>Tags</th>\n",
       "      <th>Details</th>\n",
       "      <th>Range_n_Cuisine</th>\n",
       "      <th>P_Tags</th>\n",
       "      <th>N_Tags</th>\n",
       "      <th>Pos_Review_Quotes</th>\n",
       "      <th>Neg_Review_Quotes</th>\n",
       "    </tr>\n",
       "  </thead>\n",
       "  <tbody>\n",
       "    <tr>\n",
       "      <th>0</th>\n",
       "      <td>0</td>\n",
       "      <td>0.0</td>\n",
       "      <td>363.0</td>\n",
       "      <td>0.0</td>\n",
       "      <td>Chartreuse Moose Cappuccino Bar &amp; Bistro</td>\n",
       "      <td>170.0</td>\n",
       "      <td>wraps , breakfast wrap , beans , great coffee...</td>\n",
       "      <td>{'CUISINES': 'Cafe, Canadian', 'Special Diets'...</td>\n",
       "      <td>['$$ - $$$', 'Quick Bites', 'Cafe', 'Canadian']</td>\n",
       "      <td>NaN</td>\n",
       "      <td>NaN</td>\n",
       "      <td>NaN</td>\n",
       "      <td>NaN</td>\n",
       "    </tr>\n",
       "    <tr>\n",
       "      <th>1</th>\n",
       "      <td>1</td>\n",
       "      <td>0.0</td>\n",
       "      <td>363.0</td>\n",
       "      <td>0.0</td>\n",
       "      <td>Chartreuse Moose Cappuccino Bar &amp; Bistro</td>\n",
       "      <td>170.0</td>\n",
       "      <td>wraps , breakfast wrap , beans , great coffee...</td>\n",
       "      <td>{'CUISINES': 'Cafe, Canadian', 'Special Diets'...</td>\n",
       "      <td>['$$ - $$$', 'Quick Bites', 'Cafe', 'Canadian']</td>\n",
       "      <td>NaN</td>\n",
       "      <td>NaN</td>\n",
       "      <td>NaN</td>\n",
       "      <td>NaN</td>\n",
       "    </tr>\n",
       "  </tbody>\n",
       "</table>\n",
       "</div>"
      ],
      "text/plain": [
       "   Unnamed: 0  user_id  restaurant_id  Rating_x  \\\n",
       "0           0      0.0          363.0       0.0   \n",
       "1           1      0.0          363.0       0.0   \n",
       "\n",
       "                                      title  No_of_Reviews  \\\n",
       "0  Chartreuse Moose Cappuccino Bar & Bistro          170.0   \n",
       "1  Chartreuse Moose Cappuccino Bar & Bistro          170.0   \n",
       "\n",
       "                                                Tags  \\\n",
       "0   wraps , breakfast wrap , beans , great coffee...   \n",
       "1   wraps , breakfast wrap , beans , great coffee...   \n",
       "\n",
       "                                             Details  \\\n",
       "0  {'CUISINES': 'Cafe, Canadian', 'Special Diets'...   \n",
       "1  {'CUISINES': 'Cafe, Canadian', 'Special Diets'...   \n",
       "\n",
       "                                   Range_n_Cuisine P_Tags N_Tags  \\\n",
       "0  ['$$ - $$$', 'Quick Bites', 'Cafe', 'Canadian']    NaN    NaN   \n",
       "1  ['$$ - $$$', 'Quick Bites', 'Cafe', 'Canadian']    NaN    NaN   \n",
       "\n",
       "  Pos_Review_Quotes Neg_Review_Quotes  \n",
       "0               NaN               NaN  \n",
       "1               NaN               NaN  "
      ]
     },
     "execution_count": 4,
     "metadata": {},
     "output_type": "execute_result"
    }
   ],
   "source": [
    "pd.set_option('display.max_columns', None)\n",
    "pd.set_option('display.max_rows', None)\n",
    "df = pd.read_csv('tags_ratings_data.csv')\n",
    "df.head(2)"
   ]
  },
  {
   "cell_type": "code",
   "execution_count": 5,
   "metadata": {
    "execution": {
     "iopub.execute_input": "2020-10-24T14:14:10.082537Z",
     "iopub.status.busy": "2020-10-24T14:14:10.079028Z",
     "iopub.status.idle": "2020-10-24T14:14:10.099302Z",
     "shell.execute_reply": "2020-10-24T14:14:10.098630Z"
    },
    "papermill": {
     "duration": 0.056515,
     "end_time": "2020-10-24T14:14:10.099437",
     "exception": false,
     "start_time": "2020-10-24T14:14:10.042922",
     "status": "completed"
    },
    "tags": []
   },
   "outputs": [
    {
     "data": {
      "text/html": [
       "<div>\n",
       "<style scoped>\n",
       "    .dataframe tbody tr th:only-of-type {\n",
       "        vertical-align: middle;\n",
       "    }\n",
       "\n",
       "    .dataframe tbody tr th {\n",
       "        vertical-align: top;\n",
       "    }\n",
       "\n",
       "    .dataframe thead th {\n",
       "        text-align: right;\n",
       "    }\n",
       "</style>\n",
       "<table border=\"1\" class=\"dataframe\">\n",
       "  <thead>\n",
       "    <tr style=\"text-align: right;\">\n",
       "      <th></th>\n",
       "      <th>user_id</th>\n",
       "      <th>restaurant_id</th>\n",
       "      <th>Rating_x</th>\n",
       "      <th>title</th>\n",
       "      <th>No_of_Reviews</th>\n",
       "      <th>Tags</th>\n",
       "      <th>Details</th>\n",
       "      <th>Range_n_Cuisine</th>\n",
       "      <th>P_Tags</th>\n",
       "      <th>N_Tags</th>\n",
       "      <th>Pos_Review_Quotes</th>\n",
       "      <th>Neg_Review_Quotes</th>\n",
       "    </tr>\n",
       "  </thead>\n",
       "  <tbody>\n",
       "    <tr>\n",
       "      <th>0</th>\n",
       "      <td>0.0</td>\n",
       "      <td>363.0</td>\n",
       "      <td>0.0</td>\n",
       "      <td>Chartreuse Moose Cappuccino Bar &amp; Bistro</td>\n",
       "      <td>170.0</td>\n",
       "      <td>wraps , breakfast wrap , beans , great coffee...</td>\n",
       "      <td>{'CUISINES': 'Cafe, Canadian', 'Special Diets'...</td>\n",
       "      <td>['$$ - $$$', 'Quick Bites', 'Cafe', 'Canadian']</td>\n",
       "      <td>NaN</td>\n",
       "      <td>NaN</td>\n",
       "      <td>NaN</td>\n",
       "      <td>NaN</td>\n",
       "    </tr>\n",
       "  </tbody>\n",
       "</table>\n",
       "</div>"
      ],
      "text/plain": [
       "   user_id  restaurant_id  Rating_x                                     title  \\\n",
       "0      0.0          363.0       0.0  Chartreuse Moose Cappuccino Bar & Bistro   \n",
       "\n",
       "   No_of_Reviews                                               Tags  \\\n",
       "0          170.0   wraps , breakfast wrap , beans , great coffee...   \n",
       "\n",
       "                                             Details  \\\n",
       "0  {'CUISINES': 'Cafe, Canadian', 'Special Diets'...   \n",
       "\n",
       "                                   Range_n_Cuisine P_Tags N_Tags  \\\n",
       "0  ['$$ - $$$', 'Quick Bites', 'Cafe', 'Canadian']    NaN    NaN   \n",
       "\n",
       "  Pos_Review_Quotes Neg_Review_Quotes  \n",
       "0               NaN               NaN  "
      ]
     },
     "execution_count": 5,
     "metadata": {},
     "output_type": "execute_result"
    }
   ],
   "source": [
    "df1 = df.copy()\n",
    "df1 = df1.drop(['Unnamed: 0'], axis = 1)\n",
    "df1.head(1)"
   ]
  },
  {
   "cell_type": "code",
   "execution_count": 6,
   "metadata": {
    "execution": {
     "iopub.execute_input": "2020-10-24T14:14:10.176657Z",
     "iopub.status.busy": "2020-10-24T14:14:10.167176Z",
     "iopub.status.idle": "2020-10-24T14:14:10.180935Z",
     "shell.execute_reply": "2020-10-24T14:14:10.179961Z"
    },
    "papermill": {
     "duration": 0.051757,
     "end_time": "2020-10-24T14:14:10.181099",
     "exception": false,
     "start_time": "2020-10-24T14:14:10.129342",
     "status": "completed"
    },
    "tags": []
   },
   "outputs": [
    {
     "name": "stdout",
     "output_type": "stream",
     "text": [
      "<class 'pandas.core.frame.DataFrame'>\n",
      "RangeIndex: 2784 entries, 0 to 2783\n",
      "Data columns (total 12 columns):\n",
      " #   Column             Non-Null Count  Dtype  \n",
      "---  ------             --------------  -----  \n",
      " 0   user_id            2784 non-null   float64\n",
      " 1   restaurant_id      2784 non-null   float64\n",
      " 2   Rating_x           2784 non-null   float64\n",
      " 3   title              2784 non-null   object \n",
      " 4   No_of_Reviews      2532 non-null   float64\n",
      " 5   Tags               214 non-null    object \n",
      " 6   Details            2784 non-null   object \n",
      " 7   Range_n_Cuisine    2784 non-null   object \n",
      " 8   P_Tags             1808 non-null   object \n",
      " 9   N_Tags             1778 non-null   object \n",
      " 10  Pos_Review_Quotes  1801 non-null   object \n",
      " 11  Neg_Review_Quotes  1221 non-null   object \n",
      "dtypes: float64(4), object(8)\n",
      "memory usage: 261.1+ KB\n"
     ]
    }
   ],
   "source": [
    "df1.info()"
   ]
  },
  {
   "cell_type": "code",
   "execution_count": 7,
   "metadata": {
    "execution": {
     "iopub.execute_input": "2020-10-24T14:14:10.256693Z",
     "iopub.status.busy": "2020-10-24T14:14:10.253016Z",
     "iopub.status.idle": "2020-10-24T14:14:10.265108Z",
     "shell.execute_reply": "2020-10-24T14:14:10.264158Z"
    },
    "papermill": {
     "duration": 0.053615,
     "end_time": "2020-10-24T14:14:10.265273",
     "exception": false,
     "start_time": "2020-10-24T14:14:10.211658",
     "status": "completed"
    },
    "tags": []
   },
   "outputs": [
    {
     "data": {
      "text/plain": [
       "5.0    554\n",
       "4.5    323\n",
       "2.5    318\n",
       "4.0    284\n",
       "1.0    278\n",
       "2.0    266\n",
       "0.5    221\n",
       "3.0    216\n",
       "3.5    153\n",
       "1.5    124\n",
       "0.0     47\n",
       "Name: Rating_x, dtype: int64"
      ]
     },
     "execution_count": 7,
     "metadata": {},
     "output_type": "execute_result"
    }
   ],
   "source": [
    "df1.Rating_x.value_counts()"
   ]
  },
  {
   "cell_type": "code",
   "execution_count": 8,
   "metadata": {
    "execution": {
     "iopub.execute_input": "2020-10-24T14:14:10.366984Z",
     "iopub.status.busy": "2020-10-24T14:14:10.365749Z",
     "iopub.status.idle": "2020-10-24T14:14:10.372038Z",
     "shell.execute_reply": "2020-10-24T14:14:10.371159Z"
    },
    "papermill": {
     "duration": 0.071697,
     "end_time": "2020-10-24T14:14:10.372217",
     "exception": false,
     "start_time": "2020-10-24T14:14:10.300520",
     "status": "completed"
    },
    "tags": []
   },
   "outputs": [
    {
     "data": {
      "text/plain": [
       "5.0    554\n",
       "4.5    323\n",
       "2.5    318\n",
       "4.0    284\n",
       "1.0    278\n",
       "0.5    268\n",
       "2.0    266\n",
       "3.0    216\n",
       "3.5    153\n",
       "1.5    124\n",
       "Name: Rating_x, dtype: int64"
      ]
     },
     "execution_count": 8,
     "metadata": {},
     "output_type": "execute_result"
    }
   ],
   "source": [
    "for col in df1.columns:\n",
    "    df1[col] = [0.5 if x == 0 else x for x in df1[col]]\n",
    "df1.Rating_x.value_counts()"
   ]
  },
  {
   "cell_type": "code",
   "execution_count": 9,
   "metadata": {
    "execution": {
     "iopub.execute_input": "2020-10-24T14:14:10.468448Z",
     "iopub.status.busy": "2020-10-24T14:14:10.466102Z",
     "iopub.status.idle": "2020-10-24T14:14:10.473875Z",
     "shell.execute_reply": "2020-10-24T14:14:10.473171Z"
    },
    "papermill": {
     "duration": 0.05774,
     "end_time": "2020-10-24T14:14:10.474017",
     "exception": false,
     "start_time": "2020-10-24T14:14:10.416277",
     "status": "completed"
    },
    "tags": []
   },
   "outputs": [
    {
     "data": {
      "text/plain": [
       "array([170.,  13.,  22.,  10.,  17.,  56.,  25.,   6.,   9.,   7.,   5.,\n",
       "        19.,   4.,  23.,  nan,  16.,   3.,  74.,  20.,   2.,  11.,  28.,\n",
       "        43.,  24.,  12.,   1.,  64.,  14.,  27.,   8.,  35.,  29.,  33.,\n",
       "        15.,  30.,  50.,  36.,  48., 105.,  26.,  47.,  18., 248., 143.,\n",
       "       104.,  58.,  34.,  44.,  40.,  54.,  68.])"
      ]
     },
     "execution_count": 9,
     "metadata": {},
     "output_type": "execute_result"
    }
   ],
   "source": [
    "df1.No_of_Reviews.unique()"
   ]
  },
  {
   "cell_type": "code",
   "execution_count": 10,
   "metadata": {
    "execution": {
     "iopub.execute_input": "2020-10-24T14:14:10.555247Z",
     "iopub.status.busy": "2020-10-24T14:14:10.554245Z",
     "iopub.status.idle": "2020-10-24T14:14:10.558535Z",
     "shell.execute_reply": "2020-10-24T14:14:10.559342Z"
    },
    "papermill": {
     "duration": 0.052315,
     "end_time": "2020-10-24T14:14:10.559563",
     "exception": false,
     "start_time": "2020-10-24T14:14:10.507248",
     "status": "completed"
    },
    "tags": []
   },
   "outputs": [
    {
     "data": {
      "text/plain": [
       "252"
      ]
     },
     "execution_count": 10,
     "metadata": {},
     "output_type": "execute_result"
    }
   ],
   "source": [
    "df1.No_of_Reviews.isnull().sum()"
   ]
  },
  {
   "cell_type": "code",
   "execution_count": 11,
   "metadata": {
    "execution": {
     "iopub.execute_input": "2020-10-24T14:14:10.644357Z",
     "iopub.status.busy": "2020-10-24T14:14:10.643426Z",
     "iopub.status.idle": "2020-10-24T14:14:10.650180Z",
     "shell.execute_reply": "2020-10-24T14:14:10.649436Z"
    },
    "papermill": {
     "duration": 0.049725,
     "end_time": "2020-10-24T14:14:10.650315",
     "exception": false,
     "start_time": "2020-10-24T14:14:10.600590",
     "status": "completed"
    },
    "tags": []
   },
   "outputs": [
    {
     "data": {
      "text/plain": [
       "0"
      ]
     },
     "execution_count": 11,
     "metadata": {},
     "output_type": "execute_result"
    }
   ],
   "source": [
    "df1.No_of_Reviews = df1.No_of_Reviews.fillna(method = 'ffill')\n",
    "df1.No_of_Reviews.isnull().sum()"
   ]
  },
  {
   "cell_type": "code",
   "execution_count": 12,
   "metadata": {
    "execution": {
     "iopub.execute_input": "2020-10-24T14:14:10.776495Z",
     "iopub.status.busy": "2020-10-24T14:14:10.775381Z",
     "iopub.status.idle": "2020-10-24T14:14:10.781394Z",
     "shell.execute_reply": "2020-10-24T14:14:10.782168Z"
    },
    "papermill": {
     "duration": 0.099306,
     "end_time": "2020-10-24T14:14:10.782379",
     "exception": false,
     "start_time": "2020-10-24T14:14:10.683073",
     "status": "completed"
    },
    "tags": []
   },
   "outputs": [
    {
     "data": {
      "text/plain": [
       "nan                                           620\n",
       " Fast food                                    475\n",
       " Fast food, Canadian                          382\n",
       " American, Fast food                          146\n",
       " Deli                                         112\n",
       " Fast food, Canadian, Cafe                     84\n",
       " Fast food, American, Canadian                 82\n",
       " American, Fast food, Canadian                 80\n",
       " Cafe, Fast food, Canadian                     78\n",
       " Cafe, Canadian                                75\n",
       " Canadian                                      73\n",
       " American, Deli                                72\n",
       " American                                      70\n",
       " American, Fast food, Deli                     64\n",
       " Canadian, Fast food                           63\n",
       " Cafe                                          48\n",
       " Cafe, Fast food                               27\n",
       " Street Food, Fast food                        24\n",
       " Fast food, American                           24\n",
       " Fast food, Canadian, American                 22\n",
       " Cafe, Canadian, Soups                         18\n",
       " International                                 16\n",
       " Bar, Canadian, Pub                            14\n",
       " American, Fast food, Canadian, Cafe           12\n",
       " American, Fast food, European, Albanian       11\n",
       " Bar, Pub, Canadian                            10\n",
       " Pizza                                          8\n",
       " Pizza, Italian, Fast food, Canadian            8\n",
       " Fast food, Deli                                8\n",
       " Mexican, German                                7\n",
       " Chinese, Asian, Canadian                       6\n",
       " British, Canadian, Seafood                     6\n",
       " American, Canadian                             6\n",
       " Fast food, Canadian, American, Cafe            6\n",
       " Cafe, Fast food, Healthy, Canadian, Soups      6\n",
       " Diner, Canadian                                6\n",
       " Chinese, Asian                                 5\n",
       " Japanese, Sushi, Asian                         4\n",
       " Fast food, Cafe, Canadian                      3\n",
       " American, Cafe, Fast food, Canadian            3\n",
       "Name: Cuisine, dtype: int64"
      ]
     },
     "execution_count": 12,
     "metadata": {},
     "output_type": "execute_result"
    }
   ],
   "source": [
    "df1[\"Cuisine\"]=df1.Details.str.split(\"'CUISINES':\").str[1]\n",
    "df1.Cuisine = df1.Cuisine.astype(str)\n",
    "df1[\"Cuisine\"]=df1.Cuisine.apply(lambda x: x.replace('}','').replace(\"'\",''))\n",
    "df1[\"Cuisine\"]=df1.Cuisine.str.split(\", Special Diets:\").str[0]\n",
    "df1[\"Cuisine\"]=df1.Cuisine.str.split(\", Meals:\").str[0]\n",
    "df1[\"Cuisine\"]=df1.Cuisine.str.split(\", FEATURES:\").str[0]\n",
    "df1.Cuisine.value_counts()"
   ]
  },
  {
   "cell_type": "code",
   "execution_count": 13,
   "metadata": {
    "execution": {
     "iopub.execute_input": "2020-10-24T14:14:10.895524Z",
     "iopub.status.busy": "2020-10-24T14:14:10.894434Z",
     "iopub.status.idle": "2020-10-24T14:14:10.921543Z",
     "shell.execute_reply": "2020-10-24T14:14:10.922435Z"
    },
    "papermill": {
     "duration": 0.091655,
     "end_time": "2020-10-24T14:14:10.922699",
     "exception": false,
     "start_time": "2020-10-24T14:14:10.831044",
     "status": "completed"
    },
    "tags": []
   },
   "outputs": [
    {
     "name": "stdout",
     "output_type": "stream",
     "text": [
      "<class 'pandas.core.frame.DataFrame'>\n",
      "RangeIndex: 2784 entries, 0 to 2783\n",
      "Data columns (total 13 columns):\n",
      " #   Column             Non-Null Count  Dtype  \n",
      "---  ------             --------------  -----  \n",
      " 0   user_id            2784 non-null   float64\n",
      " 1   restaurant_id      2784 non-null   float64\n",
      " 2   Rating_x           2784 non-null   float64\n",
      " 3   title              2784 non-null   object \n",
      " 4   No_of_Reviews      2784 non-null   float64\n",
      " 5   Tags               214 non-null    object \n",
      " 6   Details            2784 non-null   object \n",
      " 7   Range_n_Cuisine    2784 non-null   object \n",
      " 8   P_Tags             2784 non-null   object \n",
      " 9   N_Tags             2784 non-null   object \n",
      " 10  Pos_Review_Quotes  2784 non-null   object \n",
      " 11  Neg_Review_Quotes  2784 non-null   object \n",
      " 12  Cuisine            2784 non-null   object \n",
      "dtypes: float64(4), object(9)\n",
      "memory usage: 282.9+ KB\n"
     ]
    }
   ],
   "source": [
    "df1.Cuisine = df1.Cuisine.fillna('not_availabe')\n",
    "df1.P_Tags = df1.P_Tags.fillna('not_availabe')\n",
    "df1.N_Tags = df1.N_Tags.fillna('not_availabe')\n",
    "df1.Pos_Review_Quotes = df1.Pos_Review_Quotes.fillna('not_availabe')\n",
    "df1.Neg_Review_Quotes = df1.Neg_Review_Quotes.fillna('not_availabe')\n",
    "df1.info()"
   ]
  },
  {
   "cell_type": "code",
   "execution_count": 14,
   "metadata": {
    "execution": {
     "iopub.execute_input": "2020-10-24T14:14:11.011585Z",
     "iopub.status.busy": "2020-10-24T14:14:11.010232Z",
     "iopub.status.idle": "2020-10-24T14:14:11.044599Z",
     "shell.execute_reply": "2020-10-24T14:14:11.043924Z"
    },
    "papermill": {
     "duration": 0.082848,
     "end_time": "2020-10-24T14:14:11.044729",
     "exception": false,
     "start_time": "2020-10-24T14:14:10.961881",
     "status": "completed"
    },
    "tags": []
   },
   "outputs": [
    {
     "data": {
      "text/plain": [
       "(2784, 87)"
      ]
     },
     "execution_count": 14,
     "metadata": {},
     "output_type": "execute_result"
    }
   ],
   "source": [
    "df2 = df1.copy()\n",
    "df2 = pd.get_dummies(df2, columns = ['P_Tags','N_Tags','Pos_Review_Quotes','Neg_Review_Quotes','Cuisine'])\n",
    "df2.fillna(0)\n",
    "df2.shape"
   ]
  },
  {
   "cell_type": "code",
   "execution_count": 15,
   "metadata": {
    "execution": {
     "iopub.execute_input": "2020-10-24T14:14:11.143060Z",
     "iopub.status.busy": "2020-10-24T14:14:11.124975Z",
     "iopub.status.idle": "2020-10-24T14:14:11.179090Z",
     "shell.execute_reply": "2020-10-24T14:14:11.179676Z"
    },
    "papermill": {
     "duration": 0.097115,
     "end_time": "2020-10-24T14:14:11.179846",
     "exception": false,
     "start_time": "2020-10-24T14:14:11.082731",
     "status": "completed"
    },
    "tags": []
   },
   "outputs": [
    {
     "data": {
      "text/html": [
       "<div>\n",
       "<style scoped>\n",
       "    .dataframe tbody tr th:only-of-type {\n",
       "        vertical-align: middle;\n",
       "    }\n",
       "\n",
       "    .dataframe tbody tr th {\n",
       "        vertical-align: top;\n",
       "    }\n",
       "\n",
       "    .dataframe thead th {\n",
       "        text-align: right;\n",
       "    }\n",
       "</style>\n",
       "<table border=\"1\" class=\"dataframe\">\n",
       "  <thead>\n",
       "    <tr style=\"text-align: right;\">\n",
       "      <th></th>\n",
       "      <th>user_id</th>\n",
       "      <th>restaurant_id</th>\n",
       "      <th>Rating_x</th>\n",
       "      <th>title</th>\n",
       "      <th>No_of_Reviews</th>\n",
       "      <th>Tags</th>\n",
       "      <th>Details</th>\n",
       "      <th>Range_n_Cuisine</th>\n",
       "      <th>P_Tags_best pizza,more pizza,order excellent,friendly staff food,more loaded side,great pizza,awesome pizza,crust awesome place,really good pizza,great crust sauce,good service,great thing,true place,great value,great dinner,many thing,quick service,good size,nice server</th>\n",
       "      <th>P_Tags_best subway,good food,good service,healthy food subway,great job subway,good place,good sub u,many subway,good value,good job location,best server,good variety,good value quality,great food,great service,good old way,good chain store,good amount filling,friendly service quality,friendly staff dinner</th>\n",
       "      <th>P_Tags_food amazing food,good thing,good way,friendly service,nice upgrade building,bar charming bartender,one best pizza,fantastic meal</th>\n",
       "      <th>P_Tags_friendly tried place,good atmosphere,total great place,huge portion,good service,great decor waitress,great value,more item menu,deluxe burger,very clean pub</th>\n",
       "      <th>P_Tags_good coffee,good getting coffee,good cup coffee,good service,good food,box good service,great coffee,good breakfast,good place,fast good place,quick coffee,coffee good staff,great fast service,great service,good location,nice coffee,coffee more parking,coffee excellent,good change,good menu</th>\n",
       "      <th>P_Tags_good food,good selection,great service staff</th>\n",
       "      <th>P_Tags_good mexican food,restaurant great food,good meal,more time,such great experience,very good restaurant,friendly server,my favorite restaurant,their best employee,lovely dinner,much better hubby</th>\n",
       "      <th>P_Tags_great breakfast,good value,great food,great service,friendly staff husband,mile fabulous program,delicious egg benny,reliably good coffee,excellent atmosphere,good service,good food,good food place,good quick service,good food skip,good place,good restaurant,great service,good meal,good restaurant lunch,great food</th>\n",
       "      <th>P_Tags_love sushi,sushi nice,fresh friendly service,quick food,delicious food,authentic wrapped sushi,wonderful food,great service,great place,many comment,huge party platter,still good wasabi,absolutely delicious thing</th>\n",
       "      <th>P_Tags_not_availabe</th>\n",
       "      <th>P_Tags_perfect food,many more dinner,wonderful delicious buffet,nice variety,our favorite server,our friendly server,our favorite place,u quick meal</th>\n",
       "      <th>P_Tags_ready fish excellent,friendly parking,good care,good option owner,very friendly fish,coleslaw delicious,excellent food,minute safe bite,great love</th>\n",
       "      <th>N_Tags_long line order,few tim horton,wrong order,punched wrong order,long line,long line ups,few staff,parking small lot,least staff,sour cream donut,world limited menu,small discount,made rude comment,small drink approx,wet dripping hand,incredibly poor service,very slow service,worst ever experience,vulnerable finance,ice cold food</th>\n",
       "      <th>N_Tags_not_availabe</th>\n",
       "      <th>N_Tags_poor service,food cold return,food nasty,service bland food,cold waitress,total waste money,cold tea,absolutely worst service,long hour,one few place,just bad pot</th>\n",
       "      <th>N_Tags_subway stale bread,bad sandwich,cold wrap,single bottled beverage,refill cold refreshment,few day,serious lesson,little cardboard piece,tape chicken,very filthy staff,even single portion,not sure problem,late one night,approximately pm,not right temperature,worst subway,course few week,last few year,partial uniform,generally dirty woman</th>\n",
       "      <th>N_Tags_supper bad decision,really awful pizza,area dirty table,terrible place</th>\n",
       "      <th>N_Tags_terrible smog price</th>\n",
       "      <th>N_Tags_tired old barman,tired old bar</th>\n",
       "      <th>N_Tags_tough end potato,bad time,not many patron</th>\n",
       "      <th>Pos_Review_Quotes_a great latte,spacious place with reasonable selection of goodies  great staff but torture device chairs,a nice spot to hangout for a coffee,such good coffee  and lemon tarts</th>\n",
       "      <th>Pos_Review_Quotes_a great stay,delicious grilled cheese ,the fairmont made our christmas dinner special ,wonderful stay,great return stay,love this hotel,absolutely stunning  over the top beautiful experience,magical banff,best stay yet ,exceptional service,beautiful place even if you end up in the carriage house,beautiful former canadian pacific railroad hotel,great old school elegance ,great hotel,wonderful breakfast buffet ,a very enjoyable stay,great place to shop,the chop house was excellent,it was ok,excellent high tea</th>\n",
       "      <th>Pos_Review_Quotes_average sushi at best ,best sushi in town ,take the a train to best sushi house in banff,love the sushi train ,so good and fast,good service ,sushi served on a model railroad train   fantastic   kids loved it,loved the train,friendly  fresh  delicious,excellent sushi     in banff who would have thought ,authentic and delicious,the best sushi anywhere    ,good  quick  and simple,great for a quick meal,amazing sushi  even for the mountains,quick and delicious,nice and original,great sushi,quick and fresh,memorable</th>\n",
       "      <th>Pos_Review_Quotes_excellent lunch,good and plentiful,excellent take away,great food   so flavourful,one more almost perfect restaurant</th>\n",
       "      <th>Pos_Review_Quotes_good coffee place,don't pass this by    great food and great owners,really good place to stop for a coffee or quick lunch  ,beautiful setting overlooking wetlands,wonderful food ,food was good  nice community spot,wonderful spot for a delicious treat,tasty food  great coffee  friendly welcoming staff ,excellent java and baked treats,a true gem and great food great coffee great service,very nice people with a fine cafe,a delightful discovery,beautiful spot,an absolute delight  unforgettable ,a wonderful find ,best peanut butter cream pie,great coffee  fabulous sandwiches   blink and you'll miss it ,good coffee good company,quaint little spot  great food  friendly staff</th>\n",
       "      <th>Pos_Review_Quotes_good food,good food,good lunch spot while waiting for the plane</th>\n",
       "      <th>Pos_Review_Quotes_great coffee  good sandwiches  friendly staff,good for coffee  but very limited breakfast,best coffee in kamloops    jj bean is the star</th>\n",
       "      <th>Pos_Review_Quotes_great service food and ambience ,delicious  ,great food  great service ,always top notch  always</th>\n",
       "      <th>Pos_Review_Quotes_great spot ,amazing for eat in or take out ,great little family place,food ok  staff ok,simply stated     best service in lake cowichan,food ok  pricey and just ok,great dining and excellent food,great food  great staff ,great food  great service  ,great lunch,great local option in lake cowichan ,best food in town   ,super diner,great lunch and atmosphere,good old fashion family ran dinner,love this trendy little cafe ,good 'ol fifties type diner,amazing service ,love the ambiance  good ole 50's style ,great</th>\n",
       "      <th>Pos_Review_Quotes_nice cafe but don't be in a hurry,amazing,amazing,good coffee   muffins   cheesecake,great breakfast</th>\n",
       "      <th>Pos_Review_Quotes_not_availabe</th>\n",
       "      <th>Neg_Review_Quotes_a cozy community hub</th>\n",
       "      <th>Neg_Review_Quotes_a little gem</th>\n",
       "      <th>Neg_Review_Quotes_atrocious customer service,shocked and sad</th>\n",
       "      <th>Neg_Review_Quotes_awful hotel  avoid at all costs,very disappointing afternoon tea,disappointed with changes being made</th>\n",
       "      <th>Neg_Review_Quotes_disgusting ,cozy sushi restaurant in the mountains,fun  casual place for sushi ,hidden gem,i m not sure how this place got 4 out of 5 review ,cozy little place with fresh sushi prepared in front of you,average,casual and yummy,sushi go round,disappointed,horrible service,not enjoyable this time ,below average  ,service is terrible,average,neat little place,tiny and expensive,very average sushi,disappointing,neat little place</th>\n",
       "      <th>Neg_Review_Quotes_horrible  rude service,poor,i agree     the pizza is a waste of money, would you like a little history with that  ,keep your money   pizza is not good   ,horrible food and service</th>\n",
       "      <th>Neg_Review_Quotes_not_availabe</th>\n",
       "      <th>Neg_Review_Quotes_terrible service ,terrible service</th>\n",
       "      <th>Cuisine_ American</th>\n",
       "      <th>Cuisine_ American, Cafe, Fast food, Canadian</th>\n",
       "      <th>Cuisine_ American, Canadian</th>\n",
       "      <th>Cuisine_ American, Deli</th>\n",
       "      <th>Cuisine_ American, Fast food</th>\n",
       "      <th>Cuisine_ American, Fast food, Canadian</th>\n",
       "      <th>Cuisine_ American, Fast food, Canadian, Cafe</th>\n",
       "      <th>Cuisine_ American, Fast food, Deli</th>\n",
       "      <th>Cuisine_ American, Fast food, European, Albanian</th>\n",
       "      <th>Cuisine_ Bar, Canadian, Pub</th>\n",
       "      <th>Cuisine_ Bar, Pub, Canadian</th>\n",
       "      <th>Cuisine_ British, Canadian, Seafood</th>\n",
       "      <th>Cuisine_ Cafe</th>\n",
       "      <th>Cuisine_ Cafe, Canadian</th>\n",
       "      <th>Cuisine_ Cafe, Canadian, Soups</th>\n",
       "      <th>Cuisine_ Cafe, Fast food</th>\n",
       "      <th>Cuisine_ Cafe, Fast food, Canadian</th>\n",
       "      <th>Cuisine_ Cafe, Fast food, Healthy, Canadian, Soups</th>\n",
       "      <th>Cuisine_ Canadian</th>\n",
       "      <th>Cuisine_ Canadian, Fast food</th>\n",
       "      <th>Cuisine_ Chinese, Asian</th>\n",
       "      <th>Cuisine_ Chinese, Asian, Canadian</th>\n",
       "      <th>Cuisine_ Deli</th>\n",
       "      <th>Cuisine_ Diner, Canadian</th>\n",
       "      <th>Cuisine_ Fast food</th>\n",
       "      <th>Cuisine_ Fast food, American</th>\n",
       "      <th>Cuisine_ Fast food, American, Canadian</th>\n",
       "      <th>Cuisine_ Fast food, Cafe, Canadian</th>\n",
       "      <th>Cuisine_ Fast food, Canadian</th>\n",
       "      <th>Cuisine_ Fast food, Canadian, American</th>\n",
       "      <th>Cuisine_ Fast food, Canadian, American, Cafe</th>\n",
       "      <th>Cuisine_ Fast food, Canadian, Cafe</th>\n",
       "      <th>Cuisine_ Fast food, Deli</th>\n",
       "      <th>Cuisine_ International</th>\n",
       "      <th>Cuisine_ Japanese, Sushi, Asian</th>\n",
       "      <th>Cuisine_ Mexican, German</th>\n",
       "      <th>Cuisine_ Pizza</th>\n",
       "      <th>Cuisine_ Pizza, Italian, Fast food, Canadian</th>\n",
       "      <th>Cuisine_ Street Food, Fast food</th>\n",
       "      <th>Cuisine_nan</th>\n",
       "    </tr>\n",
       "  </thead>\n",
       "  <tbody>\n",
       "    <tr>\n",
       "      <th>0</th>\n",
       "      <td>0.5</td>\n",
       "      <td>363.0</td>\n",
       "      <td>0.5</td>\n",
       "      <td>Chartreuse Moose Cappuccino Bar &amp; Bistro</td>\n",
       "      <td>170.0</td>\n",
       "      <td>wraps , breakfast wrap , beans , great coffee...</td>\n",
       "      <td>{'CUISINES': 'Cafe, Canadian', 'Special Diets'...</td>\n",
       "      <td>['$$ - $$$', 'Quick Bites', 'Cafe', 'Canadian']</td>\n",
       "      <td>0</td>\n",
       "      <td>0</td>\n",
       "      <td>0</td>\n",
       "      <td>0</td>\n",
       "      <td>0</td>\n",
       "      <td>0</td>\n",
       "      <td>0</td>\n",
       "      <td>0</td>\n",
       "      <td>0</td>\n",
       "      <td>1</td>\n",
       "      <td>0</td>\n",
       "      <td>0</td>\n",
       "      <td>0</td>\n",
       "      <td>1</td>\n",
       "      <td>0</td>\n",
       "      <td>0</td>\n",
       "      <td>0</td>\n",
       "      <td>0</td>\n",
       "      <td>0</td>\n",
       "      <td>0</td>\n",
       "      <td>0</td>\n",
       "      <td>0</td>\n",
       "      <td>0</td>\n",
       "      <td>0</td>\n",
       "      <td>0</td>\n",
       "      <td>0</td>\n",
       "      <td>0</td>\n",
       "      <td>0</td>\n",
       "      <td>0</td>\n",
       "      <td>0</td>\n",
       "      <td>1</td>\n",
       "      <td>0</td>\n",
       "      <td>0</td>\n",
       "      <td>0</td>\n",
       "      <td>0</td>\n",
       "      <td>0</td>\n",
       "      <td>0</td>\n",
       "      <td>1</td>\n",
       "      <td>0</td>\n",
       "      <td>0</td>\n",
       "      <td>0</td>\n",
       "      <td>0</td>\n",
       "      <td>0</td>\n",
       "      <td>0</td>\n",
       "      <td>0</td>\n",
       "      <td>0</td>\n",
       "      <td>0</td>\n",
       "      <td>0</td>\n",
       "      <td>0</td>\n",
       "      <td>0</td>\n",
       "      <td>0</td>\n",
       "      <td>0</td>\n",
       "      <td>1</td>\n",
       "      <td>0</td>\n",
       "      <td>0</td>\n",
       "      <td>0</td>\n",
       "      <td>0</td>\n",
       "      <td>0</td>\n",
       "      <td>0</td>\n",
       "      <td>0</td>\n",
       "      <td>0</td>\n",
       "      <td>0</td>\n",
       "      <td>0</td>\n",
       "      <td>0</td>\n",
       "      <td>0</td>\n",
       "      <td>0</td>\n",
       "      <td>0</td>\n",
       "      <td>0</td>\n",
       "      <td>0</td>\n",
       "      <td>0</td>\n",
       "      <td>0</td>\n",
       "      <td>0</td>\n",
       "      <td>0</td>\n",
       "      <td>0</td>\n",
       "      <td>0</td>\n",
       "      <td>0</td>\n",
       "      <td>0</td>\n",
       "      <td>0</td>\n",
       "      <td>0</td>\n",
       "    </tr>\n",
       "    <tr>\n",
       "      <th>1</th>\n",
       "      <td>0.5</td>\n",
       "      <td>363.0</td>\n",
       "      <td>0.5</td>\n",
       "      <td>Chartreuse Moose Cappuccino Bar &amp; Bistro</td>\n",
       "      <td>170.0</td>\n",
       "      <td>wraps , breakfast wrap , beans , great coffee...</td>\n",
       "      <td>{'CUISINES': 'Cafe, Canadian', 'Special Diets'...</td>\n",
       "      <td>['$$ - $$$', 'Quick Bites', 'Cafe', 'Canadian']</td>\n",
       "      <td>0</td>\n",
       "      <td>0</td>\n",
       "      <td>0</td>\n",
       "      <td>0</td>\n",
       "      <td>0</td>\n",
       "      <td>0</td>\n",
       "      <td>0</td>\n",
       "      <td>0</td>\n",
       "      <td>0</td>\n",
       "      <td>1</td>\n",
       "      <td>0</td>\n",
       "      <td>0</td>\n",
       "      <td>0</td>\n",
       "      <td>1</td>\n",
       "      <td>0</td>\n",
       "      <td>0</td>\n",
       "      <td>0</td>\n",
       "      <td>0</td>\n",
       "      <td>0</td>\n",
       "      <td>0</td>\n",
       "      <td>0</td>\n",
       "      <td>0</td>\n",
       "      <td>0</td>\n",
       "      <td>0</td>\n",
       "      <td>0</td>\n",
       "      <td>0</td>\n",
       "      <td>0</td>\n",
       "      <td>0</td>\n",
       "      <td>0</td>\n",
       "      <td>0</td>\n",
       "      <td>1</td>\n",
       "      <td>0</td>\n",
       "      <td>0</td>\n",
       "      <td>0</td>\n",
       "      <td>0</td>\n",
       "      <td>0</td>\n",
       "      <td>0</td>\n",
       "      <td>1</td>\n",
       "      <td>0</td>\n",
       "      <td>0</td>\n",
       "      <td>0</td>\n",
       "      <td>0</td>\n",
       "      <td>0</td>\n",
       "      <td>0</td>\n",
       "      <td>0</td>\n",
       "      <td>0</td>\n",
       "      <td>0</td>\n",
       "      <td>0</td>\n",
       "      <td>0</td>\n",
       "      <td>0</td>\n",
       "      <td>0</td>\n",
       "      <td>0</td>\n",
       "      <td>1</td>\n",
       "      <td>0</td>\n",
       "      <td>0</td>\n",
       "      <td>0</td>\n",
       "      <td>0</td>\n",
       "      <td>0</td>\n",
       "      <td>0</td>\n",
       "      <td>0</td>\n",
       "      <td>0</td>\n",
       "      <td>0</td>\n",
       "      <td>0</td>\n",
       "      <td>0</td>\n",
       "      <td>0</td>\n",
       "      <td>0</td>\n",
       "      <td>0</td>\n",
       "      <td>0</td>\n",
       "      <td>0</td>\n",
       "      <td>0</td>\n",
       "      <td>0</td>\n",
       "      <td>0</td>\n",
       "      <td>0</td>\n",
       "      <td>0</td>\n",
       "      <td>0</td>\n",
       "      <td>0</td>\n",
       "      <td>0</td>\n",
       "      <td>0</td>\n",
       "      <td>0</td>\n",
       "    </tr>\n",
       "  </tbody>\n",
       "</table>\n",
       "</div>"
      ],
      "text/plain": [
       "   user_id  restaurant_id  Rating_x                                     title  \\\n",
       "0      0.5          363.0       0.5  Chartreuse Moose Cappuccino Bar & Bistro   \n",
       "1      0.5          363.0       0.5  Chartreuse Moose Cappuccino Bar & Bistro   \n",
       "\n",
       "   No_of_Reviews                                               Tags  \\\n",
       "0          170.0   wraps , breakfast wrap , beans , great coffee...   \n",
       "1          170.0   wraps , breakfast wrap , beans , great coffee...   \n",
       "\n",
       "                                             Details  \\\n",
       "0  {'CUISINES': 'Cafe, Canadian', 'Special Diets'...   \n",
       "1  {'CUISINES': 'Cafe, Canadian', 'Special Diets'...   \n",
       "\n",
       "                                   Range_n_Cuisine  \\\n",
       "0  ['$$ - $$$', 'Quick Bites', 'Cafe', 'Canadian']   \n",
       "1  ['$$ - $$$', 'Quick Bites', 'Cafe', 'Canadian']   \n",
       "\n",
       "   P_Tags_best pizza,more pizza,order excellent,friendly staff food,more loaded side,great pizza,awesome pizza,crust awesome place,really good pizza,great crust sauce,good service,great thing,true place,great value,great dinner,many thing,quick service,good size,nice server  \\\n",
       "0                                                  0                                                                                                                                                                                                                                 \n",
       "1                                                  0                                                                                                                                                                                                                                 \n",
       "\n",
       "   P_Tags_best subway,good food,good service,healthy food subway,great job subway,good place,good sub u,many subway,good value,good job location,best server,good variety,good value quality,great food,great service,good old way,good chain store,good amount filling,friendly service quality,friendly staff dinner  \\\n",
       "0                                                  0                                                                                                                                                                                                                                                                     \n",
       "1                                                  0                                                                                                                                                                                                                                                                     \n",
       "\n",
       "   P_Tags_food amazing food,good thing,good way,friendly service,nice upgrade building,bar charming bartender,one best pizza,fantastic meal  \\\n",
       "0                                                  0                                                                                          \n",
       "1                                                  0                                                                                          \n",
       "\n",
       "   P_Tags_friendly tried place,good atmosphere,total great place,huge portion,good service,great decor waitress,great value,more item menu,deluxe burger,very clean pub  \\\n",
       "0                                                  0                                                                                                                      \n",
       "1                                                  0                                                                                                                      \n",
       "\n",
       "   P_Tags_good coffee,good getting coffee,good cup coffee,good service,good food,box good service,great coffee,good breakfast,good place,fast good place,quick coffee,coffee good staff,great fast service,great service,good location,nice coffee,coffee more parking,coffee excellent,good change,good menu  \\\n",
       "0                                                  0                                                                                                                                                                                                                                                            \n",
       "1                                                  0                                                                                                                                                                                                                                                            \n",
       "\n",
       "   P_Tags_good food,good selection,great service staff  \\\n",
       "0                                                  0     \n",
       "1                                                  0     \n",
       "\n",
       "   P_Tags_good mexican food,restaurant great food,good meal,more time,such great experience,very good restaurant,friendly server,my favorite restaurant,their best employee,lovely dinner,much better hubby  \\\n",
       "0                                                  0                                                                                                                                                          \n",
       "1                                                  0                                                                                                                                                          \n",
       "\n",
       "   P_Tags_great breakfast,good value,great food,great service,friendly staff husband,mile fabulous program,delicious egg benny,reliably good coffee,excellent atmosphere,good service,good food,good food place,good quick service,good food skip,good place,good restaurant,great service,good meal,good restaurant lunch,great food  \\\n",
       "0                                                  0                                                                                                                                                                                                                                                                                    \n",
       "1                                                  0                                                                                                                                                                                                                                                                                    \n",
       "\n",
       "   P_Tags_love sushi,sushi nice,fresh friendly service,quick food,delicious food,authentic wrapped sushi,wonderful food,great service,great place,many comment,huge party platter,still good wasabi,absolutely delicious thing  \\\n",
       "0                                                  0                                                                                                                                                                             \n",
       "1                                                  0                                                                                                                                                                             \n",
       "\n",
       "   P_Tags_not_availabe  \\\n",
       "0                    1   \n",
       "1                    1   \n",
       "\n",
       "   P_Tags_perfect food,many more dinner,wonderful delicious buffet,nice variety,our favorite server,our friendly server,our favorite place,u quick meal  \\\n",
       "0                                                  0                                                                                                      \n",
       "1                                                  0                                                                                                      \n",
       "\n",
       "   P_Tags_ready fish excellent,friendly parking,good care,good option owner,very friendly fish,coleslaw delicious,excellent food,minute safe bite,great love  \\\n",
       "0                                                  0                                                                                                           \n",
       "1                                                  0                                                                                                           \n",
       "\n",
       "   N_Tags_long line order,few tim horton,wrong order,punched wrong order,long line,long line ups,few staff,parking small lot,least staff,sour cream donut,world limited menu,small discount,made rude comment,small drink approx,wet dripping hand,incredibly poor service,very slow service,worst ever experience,vulnerable finance,ice cold food  \\\n",
       "0                                                  0                                                                                                                                                                                                                                                                                                  \n",
       "1                                                  0                                                                                                                                                                                                                                                                                                  \n",
       "\n",
       "   N_Tags_not_availabe  \\\n",
       "0                    1   \n",
       "1                    1   \n",
       "\n",
       "   N_Tags_poor service,food cold return,food nasty,service bland food,cold waitress,total waste money,cold tea,absolutely worst service,long hour,one few place,just bad pot  \\\n",
       "0                                                  0                                                                                                                           \n",
       "1                                                  0                                                                                                                           \n",
       "\n",
       "   N_Tags_subway stale bread,bad sandwich,cold wrap,single bottled beverage,refill cold refreshment,few day,serious lesson,little cardboard piece,tape chicken,very filthy staff,even single portion,not sure problem,late one night,approximately pm,not right temperature,worst subway,course few week,last few year,partial uniform,generally dirty woman  \\\n",
       "0                                                  0                                                                                                                                                                                                                                                                                                           \n",
       "1                                                  0                                                                                                                                                                                                                                                                                                           \n",
       "\n",
       "   N_Tags_supper bad decision,really awful pizza,area dirty table,terrible place  \\\n",
       "0                                                  0                               \n",
       "1                                                  0                               \n",
       "\n",
       "   N_Tags_terrible smog price  N_Tags_tired old barman,tired old bar  \\\n",
       "0                           0                                      0   \n",
       "1                           0                                      0   \n",
       "\n",
       "   N_Tags_tough end potato,bad time,not many patron  \\\n",
       "0                                                 0   \n",
       "1                                                 0   \n",
       "\n",
       "   Pos_Review_Quotes_a great latte,spacious place with reasonable selection of goodies  great staff but torture device chairs,a nice spot to hangout for a coffee,such good coffee  and lemon tarts     \\\n",
       "0                                                  0                                                                                                                                                     \n",
       "1                                                  0                                                                                                                                                     \n",
       "\n",
       "   Pos_Review_Quotes_a great stay,delicious grilled cheese ,the fairmont made our christmas dinner special ,wonderful stay,great return stay,love this hotel,absolutely stunning  over the top beautiful experience,magical banff,best stay yet ,exceptional service,beautiful place even if you end up in the carriage house,beautiful former canadian pacific railroad hotel,great old school elegance ,great hotel,wonderful breakfast buffet ,a very enjoyable stay,great place to shop,the chop house was excellent,it was ok,excellent high tea  \\\n",
       "0                                                  0                                                                                                                                                                                                                                                                                                                                                                                                                                                                                                    \n",
       "1                                                  0                                                                                                                                                                                                                                                                                                                                                                                                                                                                                                    \n",
       "\n",
       "   Pos_Review_Quotes_average sushi at best ,best sushi in town ,take the a train to best sushi house in banff,love the sushi train ,so good and fast,good service ,sushi served on a model railroad train   fantastic   kids loved it,loved the train,friendly  fresh  delicious,excellent sushi     in banff who would have thought ,authentic and delicious,the best sushi anywhere    ,good  quick  and simple,great for a quick meal,amazing sushi  even for the mountains,quick and delicious,nice and original,great sushi,quick and fresh,memorable   \\\n",
       "0                                                  0                                                                                                                                                                                                                                                                                                                                                                                                                                                                                                          \n",
       "1                                                  0                                                                                                                                                                                                                                                                                                                                                                                                                                                                                                          \n",
       "\n",
       "   Pos_Review_Quotes_excellent lunch,good and plentiful,excellent take away,great food   so flavourful,one more almost perfect restaurant   \\\n",
       "0                                                  0                                                                                         \n",
       "1                                                  0                                                                                         \n",
       "\n",
       "   Pos_Review_Quotes_good coffee place,don't pass this by    great food and great owners,really good place to stop for a coffee or quick lunch  ,beautiful setting overlooking wetlands,wonderful food ,food was good  nice community spot,wonderful spot for a delicious treat,tasty food  great coffee  friendly welcoming staff ,excellent java and baked treats,a true gem and great food great coffee great service,very nice people with a fine cafe,a delightful discovery,beautiful spot,an absolute delight  unforgettable ,a wonderful find ,best peanut butter cream pie,great coffee  fabulous sandwiches   blink and you'll miss it ,good coffee good company,quaint little spot  great food  friendly staff  \\\n",
       "0                                                  0                                                                                                                                                                                                                                                                                                                                                                                                                                                                                                                                                                                                                                                                        \n",
       "1                                                  0                                                                                                                                                                                                                                                                                                                                                                                                                                                                                                                                                                                                                                                                        \n",
       "\n",
       "   Pos_Review_Quotes_good food,good food,good lunch spot while waiting for the plane    \\\n",
       "0                                                  0                                     \n",
       "1                                                  0                                     \n",
       "\n",
       "   Pos_Review_Quotes_great coffee  good sandwiches  friendly staff,good for coffee  but very limited breakfast,best coffee in kamloops    jj bean is the star  \\\n",
       "0                                                  0                                                                                                            \n",
       "1                                                  0                                                                                                            \n",
       "\n",
       "   Pos_Review_Quotes_great service food and ambience ,delicious  ,great food  great service ,always top notch  always    \\\n",
       "0                                                  0                                                                      \n",
       "1                                                  0                                                                      \n",
       "\n",
       "   Pos_Review_Quotes_great spot ,amazing for eat in or take out ,great little family place,food ok  staff ok,simply stated     best service in lake cowichan,food ok  pricey and just ok,great dining and excellent food,great food  great staff ,great food  great service  ,great lunch,great local option in lake cowichan ,best food in town   ,super diner,great lunch and atmosphere,good old fashion family ran dinner,love this trendy little cafe ,good 'ol fifties type diner,amazing service ,love the ambiance  good ole 50's style ,great  \\\n",
       "0                                                  0                                                                                                                                                                                                                                                                                                                                                                                                                                                                                                     \n",
       "1                                                  0                                                                                                                                                                                                                                                                                                                                                                                                                                                                                                     \n",
       "\n",
       "   Pos_Review_Quotes_nice cafe but don't be in a hurry,amazing,amazing,good coffee   muffins   cheesecake,great breakfast  \\\n",
       "0                                                  0                                                                        \n",
       "1                                                  0                                                                        \n",
       "\n",
       "   Pos_Review_Quotes_not_availabe  Neg_Review_Quotes_a cozy community hub  \\\n",
       "0                               1                                       0   \n",
       "1                               1                                       0   \n",
       "\n",
       "   Neg_Review_Quotes_a little gem   \\\n",
       "0                                0   \n",
       "1                                0   \n",
       "\n",
       "   Neg_Review_Quotes_atrocious customer service,shocked and sad  \\\n",
       "0                                                  0              \n",
       "1                                                  0              \n",
       "\n",
       "   Neg_Review_Quotes_awful hotel  avoid at all costs,very disappointing afternoon tea,disappointed with changes being made  \\\n",
       "0                                                  0                                                                         \n",
       "1                                                  0                                                                         \n",
       "\n",
       "   Neg_Review_Quotes_disgusting ,cozy sushi restaurant in the mountains,fun  casual place for sushi ,hidden gem,i m not sure how this place got 4 out of 5 review ,cozy little place with fresh sushi prepared in front of you,average,casual and yummy,sushi go round,disappointed,horrible service,not enjoyable this time ,below average  ,service is terrible,average,neat little place,tiny and expensive,very average sushi,disappointing,neat little place  \\\n",
       "0                                                  0                                                                                                                                                                                                                                                                                                                                                                                                                \n",
       "1                                                  0                                                                                                                                                                                                                                                                                                                                                                                                                \n",
       "\n",
       "   Neg_Review_Quotes_horrible  rude service,poor,i agree     the pizza is a waste of money, would you like a little history with that  ,keep your money   pizza is not good   ,horrible food and service  \\\n",
       "0                                                  0                                                                                                                                                       \n",
       "1                                                  0                                                                                                                                                       \n",
       "\n",
       "   Neg_Review_Quotes_not_availabe  \\\n",
       "0                               1   \n",
       "1                               1   \n",
       "\n",
       "   Neg_Review_Quotes_terrible service ,terrible service  Cuisine_ American  \\\n",
       "0                                                  0                     0   \n",
       "1                                                  0                     0   \n",
       "\n",
       "   Cuisine_ American, Cafe, Fast food, Canadian  Cuisine_ American, Canadian  \\\n",
       "0                                             0                            0   \n",
       "1                                             0                            0   \n",
       "\n",
       "   Cuisine_ American, Deli  Cuisine_ American, Fast food  \\\n",
       "0                        0                             0   \n",
       "1                        0                             0   \n",
       "\n",
       "   Cuisine_ American, Fast food, Canadian  \\\n",
       "0                                       0   \n",
       "1                                       0   \n",
       "\n",
       "   Cuisine_ American, Fast food, Canadian, Cafe  \\\n",
       "0                                             0   \n",
       "1                                             0   \n",
       "\n",
       "   Cuisine_ American, Fast food, Deli  \\\n",
       "0                                   0   \n",
       "1                                   0   \n",
       "\n",
       "   Cuisine_ American, Fast food, European, Albanian  \\\n",
       "0                                                 0   \n",
       "1                                                 0   \n",
       "\n",
       "   Cuisine_ Bar, Canadian, Pub  Cuisine_ Bar, Pub, Canadian  \\\n",
       "0                            0                            0   \n",
       "1                            0                            0   \n",
       "\n",
       "   Cuisine_ British, Canadian, Seafood  Cuisine_ Cafe  \\\n",
       "0                                    0              0   \n",
       "1                                    0              0   \n",
       "\n",
       "   Cuisine_ Cafe, Canadian  Cuisine_ Cafe, Canadian, Soups  \\\n",
       "0                        1                               0   \n",
       "1                        1                               0   \n",
       "\n",
       "   Cuisine_ Cafe, Fast food  Cuisine_ Cafe, Fast food, Canadian  \\\n",
       "0                         0                                   0   \n",
       "1                         0                                   0   \n",
       "\n",
       "   Cuisine_ Cafe, Fast food, Healthy, Canadian, Soups  Cuisine_ Canadian  \\\n",
       "0                                                  0                   0   \n",
       "1                                                  0                   0   \n",
       "\n",
       "   Cuisine_ Canadian, Fast food  Cuisine_ Chinese, Asian  \\\n",
       "0                             0                        0   \n",
       "1                             0                        0   \n",
       "\n",
       "   Cuisine_ Chinese, Asian, Canadian  Cuisine_ Deli  Cuisine_ Diner, Canadian  \\\n",
       "0                                  0              0                         0   \n",
       "1                                  0              0                         0   \n",
       "\n",
       "   Cuisine_ Fast food  Cuisine_ Fast food, American  \\\n",
       "0                   0                             0   \n",
       "1                   0                             0   \n",
       "\n",
       "   Cuisine_ Fast food, American, Canadian  Cuisine_ Fast food, Cafe, Canadian  \\\n",
       "0                                       0                                   0   \n",
       "1                                       0                                   0   \n",
       "\n",
       "   Cuisine_ Fast food, Canadian  Cuisine_ Fast food, Canadian, American  \\\n",
       "0                             0                                       0   \n",
       "1                             0                                       0   \n",
       "\n",
       "   Cuisine_ Fast food, Canadian, American, Cafe  \\\n",
       "0                                             0   \n",
       "1                                             0   \n",
       "\n",
       "   Cuisine_ Fast food, Canadian, Cafe  Cuisine_ Fast food, Deli  \\\n",
       "0                                   0                         0   \n",
       "1                                   0                         0   \n",
       "\n",
       "   Cuisine_ International  Cuisine_ Japanese, Sushi, Asian  \\\n",
       "0                       0                                0   \n",
       "1                       0                                0   \n",
       "\n",
       "   Cuisine_ Mexican, German  Cuisine_ Pizza  \\\n",
       "0                         0               0   \n",
       "1                         0               0   \n",
       "\n",
       "   Cuisine_ Pizza, Italian, Fast food, Canadian  \\\n",
       "0                                             0   \n",
       "1                                             0   \n",
       "\n",
       "   Cuisine_ Street Food, Fast food  Cuisine_nan  \n",
       "0                                0            0  \n",
       "1                                0            0  "
      ]
     },
     "execution_count": 15,
     "metadata": {},
     "output_type": "execute_result"
    }
   ],
   "source": [
    "df2.head(2)"
   ]
  },
  {
   "cell_type": "code",
   "execution_count": 16,
   "metadata": {
    "execution": {
     "iopub.execute_input": "2020-10-24T14:14:11.259062Z",
     "iopub.status.busy": "2020-10-24T14:14:11.257972Z",
     "iopub.status.idle": "2020-10-24T14:14:11.266861Z",
     "shell.execute_reply": "2020-10-24T14:14:11.266230Z"
    },
    "papermill": {
     "duration": 0.050337,
     "end_time": "2020-10-24T14:14:11.266986",
     "exception": false,
     "start_time": "2020-10-24T14:14:11.216649",
     "status": "completed"
    },
    "tags": []
   },
   "outputs": [
    {
     "data": {
      "text/plain": [
       "10.0     1176\n",
       "217.0     638\n",
       "41.0      510\n",
       "225.0     266\n",
       "204.0      64\n",
       "363.0      54\n",
       "367.0      18\n",
       "368.0      14\n",
       "370.0      10\n",
       "376.0       7\n",
       "373.0       6\n",
       "380.0       6\n",
       "379.0       6\n",
       "369.0       5\n",
       "364.0       4\n",
       "Name: restaurant_id, dtype: int64"
      ]
     },
     "execution_count": 16,
     "metadata": {},
     "output_type": "execute_result"
    }
   ],
   "source": [
    "df2.restaurant_id.value_counts()"
   ]
  },
  {
   "cell_type": "code",
   "execution_count": 17,
   "metadata": {
    "execution": {
     "iopub.execute_input": "2020-10-24T14:14:11.352699Z",
     "iopub.status.busy": "2020-10-24T14:14:11.351530Z",
     "iopub.status.idle": "2020-10-24T14:14:11.364253Z",
     "shell.execute_reply": "2020-10-24T14:14:11.363391Z"
    },
    "papermill": {
     "duration": 0.059873,
     "end_time": "2020-10-24T14:14:11.364433",
     "exception": false,
     "start_time": "2020-10-24T14:14:11.304560",
     "status": "completed"
    },
    "tags": []
   },
   "outputs": [
    {
     "name": "stdout",
     "output_type": "stream",
     "text": [
      "Num users: 20, num_items 15.\n"
     ]
    }
   ],
   "source": [
    "#model establishment\n",
    "from lightfm.data import Dataset\n",
    "dataset = Dataset()\n",
    "dataset.fit(df2.user_id,df2.restaurant_id)\n",
    "type(dataset)\n",
    "num_users, num_items = dataset.interactions_shape()\n",
    "print('Num users: {}, num_items {}.'.format(num_users, num_items))"
   ]
  },
  {
   "cell_type": "code",
   "execution_count": 18,
   "metadata": {
    "execution": {
     "iopub.execute_input": "2020-10-24T14:14:11.459512Z",
     "iopub.status.busy": "2020-10-24T14:14:11.458380Z",
     "iopub.status.idle": "2020-10-24T14:14:11.463449Z",
     "shell.execute_reply": "2020-10-24T14:14:11.462455Z"
    },
    "papermill": {
     "duration": 0.060858,
     "end_time": "2020-10-24T14:14:11.463588",
     "exception": false,
     "start_time": "2020-10-24T14:14:11.402730",
     "status": "completed"
    },
    "tags": []
   },
   "outputs": [
    {
     "name": "stdout",
     "output_type": "stream",
     "text": [
      "<class 'lightfm.data.Dataset'>\n",
      "(20, 96)\n",
      "(15, 96)\n",
      "(20, 15)\n"
     ]
    }
   ],
   "source": [
    "from lightfm import LightFM\n",
    "dataset.fit_partial(items=df2.restaurant_id,\n",
    "                    item_features=['Rating_x'])\n",
    "dataset.fit_partial(items=df2.restaurant_id,\n",
    "                    item_features=['No_of_Reviews'])\n",
    "tar_cols = [x for x in df2.columns[8:]]\n",
    "dataset.fit_partial(items = df2.restaurant_id,\n",
    "                   item_features = tar_cols)   \n",
    "# Check data\n",
    "print(type(dataset))\n",
    "print(dataset.model_dimensions())\n",
    "print(dataset.item_features_shape())\n",
    "print(dataset.interactions_shape())"
   ]
  },
  {
   "cell_type": "code",
   "execution_count": 19,
   "metadata": {
    "execution": {
     "iopub.execute_input": "2020-10-24T14:14:11.551956Z",
     "iopub.status.busy": "2020-10-24T14:14:11.551064Z",
     "iopub.status.idle": "2020-10-24T14:14:11.554409Z",
     "shell.execute_reply": "2020-10-24T14:14:11.553751Z"
    },
    "papermill": {
     "duration": 0.051896,
     "end_time": "2020-10-24T14:14:11.554544",
     "exception": false,
     "start_time": "2020-10-24T14:14:11.502648",
     "status": "completed"
    },
    "tags": []
   },
   "outputs": [],
   "source": [
    "def create_interaction_matrix(df,user_col, item_col, rating_col, norm= False, threshold = None):\n",
    "    '''\n",
    "    Function to create an interaction matrix dataframe from transactional type interactions\n",
    "    Required Input -\n",
    "        - df = Pandas DataFrame containing user-item interactions\n",
    "        - user_col = column name containing user's identifier\n",
    "        - item_col = column name containing item's identifier\n",
    "        - rating col = column name containing user feedback on interaction with a given item\n",
    "        - norm (optional) = True if a normalization of ratings is needed\n",
    "        - threshold (required if norm = True) = value above which the rating is favorable\n",
    "    Expected output - \n",
    "        - Pandas dataframe with user-item interactions ready to be fed in a recommendation algorithm\n",
    "    '''\n",
    "    interactions = df.groupby([user_col, item_col])[rating_col] \\\n",
    "            .sum().unstack().reset_index(). \\\n",
    "            fillna(0).set_index(user_col)\n",
    "    if norm:\n",
    "        interactions = interactions.applymap(lambda x: 1 if x > threshold else 0)\n",
    "    return interactions"
   ]
  },
  {
   "cell_type": "code",
   "execution_count": 20,
   "metadata": {
    "execution": {
     "iopub.execute_input": "2020-10-24T14:14:11.639109Z",
     "iopub.status.busy": "2020-10-24T14:14:11.638248Z",
     "iopub.status.idle": "2020-10-24T14:14:11.667591Z",
     "shell.execute_reply": "2020-10-24T14:14:11.666907Z"
    },
    "papermill": {
     "duration": 0.074734,
     "end_time": "2020-10-24T14:14:11.667715",
     "exception": false,
     "start_time": "2020-10-24T14:14:11.592981",
     "status": "completed"
    },
    "tags": []
   },
   "outputs": [
    {
     "data": {
      "text/html": [
       "<div>\n",
       "<style scoped>\n",
       "    .dataframe tbody tr th:only-of-type {\n",
       "        vertical-align: middle;\n",
       "    }\n",
       "\n",
       "    .dataframe tbody tr th {\n",
       "        vertical-align: top;\n",
       "    }\n",
       "\n",
       "    .dataframe thead th {\n",
       "        text-align: right;\n",
       "    }\n",
       "</style>\n",
       "<table border=\"1\" class=\"dataframe\">\n",
       "  <thead>\n",
       "    <tr style=\"text-align: right;\">\n",
       "      <th>restaurant_id</th>\n",
       "      <th>10.0</th>\n",
       "      <th>41.0</th>\n",
       "      <th>204.0</th>\n",
       "      <th>217.0</th>\n",
       "      <th>225.0</th>\n",
       "      <th>363.0</th>\n",
       "      <th>364.0</th>\n",
       "      <th>367.0</th>\n",
       "      <th>368.0</th>\n",
       "      <th>369.0</th>\n",
       "      <th>370.0</th>\n",
       "      <th>373.0</th>\n",
       "      <th>376.0</th>\n",
       "      <th>379.0</th>\n",
       "      <th>380.0</th>\n",
       "    </tr>\n",
       "    <tr>\n",
       "      <th>user_id</th>\n",
       "      <th></th>\n",
       "      <th></th>\n",
       "      <th></th>\n",
       "      <th></th>\n",
       "      <th></th>\n",
       "      <th></th>\n",
       "      <th></th>\n",
       "      <th></th>\n",
       "      <th></th>\n",
       "      <th></th>\n",
       "      <th></th>\n",
       "      <th></th>\n",
       "      <th></th>\n",
       "      <th></th>\n",
       "      <th></th>\n",
       "    </tr>\n",
       "  </thead>\n",
       "  <tbody>\n",
       "    <tr>\n",
       "      <th>0.5</th>\n",
       "      <td>0.0</td>\n",
       "      <td>0.0</td>\n",
       "      <td>0.0</td>\n",
       "      <td>145.0</td>\n",
       "      <td>0.0</td>\n",
       "      <td>3.0</td>\n",
       "      <td>0.0</td>\n",
       "      <td>0.0</td>\n",
       "      <td>0.0</td>\n",
       "      <td>0.0</td>\n",
       "      <td>0.5</td>\n",
       "      <td>0.5</td>\n",
       "      <td>0.0</td>\n",
       "      <td>0.0</td>\n",
       "      <td>0.0</td>\n",
       "    </tr>\n",
       "    <tr>\n",
       "      <th>1.0</th>\n",
       "      <td>0.0</td>\n",
       "      <td>0.0</td>\n",
       "      <td>20.0</td>\n",
       "      <td>0.0</td>\n",
       "      <td>19.0</td>\n",
       "      <td>0.0</td>\n",
       "      <td>0.0</td>\n",
       "      <td>0.0</td>\n",
       "      <td>7.0</td>\n",
       "      <td>0.0</td>\n",
       "      <td>1.5</td>\n",
       "      <td>0.0</td>\n",
       "      <td>4.5</td>\n",
       "      <td>0.0</td>\n",
       "      <td>0.0</td>\n",
       "    </tr>\n",
       "  </tbody>\n",
       "</table>\n",
       "</div>"
      ],
      "text/plain": [
       "restaurant_id  10.0   41.0   204.0  217.0  225.0  363.0  364.0  367.0  368.0  \\\n",
       "user_id                                                                        \n",
       "0.5              0.0    0.0    0.0  145.0    0.0    3.0    0.0    0.0    0.0   \n",
       "1.0              0.0    0.0   20.0    0.0   19.0    0.0    0.0    0.0    7.0   \n",
       "\n",
       "restaurant_id  369.0  370.0  373.0  376.0  379.0  380.0  \n",
       "user_id                                                  \n",
       "0.5              0.0    0.5    0.5    0.0    0.0    0.0  \n",
       "1.0              0.0    1.5    0.0    4.5    0.0    0.0  "
      ]
     },
     "execution_count": 20,
     "metadata": {},
     "output_type": "execute_result"
    }
   ],
   "source": [
    "# Creating interaction matrix using rating data\n",
    "interactions = create_interaction_matrix(df = df2,\n",
    "                                         user_col = 'user_id',\n",
    "                                         item_col = 'restaurant_id',\n",
    "                                         rating_col = 'Rating_x')\n",
    "interactions.head(2)"
   ]
  },
  {
   "cell_type": "code",
   "execution_count": 21,
   "metadata": {
    "execution": {
     "iopub.execute_input": "2020-10-24T14:14:11.754009Z",
     "iopub.status.busy": "2020-10-24T14:14:11.753225Z",
     "iopub.status.idle": "2020-10-24T14:14:11.756682Z",
     "shell.execute_reply": "2020-10-24T14:14:11.755911Z"
    },
    "papermill": {
     "duration": 0.049204,
     "end_time": "2020-10-24T14:14:11.756830",
     "exception": false,
     "start_time": "2020-10-24T14:14:11.707626",
     "status": "completed"
    },
    "tags": []
   },
   "outputs": [],
   "source": [
    "from scipy.sparse import csr_matrix\n",
    "interactions = csr_matrix(interactions.values)"
   ]
  },
  {
   "cell_type": "code",
   "execution_count": 22,
   "metadata": {
    "execution": {
     "iopub.execute_input": "2020-10-24T14:14:11.847837Z",
     "iopub.status.busy": "2020-10-24T14:14:11.846674Z",
     "iopub.status.idle": "2020-10-24T14:14:11.850537Z",
     "shell.execute_reply": "2020-10-24T14:14:11.849908Z"
    },
    "papermill": {
     "duration": 0.05338,
     "end_time": "2020-10-24T14:14:11.850658",
     "exception": false,
     "start_time": "2020-10-24T14:14:11.797278",
     "status": "completed"
    },
    "tags": []
   },
   "outputs": [],
   "source": [
    "def build_dict(df,tar_cols,val_list):\n",
    "    rst = {}\n",
    "    for col in tar_cols:\n",
    "        rst[col] = df[col]\n",
    "    sum_val = sum(list(rst.values())) # get sum of all the tfidf values\n",
    "    \n",
    "    if(sum_val == 0):\n",
    "        return rst\n",
    "    else:\n",
    "        \n",
    "        w = (2-sum(val_list))/sum_val # weight for each tag to be able to sum to 1\n",
    "        for key,value in rst.items():\n",
    "            rst[key] = value * w\n",
    "    return rst"
   ]
  },
  {
   "cell_type": "code",
   "execution_count": 23,
   "metadata": {
    "execution": {
     "iopub.execute_input": "2020-10-24T14:14:11.938338Z",
     "iopub.status.busy": "2020-10-24T14:14:11.937291Z",
     "iopub.status.idle": "2020-10-24T14:14:11.941975Z",
     "shell.execute_reply": "2020-10-24T14:14:11.940987Z"
    },
    "papermill": {
     "duration": 0.051821,
     "end_time": "2020-10-24T14:14:11.942139",
     "exception": false,
     "start_time": "2020-10-24T14:14:11.890318",
     "status": "completed"
    },
    "tags": []
   },
   "outputs": [
    {
     "name": "stdout",
     "output_type": "stream",
     "text": [
      "5.0\n",
      "248.0\n"
     ]
    }
   ],
   "source": [
    "# get max of each column to regularize value to [0,1]\n",
    "max_rating = max(df2.Rating_x)\n",
    "max_b_no_rev = max(df2.No_of_Reviews)\n",
    "print(max_rating)\n",
    "print(max_b_no_rev)"
   ]
  },
  {
   "cell_type": "code",
   "execution_count": 24,
   "metadata": {
    "execution": {
     "iopub.execute_input": "2020-10-24T14:14:12.037360Z",
     "iopub.status.busy": "2020-10-24T14:14:12.036225Z",
     "iopub.status.idle": "2020-10-24T14:14:14.585362Z",
     "shell.execute_reply": "2020-10-24T14:14:14.586119Z"
    },
    "papermill": {
     "duration": 2.602279,
     "end_time": "2020-10-24T14:14:14.586289",
     "exception": false,
     "start_time": "2020-10-24T14:14:11.984010",
     "status": "completed"
    },
    "tags": []
   },
   "outputs": [
    {
     "name": "stdout",
     "output_type": "stream",
     "text": [
      "<15x96 sparse matrix of type '<class 'numpy.float32'>'\n",
      "\twith 1230 stored elements in Compressed Sparse Row format>\n",
      "(15, 96)\n"
     ]
    }
   ],
   "source": [
    "# give CF info weight 0.5, all other 0.5. Then in others, give (star, review count) 0.25 and tags 0.25\n",
    "item_features = dataset.build_item_features(((x['restaurant_id'], \n",
    "                                              {'Rating_x':0.5*x['Rating_x']/max_rating,\n",
    "                                               'No_of_Reviews':0.5*x['No_of_Reviews']/max_b_no_rev,\n",
    "                                               **build_dict(x,tar_cols,[0.5*x['Rating_x']/max_rating,\n",
    "                                                           0.5*x['No_of_Reviews']/max_b_no_rev])})\n",
    "                                              for index,x in df2.iterrows()))\n",
    "print(repr(item_features))\n",
    "print(item_features.shape)"
   ]
  },
  {
   "cell_type": "code",
   "execution_count": 25,
   "metadata": {
    "execution": {
     "iopub.execute_input": "2020-10-24T14:14:14.676058Z",
     "iopub.status.busy": "2020-10-24T14:14:14.674935Z",
     "iopub.status.idle": "2020-10-24T14:14:14.678546Z",
     "shell.execute_reply": "2020-10-24T14:14:14.679169Z"
    },
    "papermill": {
     "duration": 0.052283,
     "end_time": "2020-10-24T14:14:14.679331",
     "exception": false,
     "start_time": "2020-10-24T14:14:14.627048",
     "status": "completed"
    },
    "tags": []
   },
   "outputs": [
    {
     "name": "stdout",
     "output_type": "stream",
     "text": [
      "(1, 96)\n",
      "[array([0, 0, 0, 0, 0, 0, 0, 0], dtype=int32), array([10, 15, 16, 19, 30, 38, 51, 65], dtype=int32)]\n"
     ]
    }
   ],
   "source": [
    "# check features to see if weights make sense\n",
    "idx = 10\n",
    "tt = list(item_features[idx].nonzero())\n",
    "print(item_features[idx].shape)\n",
    "print(tt)"
   ]
  },
  {
   "cell_type": "code",
   "execution_count": 26,
   "metadata": {
    "execution": {
     "iopub.execute_input": "2020-10-24T14:14:14.769720Z",
     "iopub.status.busy": "2020-10-24T14:14:14.768945Z",
     "iopub.status.idle": "2020-10-24T14:14:14.772598Z",
     "shell.execute_reply": "2020-10-24T14:14:14.773269Z"
    },
    "papermill": {
     "duration": 0.052949,
     "end_time": "2020-10-24T14:14:14.773427",
     "exception": false,
     "start_time": "2020-10-24T14:14:14.720478",
     "status": "completed"
    },
    "tags": []
   },
   "outputs": [
    {
     "name": "stdout",
     "output_type": "stream",
     "text": [
      "[{0.0, 0.03448276, 0.16268632, 0.14137931, 0.010706339, 0.16268633}]\n"
     ]
    }
   ],
   "source": [
    "tt = item_features[idx].todense()\n",
    "import pandas as pd\n",
    "tt = pd.DataFrame(tt)\n",
    "print(list(map(set,tt.values)))# feature weight sum to 1, so if two are nonzero, each take weight 0.5. "
   ]
  },
  {
   "cell_type": "code",
   "execution_count": 27,
   "metadata": {
    "execution": {
     "iopub.execute_input": "2020-10-24T14:14:14.870100Z",
     "iopub.status.busy": "2020-10-24T14:14:14.868952Z",
     "iopub.status.idle": "2020-10-24T14:14:14.874495Z",
     "shell.execute_reply": "2020-10-24T14:14:14.875294Z"
    },
    "papermill": {
     "duration": 0.059704,
     "end_time": "2020-10-24T14:14:14.875462",
     "exception": false,
     "start_time": "2020-10-24T14:14:14.815758",
     "status": "completed"
    },
    "tags": []
   },
   "outputs": [
    {
     "name": "stdout",
     "output_type": "stream",
     "text": [
      "The dataset has 20 users and 15 items, with 46 interactions in the test and 46 interactions in the training set.\n"
     ]
    },
    {
     "data": {
      "text/plain": [
       "True"
      ]
     },
     "execution_count": 27,
     "metadata": {},
     "output_type": "execute_result"
    }
   ],
   "source": [
    "#train-test split\n",
    "seed = 1\n",
    "from lightfm import cross_validation \n",
    "train,test=cross_validation.random_train_test_split(interactions, test_percentage=0.5,\n",
    "                                                    random_state=np.random.RandomState(seed))\n",
    "\n",
    "print('The dataset has %s users and %s items, '\n",
    "      'with %s interactions in the test and %s interactions in the training set.'\n",
    "      % (train.shape[0], train.shape[1], test.getnnz(), train.getnnz()))\n",
    "\n",
    "train.multiply(test).nnz == 0 # make sure train and test are truly disjoint"
   ]
  },
  {
   "cell_type": "code",
   "execution_count": 28,
   "metadata": {
    "execution": {
     "iopub.execute_input": "2020-10-24T14:14:14.968356Z",
     "iopub.status.busy": "2020-10-24T14:14:14.967393Z",
     "iopub.status.idle": "2020-10-24T14:14:14.970956Z",
     "shell.execute_reply": "2020-10-24T14:14:14.970344Z"
    },
    "papermill": {
     "duration": 0.052217,
     "end_time": "2020-10-24T14:14:14.971087",
     "exception": false,
     "start_time": "2020-10-24T14:14:14.918870",
     "status": "completed"
    },
    "tags": []
   },
   "outputs": [],
   "source": [
    "from lightfm.evaluation import auc_score\n",
    "from lightfm.evaluation import precision_at_k,recall_at_k"
   ]
  },
  {
   "cell_type": "code",
   "execution_count": 29,
   "metadata": {
    "execution": {
     "iopub.execute_input": "2020-10-24T14:14:15.080544Z",
     "iopub.status.busy": "2020-10-24T14:14:15.074472Z",
     "iopub.status.idle": "2020-10-24T14:14:15.274149Z",
     "shell.execute_reply": "2020-10-24T14:14:15.276438Z"
    },
    "papermill": {
     "duration": 0.259356,
     "end_time": "2020-10-24T14:14:15.276671",
     "exception": false,
     "start_time": "2020-10-24T14:14:15.017315",
     "status": "completed"
    },
    "tags": []
   },
   "outputs": [
    {
     "name": "stdout",
     "output_type": "stream",
     "text": [
      "CPU times: user 14.1 ms, sys: 2.32 ms, total: 16.4 ms\n",
      "Wall time: 16.8 ms\n",
      "Collaborative filtering train AUC: 0.90031767\n",
      "Collaborative filtering test AUC: 0.4537261\n",
      "Train precision: 0.3900\n",
      "Test precision: 0.1895\n"
     ]
    }
   ],
   "source": [
    "NUM_THREADS = 25\n",
    "NUM_COMPONENTS = 21    \n",
    "NUM_EPOCHS = 16\n",
    "ITEM_ALPHA = 5.97967e-6\n",
    "learning_rate=0.033\n",
    "k =5\n",
    "## Pure Collaborative Filtering models\n",
    "# Let's fit a WARP model\n",
    "model = LightFM(loss='warp',random_state=seed,\n",
    "                item_alpha=ITEM_ALPHA,\n",
    "               no_components=NUM_COMPONENTS,\n",
    "               learning_rate=learning_rate)\n",
    "\n",
    "#  time it.\n",
    "%time model = model.fit(train,epochs=NUM_EPOCHS,num_threads=NUM_THREADS)\n",
    "\n",
    "\n",
    "\n",
    "# Compute and print the AUC score\n",
    "train_auc = auc_score(model, train, num_threads=NUM_THREADS).mean()\n",
    "print('Collaborative filtering train AUC: %s' % train_auc)\n",
    "\n",
    "test_auc = auc_score(model, test,num_threads=NUM_THREADS).mean()\n",
    "print('Collaborative filtering test AUC: %s' % test_auc)\n",
    "\n",
    "\n",
    "print(\"Train precision: %.4f\" % precision_at_k(model, train, k=k,num_threads=NUM_THREADS).mean())\n",
    "print(\"Test precision: %.4f\" % precision_at_k(model, test,train_interactions=train,\n",
    "                                              k=k,num_threads=NUM_THREADS).mean())"
   ]
  },
  {
   "cell_type": "code",
   "execution_count": 30,
   "metadata": {
    "execution": {
     "iopub.execute_input": "2020-10-24T14:14:15.523842Z",
     "iopub.status.busy": "2020-10-24T14:14:15.522909Z",
     "iopub.status.idle": "2020-10-24T14:14:15.525517Z",
     "shell.execute_reply": "2020-10-24T14:14:15.526071Z"
    },
    "papermill": {
     "duration": 0.054129,
     "end_time": "2020-10-24T14:14:15.526236",
     "exception": false,
     "start_time": "2020-10-24T14:14:15.472107",
     "status": "completed"
    },
    "tags": []
   },
   "outputs": [],
   "source": [
    "def create_user_dict(interactions):\n",
    "    '''\n",
    "    Function to create a user dictionary based on their index and number in interaction dataset\n",
    "    Required Input - \n",
    "        interactions - dataset create by create_interaction_matrix\n",
    "    Expected Output -\n",
    "        user_dict - Dictionary type output containing interaction_index as key and user_id as value\n",
    "    '''\n",
    "    user_id = list(interactions.indices)\n",
    "    user_dict = {}\n",
    "    counter = 0 \n",
    "    for i in user_id:\n",
    "        user_dict[i] = counter\n",
    "        counter += 1\n",
    "    return user_dict"
   ]
  },
  {
   "cell_type": "code",
   "execution_count": 31,
   "metadata": {
    "execution": {
     "iopub.execute_input": "2020-10-24T14:14:15.622646Z",
     "iopub.status.busy": "2020-10-24T14:14:15.621672Z",
     "iopub.status.idle": "2020-10-24T14:14:15.625337Z",
     "shell.execute_reply": "2020-10-24T14:14:15.624687Z"
    },
    "papermill": {
     "duration": 0.055075,
     "end_time": "2020-10-24T14:14:15.625478",
     "exception": false,
     "start_time": "2020-10-24T14:14:15.570403",
     "status": "completed"
    },
    "tags": []
   },
   "outputs": [],
   "source": [
    "def create_item_dict(df,id_col,name_col):\n",
    "    '''\n",
    "    Function to create an item dictionary based on their item_id and item name\n",
    "    Required Input - \n",
    "        - df = Pandas dataframe with Item information\n",
    "        - id_col = Column name containing unique identifier for an item\n",
    "        - name_col = Column name containing name of the item\n",
    "    Expected Output -\n",
    "        item_dict = Dictionary type output containing item_id as key and item_name as value\n",
    "    '''\n",
    "    item_dict ={}\n",
    "    for i in range(df.shape[0]):\n",
    "        item_dict[(df.loc[i,id_col])] = df.loc[i,name_col]\n",
    "    return item_dict"
   ]
  },
  {
   "cell_type": "code",
   "execution_count": 32,
   "metadata": {
    "execution": {
     "iopub.execute_input": "2020-10-24T14:14:15.826943Z",
     "iopub.status.busy": "2020-10-24T14:14:15.816427Z",
     "iopub.status.idle": "2020-10-24T14:14:15.892256Z",
     "shell.execute_reply": "2020-10-24T14:14:15.891524Z"
    },
    "papermill": {
     "duration": 0.222085,
     "end_time": "2020-10-24T14:14:15.892385",
     "exception": false,
     "start_time": "2020-10-24T14:14:15.670300",
     "status": "completed"
    },
    "tags": []
   },
   "outputs": [],
   "source": [
    "# Create User Dict\n",
    "user_dict = create_user_dict(interactions=interactions)\n",
    "# Create Item dict\n",
    "restr_dict = create_item_dict(df = df1,\n",
    "                               id_col = 'restaurant_id',\n",
    "                               name_col = 'title')"
   ]
  },
  {
   "cell_type": "code",
   "execution_count": 33,
   "metadata": {
    "execution": {
     "iopub.execute_input": "2020-10-24T14:14:15.996739Z",
     "iopub.status.busy": "2020-10-24T14:14:15.991211Z",
     "iopub.status.idle": "2020-10-24T14:14:16.004658Z",
     "shell.execute_reply": "2020-10-24T14:14:16.003883Z"
    },
    "papermill": {
     "duration": 0.067958,
     "end_time": "2020-10-24T14:14:16.004811",
     "exception": false,
     "start_time": "2020-10-24T14:14:15.936853",
     "status": "completed"
    },
    "tags": []
   },
   "outputs": [],
   "source": [
    "def sample_recommendation_user(model, interactions, user_id, user_dict, \n",
    "                               item_dict,threshold = 0,nrec_items = 5, show = True):\n",
    "    '''\n",
    "    Function to produce user recommendations\n",
    "    Required Input - \n",
    "        - model = Trained matrix factorization model\n",
    "        - interactions = dataset used for training the model\n",
    "        - user_id = user ID for which we need to generate recommendation\n",
    "        - user_dict = Dictionary type input containing interaction_index as key and user_id as value\n",
    "        - item_dict = Dictionary type input containing item_id as key and item_name as value\n",
    "        - threshold = value above which the rating is favorable in new interaction matrix\n",
    "        - nrec_items = Number of output recommendation needed\n",
    "    Expected Output - \n",
    "        - Prints list of items the given user has already bought\n",
    "        - Prints list of N recommended items  which user hopefully will be interested in\n",
    "    '''\n",
    "    n_users, n_items = interactions.shape\n",
    "    user_x = user_dict[user_id]\n",
    "    scores = pd.Series(model.predict(user_x,np.arange(n_items)))\n",
    "    scores.index = interactions.columns\n",
    "    scores = list(pd.Series(scores.sort_values(ascending=False).index))\n",
    "    \n",
    "    known_items = list(pd.Series(interactions.loc[user_id,:] \\\n",
    "                                 [interactions.loc[user_id,:] > threshold].index) \\\n",
    "                                 .sort_values(ascending=False))\n",
    "    \n",
    "    scores = [x for x in scores if x not in known_items]\n",
    "    return_score_list = scores[0:nrec_items]\n",
    "    known_items = list(pd.Series(known_items).apply(lambda x: item_dict[x]))\n",
    "    scores = list(pd.Series(return_score_list).apply(lambda x: item_dict[x]))\n",
    "    if show == True:\n",
    "        print(\"Known Likes:\")\n",
    "        counter = 1\n",
    "        for i in known_items:\n",
    "            print(str(counter) + '- ' + i)\n",
    "            counter+=1\n",
    "\n",
    "        print(\"\\n Recommended Items:\")\n",
    "        counter = 1\n",
    "        for i in scores:\n",
    "            print(str(counter) + '- ' + i)\n",
    "            counter+=1\n",
    "    return return_score_list"
   ]
  },
  {
   "cell_type": "code",
   "execution_count": 64,
   "metadata": {
    "execution": {
     "iopub.execute_input": "2020-10-24T14:14:16.102076Z",
     "iopub.status.busy": "2020-10-24T14:14:16.101210Z",
     "iopub.status.idle": "2020-10-24T14:14:16.211222Z",
     "shell.execute_reply": "2020-10-24T14:14:16.210572Z"
    },
    "papermill": {
     "duration": 0.161972,
     "end_time": "2020-10-24T14:14:16.211361",
     "exception": false,
     "start_time": "2020-10-24T14:14:16.049389",
     "status": "completed"
    },
    "tags": []
   },
   "outputs": [
    {
     "ename": "KeyError",
     "evalue": "'ff52b7331f2ccab0582678644fed9d85'",
     "output_type": "error",
     "traceback": [
      "\u001b[0;31m---------------------------------------------------------------------------\u001b[0m",
      "\u001b[0;31mKeyError\u001b[0m                                  Traceback (most recent call last)",
      "\u001b[0;32m<ipython-input-64-cc5e8ed437de>\u001b[0m in \u001b[0;36m<module>\u001b[0;34m\u001b[0m\n\u001b[1;32m     11\u001b[0m                            \u001b[0muser_dict\u001b[0m\u001b[0;34m=\u001b[0m\u001b[0muser_dict\u001b[0m\u001b[0;34m,\u001b[0m\u001b[0;34m\u001b[0m\u001b[0;34m\u001b[0m\u001b[0m\n\u001b[1;32m     12\u001b[0m                            \u001b[0mitem_dict\u001b[0m\u001b[0;34m=\u001b[0m\u001b[0mrestr_dict\u001b[0m\u001b[0;34m,\u001b[0m\u001b[0;34m\u001b[0m\u001b[0;34m\u001b[0m\u001b[0m\n\u001b[0;32m---> 13\u001b[0;31m                           threshold=3)\n\u001b[0m",
      "\u001b[0;32m<ipython-input-33-e36aca8dbdbe>\u001b[0m in \u001b[0;36msample_recommendation_user\u001b[0;34m(model, interactions, user_id, user_dict, item_dict, threshold, nrec_items, show)\u001b[0m\n\u001b[1;32m     16\u001b[0m     '''\n\u001b[1;32m     17\u001b[0m     \u001b[0mn_users\u001b[0m\u001b[0;34m,\u001b[0m \u001b[0mn_items\u001b[0m \u001b[0;34m=\u001b[0m \u001b[0minteractions\u001b[0m\u001b[0;34m.\u001b[0m\u001b[0mshape\u001b[0m\u001b[0;34m\u001b[0m\u001b[0;34m\u001b[0m\u001b[0m\n\u001b[0;32m---> 18\u001b[0;31m     \u001b[0muser_x\u001b[0m \u001b[0;34m=\u001b[0m \u001b[0muser_dict\u001b[0m\u001b[0;34m[\u001b[0m\u001b[0muser_id\u001b[0m\u001b[0;34m]\u001b[0m\u001b[0;34m\u001b[0m\u001b[0;34m\u001b[0m\u001b[0m\n\u001b[0m\u001b[1;32m     19\u001b[0m     \u001b[0mscores\u001b[0m \u001b[0;34m=\u001b[0m \u001b[0mpd\u001b[0m\u001b[0;34m.\u001b[0m\u001b[0mSeries\u001b[0m\u001b[0;34m(\u001b[0m\u001b[0mmodel\u001b[0m\u001b[0;34m.\u001b[0m\u001b[0mpredict\u001b[0m\u001b[0;34m(\u001b[0m\u001b[0muser_x\u001b[0m\u001b[0;34m,\u001b[0m\u001b[0mnp\u001b[0m\u001b[0;34m.\u001b[0m\u001b[0marange\u001b[0m\u001b[0;34m(\u001b[0m\u001b[0mn_items\u001b[0m\u001b[0;34m)\u001b[0m\u001b[0;34m)\u001b[0m\u001b[0;34m)\u001b[0m\u001b[0;34m\u001b[0m\u001b[0;34m\u001b[0m\u001b[0m\n\u001b[1;32m     20\u001b[0m     \u001b[0mscores\u001b[0m\u001b[0;34m.\u001b[0m\u001b[0mindex\u001b[0m \u001b[0;34m=\u001b[0m \u001b[0minteractions\u001b[0m\u001b[0;34m.\u001b[0m\u001b[0mcolumns\u001b[0m\u001b[0;34m\u001b[0m\u001b[0;34m\u001b[0m\u001b[0m\n",
      "\u001b[0;31mKeyError\u001b[0m: 'ff52b7331f2ccab0582678644fed9d85'"
     ]
    }
   ],
   "source": [
    "# ## Calling 5 restaurant recommendation for user id 7\n",
    "# rec_list = sample_recommendation_user(model, \n",
    "#                                       interactions, \n",
    "#                                       user_id = 7, \n",
    "#                                       item_dict = restr_dict,\n",
    "#                                      user_dict=user_dict,\n",
    "#                                       threshold=3,\n",
    "#                                      show=True)\n",
    "sample_recommendation_user(model, interactions, \n",
    "                           user_id='ff52b7331f2ccab0582678644fed9d85', \n",
    "                           user_dict=user_dict, \n",
    "                           item_dict=restr_dict,\n",
    "                          threshold=3)"
   ]
  },
  {
   "cell_type": "code",
   "execution_count": 44,
   "metadata": {
    "execution": {
     "iopub.execute_input": "2020-10-24T14:14:16.318550Z",
     "iopub.status.busy": "2020-10-24T14:14:16.317665Z",
     "iopub.status.idle": "2020-10-24T14:14:16.323008Z",
     "shell.execute_reply": "2020-10-24T14:14:16.322389Z"
    },
    "papermill": {
     "duration": 0.066505,
     "end_time": "2020-10-24T14:14:16.323138",
     "exception": false,
     "start_time": "2020-10-24T14:14:16.256633",
     "status": "completed"
    },
    "tags": []
   },
   "outputs": [
    {
     "ename": "NameError",
     "evalue": "name 'rec_list' is not defined",
     "output_type": "error",
     "traceback": [
      "\u001b[0;31m---------------------------------------------------------------------------\u001b[0m",
      "\u001b[0;31mNameError\u001b[0m                                 Traceback (most recent call last)",
      "\u001b[0;32m<ipython-input-44-aa5a3bd7285b>\u001b[0m in \u001b[0;36m<module>\u001b[0;34m\u001b[0m\n\u001b[0;32m----> 1\u001b[0;31m \u001b[0mprint\u001b[0m\u001b[0;34m(\u001b[0m\u001b[0mrec_list\u001b[0m\u001b[0;34m)\u001b[0m\u001b[0;34m\u001b[0m\u001b[0;34m\u001b[0m\u001b[0m\n\u001b[0m",
      "\u001b[0;31mNameError\u001b[0m: name 'rec_list' is not defined"
     ]
    }
   ],
   "source": [
    "print(rec_list)"
   ]
  },
  {
   "cell_type": "code",
   "execution_count": null,
   "metadata": {
    "papermill": {
     "duration": 0.046134,
     "end_time": "2020-10-24T14:14:16.415871",
     "exception": false,
     "start_time": "2020-10-24T14:14:16.369737",
     "status": "completed"
    },
    "tags": []
   },
   "outputs": [],
   "source": []
  },
  {
   "cell_type": "code",
   "execution_count": null,
   "metadata": {},
   "outputs": [],
   "source": []
  }
 ],
 "metadata": {
  "kernelspec": {
   "display_name": "Python 3",
   "language": "python",
   "name": "python3"
  },
  "language_info": {
   "codemirror_mode": {
    "name": "ipython",
    "version": 3
   },
   "file_extension": ".py",
   "mimetype": "text/x-python",
   "name": "python",
   "nbconvert_exporter": "python",
   "pygments_lexer": "ipython3",
   "version": "3.8.3"
  },
  "papermill": {
   "duration": 13.553536,
   "end_time": "2020-10-24T14:14:16.570698",
   "environment_variables": {},
   "exception": null,
   "input_path": "__notebook__.ipynb",
   "output_path": "__notebook__.ipynb",
   "parameters": {},
   "start_time": "2020-10-24T14:14:03.017162",
   "version": "2.1.0"
  }
 },
 "nbformat": 4,
 "nbformat_minor": 4
}
