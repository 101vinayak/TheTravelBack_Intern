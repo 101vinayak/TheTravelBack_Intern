{
 "cells": [
  {
   "cell_type": "code",
   "execution_count": 1,
   "metadata": {},
   "outputs": [],
   "source": [
    "import selenium\n",
    "from selenium import webdriver\n",
    "from selenium.webdriver.common.keys import Keys\n",
    "from selenium.webdriver.common.by import By\n",
    "from selenium.webdriver.support.ui import WebDriverWait\n",
    "from selenium.webdriver.support import expected_conditions as EC\n",
    "from selenium.webdriver.chrome.options import Options\n",
    "from bs4 import BeautifulSoup as bs\n",
    "from lxml import html\n",
    "\n",
    "from PIL import Image\n",
    "import io\n",
    "from selenium.common.exceptions import ElementClickInterceptedException\n",
    "\n",
    "import requests\n",
    "import time\n",
    "import csv\n",
    "import re \n",
    "import os\n",
    "from multiprocessing import Pool\n",
    "\n",
    "import numpy as np\n",
    "import pandas as pd\n",
    "import random\n",
    "\n",
    "from vancouver_utils import get_urls"
   ]
  },
  {
   "cell_type": "code",
   "execution_count": 2,
   "metadata": {},
   "outputs": [
    {
     "data": {
      "text/html": [
       "<div>\n",
       "<style scoped>\n",
       "    .dataframe tbody tr th:only-of-type {\n",
       "        vertical-align: middle;\n",
       "    }\n",
       "\n",
       "    .dataframe tbody tr th {\n",
       "        vertical-align: top;\n",
       "    }\n",
       "\n",
       "    .dataframe thead th {\n",
       "        text-align: right;\n",
       "    }\n",
       "</style>\n",
       "<table border=\"1\" class=\"dataframe\">\n",
       "  <thead>\n",
       "    <tr style=\"text-align: right;\">\n",
       "      <th></th>\n",
       "      <th>Title</th>\n",
       "      <th>rating</th>\n",
       "      <th>region</th>\n",
       "      <th>difficulty</th>\n",
       "      <th>time</th>\n",
       "      <th>distance</th>\n",
       "      <th>season</th>\n",
       "      <th>link</th>\n",
       "    </tr>\n",
       "  </thead>\n",
       "  <tbody>\n",
       "    <tr>\n",
       "      <th>0</th>\n",
       "      <td>Abby Grind</td>\n",
       "      <td>4.34783 Stars</td>\n",
       "      <td>Fraser Valley East</td>\n",
       "      <td>Intermediate</td>\n",
       "      <td>1.5 hours</td>\n",
       "      <td>4km</td>\n",
       "      <td>year-round</td>\n",
       "      <td>https://www.vancouvertrails.com/trails/abby-gr...</td>\n",
       "    </tr>\n",
       "    <tr>\n",
       "      <th>1</th>\n",
       "      <td>Admiralty Point</td>\n",
       "      <td>4.47368 Stars</td>\n",
       "      <td>Tri Cities</td>\n",
       "      <td>Easy</td>\n",
       "      <td>1.5 hours</td>\n",
       "      <td>5km</td>\n",
       "      <td>year-round</td>\n",
       "      <td>https://www.vancouvertrails.com/trails/admiral...</td>\n",
       "    </tr>\n",
       "    <tr>\n",
       "      <th>2</th>\n",
       "      <td>Al's Habrich Ridge Trail</td>\n",
       "      <td>Four Stars</td>\n",
       "      <td>Howe Sound</td>\n",
       "      <td>Intermediate</td>\n",
       "      <td>5 hours</td>\n",
       "      <td>7km</td>\n",
       "      <td>July - October</td>\n",
       "      <td>https://www.vancouvertrails.com/trails/als-hab...</td>\n",
       "    </tr>\n",
       "    <tr>\n",
       "      <th>3</th>\n",
       "      <td>Aldergrove Regional Park</td>\n",
       "      <td>4.44444 Stars</td>\n",
       "      <td>Surrey and Langley</td>\n",
       "      <td>Easy</td>\n",
       "      <td>2 hours</td>\n",
       "      <td>5km</td>\n",
       "      <td>year-round</td>\n",
       "      <td>https://www.vancouvertrails.com/trails/aldergr...</td>\n",
       "    </tr>\n",
       "    <tr>\n",
       "      <th>4</th>\n",
       "      <td>Alexandra Bridge</td>\n",
       "      <td>Five Stars</td>\n",
       "      <td>Fraser Valley East</td>\n",
       "      <td>Easy</td>\n",
       "      <td>0.5 hours</td>\n",
       "      <td>1.6km</td>\n",
       "      <td>March - November</td>\n",
       "      <td>https://www.vancouvertrails.com/trails/alexand...</td>\n",
       "    </tr>\n",
       "  </tbody>\n",
       "</table>\n",
       "</div>"
      ],
      "text/plain": [
       "                      Title         rating              region    difficulty  \\\n",
       "0                Abby Grind  4.34783 Stars  Fraser Valley East  Intermediate   \n",
       "1           Admiralty Point  4.47368 Stars          Tri Cities          Easy   \n",
       "2  Al's Habrich Ridge Trail     Four Stars          Howe Sound  Intermediate   \n",
       "3  Aldergrove Regional Park  4.44444 Stars  Surrey and Langley          Easy   \n",
       "4          Alexandra Bridge     Five Stars  Fraser Valley East          Easy   \n",
       "\n",
       "        time distance            season  \\\n",
       "0  1.5 hours      4km        year-round   \n",
       "1  1.5 hours      5km        year-round   \n",
       "2    5 hours      7km    July - October   \n",
       "3    2 hours      5km        year-round   \n",
       "4  0.5 hours    1.6km  March - November   \n",
       "\n",
       "                                                link  \n",
       "0  https://www.vancouvertrails.com/trails/abby-gr...  \n",
       "1  https://www.vancouvertrails.com/trails/admiral...  \n",
       "2  https://www.vancouvertrails.com/trails/als-hab...  \n",
       "3  https://www.vancouvertrails.com/trails/aldergr...  \n",
       "4  https://www.vancouvertrails.com/trails/alexand...  "
      ]
     },
     "execution_count": 2,
     "metadata": {},
     "output_type": "execute_result"
    }
   ],
   "source": [
    "df = get_urls()\n",
    "df.head()"
   ]
  },
  {
   "cell_type": "code",
   "execution_count": 3,
   "metadata": {},
   "outputs": [],
   "source": [
    "# urls = df['link']\n",
    "# titles = df['Title']\n",
    "# rating = df['rating']\n",
    "# region = df['region']"
   ]
  },
  {
   "cell_type": "code",
   "execution_count": null,
   "metadata": {
    "scrolled": true
   },
   "outputs": [],
   "source": []
  },
  {
   "cell_type": "code",
   "execution_count": 13,
   "metadata": {},
   "outputs": [],
   "source": [
    "num = list(i for i in range(188))"
   ]
  },
  {
   "cell_type": "code",
   "execution_count": 10,
   "metadata": {},
   "outputs": [],
   "source": [
    "from vancouver_utils import scrape_trail\n",
    "if __name__=='__main__':\n",
    "    p = Pool(20)\n",
    "    p.map(scrape_trail, num)"
   ]
  },
  {
   "cell_type": "code",
   "execution_count": 3,
   "metadata": {},
   "outputs": [
    {
     "data": {
      "text/html": [
       "<div>\n",
       "<style scoped>\n",
       "    .dataframe tbody tr th:only-of-type {\n",
       "        vertical-align: middle;\n",
       "    }\n",
       "\n",
       "    .dataframe tbody tr th {\n",
       "        vertical-align: top;\n",
       "    }\n",
       "\n",
       "    .dataframe thead th {\n",
       "        text-align: right;\n",
       "    }\n",
       "</style>\n",
       "<table border=\"1\" class=\"dataframe\">\n",
       "  <thead>\n",
       "    <tr style=\"text-align: right;\">\n",
       "      <th></th>\n",
       "      <th>Title</th>\n",
       "      <th>Info</th>\n",
       "      <th>Details</th>\n",
       "      <th>Comments</th>\n",
       "    </tr>\n",
       "  </thead>\n",
       "  <tbody>\n",
       "    <tr>\n",
       "      <th>0</th>\n",
       "      <td>Admiralty Point</td>\n",
       "      <td>Located in Belcarra Regional Park, Admiralty P...</td>\n",
       "      <td>{'Difficulty': 'Easy', 'Time': '1.5 hours', 'T...</td>\n",
       "      <td>[{'Name': 'Jessica from Vancouver', 'rate': '3...</td>\n",
       "    </tr>\n",
       "    <tr>\n",
       "      <th>1</th>\n",
       "      <td>Admiralty Point</td>\n",
       "      <td>Located in Belcarra Regional Park, Admiralty P...</td>\n",
       "      <td>{'Difficulty': 'Easy', 'Time': '1.5 hours', 'T...</td>\n",
       "      <td>[{'Name': 'Jessica from Vancouver', 'rate': '3...</td>\n",
       "    </tr>\n",
       "    <tr>\n",
       "      <th>2</th>\n",
       "      <td>Abby Grind</td>\n",
       "      <td>The Abby Grind is a steep hike that gains abou...</td>\n",
       "      <td>{'Difficulty': 'Intermediate', 'Time': '1.5 ho...</td>\n",
       "      <td>[{'Name': 'Karim from Abbotsford', 'rate': '5'...</td>\n",
       "    </tr>\n",
       "  </tbody>\n",
       "</table>\n",
       "</div>"
      ],
      "text/plain": [
       "             Title                                               Info  \\\n",
       "0  Admiralty Point  Located in Belcarra Regional Park, Admiralty P...   \n",
       "1  Admiralty Point  Located in Belcarra Regional Park, Admiralty P...   \n",
       "2       Abby Grind  The Abby Grind is a steep hike that gains abou...   \n",
       "\n",
       "                                             Details  \\\n",
       "0  {'Difficulty': 'Easy', 'Time': '1.5 hours', 'T...   \n",
       "1  {'Difficulty': 'Easy', 'Time': '1.5 hours', 'T...   \n",
       "2  {'Difficulty': 'Intermediate', 'Time': '1.5 ho...   \n",
       "\n",
       "                                            Comments  \n",
       "0  [{'Name': 'Jessica from Vancouver', 'rate': '3...  \n",
       "1  [{'Name': 'Jessica from Vancouver', 'rate': '3...  \n",
       "2  [{'Name': 'Karim from Abbotsford', 'rate': '5'...  "
      ]
     },
     "execution_count": 3,
     "metadata": {},
     "output_type": "execute_result"
    }
   ],
   "source": [
    "df = pd.read_csv('vancouver_extract.csv')\n",
    "df"
   ]
  },
  {
   "cell_type": "code",
   "execution_count": 6,
   "metadata": {},
   "outputs": [
    {
     "data": {
      "text/plain": [
       "\"{'Difficulty': 'Easy', 'Time': '1.5 hours', 'Trip length': '5km', 'Elevation gain': 'minimal', 'season': 'year-round', 'camping': 'No', 'time from vancouver': '1 hour', 'public transit': 'Yes', 'dog friendly': 'On-Leash', 'rating': '4.47368 Stars', 'region': 'Tri Cities'}\""
      ]
     },
     "execution_count": 6,
     "metadata": {},
     "output_type": "execute_result"
    }
   ],
   "source": [
    "df['Details'][0]"
   ]
  },
  {
   "cell_type": "code",
   "execution_count": null,
   "metadata": {},
   "outputs": [],
   "source": []
  }
 ],
 "metadata": {
  "kernelspec": {
   "display_name": "Python 3",
   "language": "python",
   "name": "python3"
  },
  "language_info": {
   "codemirror_mode": {
    "name": "ipython",
    "version": 3
   },
   "file_extension": ".py",
   "mimetype": "text/x-python",
   "name": "python",
   "nbconvert_exporter": "python",
   "pygments_lexer": "ipython3",
   "version": "3.8.3"
  }
 },
 "nbformat": 4,
 "nbformat_minor": 4
}
