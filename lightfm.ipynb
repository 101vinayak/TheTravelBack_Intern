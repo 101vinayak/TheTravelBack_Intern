{
 "cells": [
  {
   "cell_type": "code",
   "execution_count": 1,
   "metadata": {
    "_cell_guid": "ddc52239-fba0-4a32-ada9-e19b831be89b",
    "_uuid": "6c873cd5-b251-4b7a-8728-0cbac65bf305"
   },
   "outputs": [],
   "source": [
    "# This Python 3 environment comes with many helpful analytics libraries installed\n",
    "# It is defined by the kaggle/python Docker image: https://github.com/kaggle/docker-python\n",
    "# For example, here's several helpful packages to load\n",
    "\n",
    "import numpy as np # linear algebra\n",
    "import pandas as pd # data processing, CSV file I/O (e.g. pd.read_csv)\n",
    "\n",
    "# Input data files are available in the read-only \"../input/\" directory\n",
    "# For example, running this (by clicking run or pressing Shift+Enter) will list all files under the input directory\n",
    "\n",
    "import os\n",
    "for dirname, _, filenames in os.walk('/kaggle/input'):\n",
    "    for filename in filenames:\n",
    "        print(os.path.join(dirname, filename))\n",
    "\n",
    "# You can write up to 5GB to the current directory (/kaggle/working/) that gets preserved as output when you create a version using \"Save & Run All\" \n",
    "# You can also write temporary files to /kaggle/temp/, but they won't be saved outside of the current session"
   ]
  },
  {
   "cell_type": "code",
   "execution_count": 2,
   "metadata": {
    "_cell_guid": "e08ed006-bd02-4c10-bf37-3f1d55f9426c",
    "_uuid": "26992f77-561e-4a4d-940e-084572583642"
   },
   "outputs": [],
   "source": [
    "pd.set_option('display.max_columns', None)\n",
    "pd.set_option('display.max_rows', None)"
   ]
  },
  {
   "cell_type": "code",
   "execution_count": 3,
   "metadata": {
    "_cell_guid": "d087ad5d-bcdb-4dde-8ad3-ab83f646eb57",
    "_uuid": "989970e4-0a54-4fab-934f-8dbe5236a7b0"
   },
   "outputs": [
    {
     "data": {
      "text/html": [
       "<div>\n",
       "<style scoped>\n",
       "    .dataframe tbody tr th:only-of-type {\n",
       "        vertical-align: middle;\n",
       "    }\n",
       "\n",
       "    .dataframe tbody tr th {\n",
       "        vertical-align: top;\n",
       "    }\n",
       "\n",
       "    .dataframe thead th {\n",
       "        text-align: right;\n",
       "    }\n",
       "</style>\n",
       "<table border=\"1\" class=\"dataframe\">\n",
       "  <thead>\n",
       "    <tr style=\"text-align: right;\">\n",
       "      <th></th>\n",
       "      <th>Unnamed: 0</th>\n",
       "      <th>user_id</th>\n",
       "      <th>restaurant_id</th>\n",
       "      <th>Rating_x</th>\n",
       "      <th>Unnamed: 0_y</th>\n",
       "      <th>resId</th>\n",
       "      <th>title</th>\n",
       "      <th>No_of_Reviews</th>\n",
       "      <th>Tags</th>\n",
       "      <th>Details</th>\n",
       "      <th>Range_n_Cuisine</th>\n",
       "    </tr>\n",
       "  </thead>\n",
       "  <tbody>\n",
       "    <tr>\n",
       "      <th>0</th>\n",
       "      <td>0</td>\n",
       "      <td>0</td>\n",
       "      <td>363</td>\n",
       "      <td>0.0</td>\n",
       "      <td>363</td>\n",
       "      <td>363</td>\n",
       "      <td>Chartreuse Moose Cappuccino Bar &amp; Bistro</td>\n",
       "      <td>170.0</td>\n",
       "      <td>wraps , breakfast wrap , beans , great coffee...</td>\n",
       "      <td>{'CUISINES': 'Cafe, Canadian', 'Special Diets'...</td>\n",
       "      <td>['$$ - $$$', 'Quick Bites', 'Cafe', 'Canadian']</td>\n",
       "    </tr>\n",
       "    <tr>\n",
       "      <th>1</th>\n",
       "      <td>1</td>\n",
       "      <td>0</td>\n",
       "      <td>363</td>\n",
       "      <td>0.0</td>\n",
       "      <td>363</td>\n",
       "      <td>363</td>\n",
       "      <td>Chartreuse Moose Cappuccino Bar &amp; Bistro</td>\n",
       "      <td>170.0</td>\n",
       "      <td>wraps , breakfast wrap , beans , great coffee...</td>\n",
       "      <td>{'CUISINES': 'Cafe, Canadian', 'Special Diets'...</td>\n",
       "      <td>['$$ - $$$', 'Quick Bites', 'Cafe', 'Canadian']</td>\n",
       "    </tr>\n",
       "  </tbody>\n",
       "</table>\n",
       "</div>"
      ],
      "text/plain": [
       "   Unnamed: 0  user_id  restaurant_id  Rating_x  Unnamed: 0_y  resId  \\\n",
       "0           0        0            363       0.0           363    363   \n",
       "1           1        0            363       0.0           363    363   \n",
       "\n",
       "                                      title  No_of_Reviews  \\\n",
       "0  Chartreuse Moose Cappuccino Bar & Bistro          170.0   \n",
       "1  Chartreuse Moose Cappuccino Bar & Bistro          170.0   \n",
       "\n",
       "                                                Tags  \\\n",
       "0   wraps , breakfast wrap , beans , great coffee...   \n",
       "1   wraps , breakfast wrap , beans , great coffee...   \n",
       "\n",
       "                                             Details  \\\n",
       "0  {'CUISINES': 'Cafe, Canadian', 'Special Diets'...   \n",
       "1  {'CUISINES': 'Cafe, Canadian', 'Special Diets'...   \n",
       "\n",
       "                                   Range_n_Cuisine  \n",
       "0  ['$$ - $$$', 'Quick Bites', 'Cafe', 'Canadian']  \n",
       "1  ['$$ - $$$', 'Quick Bites', 'Cafe', 'Canadian']  "
      ]
     },
     "execution_count": 3,
     "metadata": {},
     "output_type": "execute_result"
    }
   ],
   "source": [
    "df = pd.read_csv('sample_data.csv')\n",
    "df.head(2)"
   ]
  },
  {
   "cell_type": "code",
   "execution_count": 4,
   "metadata": {
    "_cell_guid": "38a310a1-dc23-474b-a5b7-3a1e1f2ad6dd",
    "_uuid": "74d816c4-0f0b-4a9e-a24d-713651a028db"
   },
   "outputs": [
    {
     "data": {
      "text/html": [
       "<div>\n",
       "<style scoped>\n",
       "    .dataframe tbody tr th:only-of-type {\n",
       "        vertical-align: middle;\n",
       "    }\n",
       "\n",
       "    .dataframe tbody tr th {\n",
       "        vertical-align: top;\n",
       "    }\n",
       "\n",
       "    .dataframe thead th {\n",
       "        text-align: right;\n",
       "    }\n",
       "</style>\n",
       "<table border=\"1\" class=\"dataframe\">\n",
       "  <thead>\n",
       "    <tr style=\"text-align: right;\">\n",
       "      <th></th>\n",
       "      <th>user_id</th>\n",
       "      <th>restaurant_id</th>\n",
       "      <th>Rating_x</th>\n",
       "      <th>title</th>\n",
       "      <th>No_of_Reviews</th>\n",
       "      <th>Tags</th>\n",
       "      <th>Details</th>\n",
       "      <th>Range_n_Cuisine</th>\n",
       "    </tr>\n",
       "  </thead>\n",
       "  <tbody>\n",
       "    <tr>\n",
       "      <th>0</th>\n",
       "      <td>0</td>\n",
       "      <td>363</td>\n",
       "      <td>0.0</td>\n",
       "      <td>Chartreuse Moose Cappuccino Bar &amp; Bistro</td>\n",
       "      <td>170.0</td>\n",
       "      <td>wraps , breakfast wrap , beans , great coffee...</td>\n",
       "      <td>{'CUISINES': 'Cafe, Canadian', 'Special Diets'...</td>\n",
       "      <td>['$$ - $$$', 'Quick Bites', 'Cafe', 'Canadian']</td>\n",
       "    </tr>\n",
       "  </tbody>\n",
       "</table>\n",
       "</div>"
      ],
      "text/plain": [
       "   user_id  restaurant_id  Rating_x                                     title  \\\n",
       "0        0            363       0.0  Chartreuse Moose Cappuccino Bar & Bistro   \n",
       "\n",
       "   No_of_Reviews                                               Tags  \\\n",
       "0          170.0   wraps , breakfast wrap , beans , great coffee...   \n",
       "\n",
       "                                             Details  \\\n",
       "0  {'CUISINES': 'Cafe, Canadian', 'Special Diets'...   \n",
       "\n",
       "                                   Range_n_Cuisine  \n",
       "0  ['$$ - $$$', 'Quick Bites', 'Cafe', 'Canadian']  "
      ]
     },
     "execution_count": 4,
     "metadata": {},
     "output_type": "execute_result"
    }
   ],
   "source": [
    "df1 = df.copy()\n",
    "df1 = df1.drop(['Unnamed: 0','Unnamed: 0_y','resId'], axis = 1)\n",
    "df1.head(1)"
   ]
  },
  {
   "cell_type": "code",
   "execution_count": 5,
   "metadata": {},
   "outputs": [
    {
     "name": "stdout",
     "output_type": "stream",
     "text": [
      "Maximum number of reviews by user : 1176\n",
      "Maximum number of reviews per restaurant : 362\n"
     ]
    }
   ],
   "source": [
    "df1['num_of_reviews_by_user'] = df1.groupby(['restaurant_id'])['user_id'].transform('count')\n",
    "df1['num_of_reviews_for_restaurant'] = df1.groupby(['user_id'])['restaurant_id'].transform('count')\n",
    "print(\"Maximum number of reviews by user : \" + str(df1['num_of_reviews_by_user'].max()))\n",
    "print(\"Maximum number of reviews per restaurant : \" + str(df1['num_of_reviews_for_restaurant'].max()))"
   ]
  },
  {
   "cell_type": "code",
   "execution_count": 6,
   "metadata": {},
   "outputs": [
    {
     "data": {
      "text/plain": [
       "10     1176\n",
       "217     638\n",
       "41      510\n",
       "225     266\n",
       "204      64\n",
       "363      54\n",
       "367      18\n",
       "368      14\n",
       "370      10\n",
       "376       7\n",
       "379       6\n",
       "373       6\n",
       "380       6\n",
       "369       5\n",
       "364       4\n",
       "Name: restaurant_id, dtype: int64"
      ]
     },
     "execution_count": 6,
     "metadata": {},
     "output_type": "execute_result"
    }
   ],
   "source": [
    "df1.restaurant_id.value_counts()"
   ]
  },
  {
   "cell_type": "code",
   "execution_count": 7,
   "metadata": {},
   "outputs": [
    {
     "data": {
      "text/plain": [
       "214"
      ]
     },
     "execution_count": 7,
     "metadata": {},
     "output_type": "execute_result"
    }
   ],
   "source": [
    "df1.Tags.value_counts().sum()"
   ]
  },
  {
   "cell_type": "code",
   "execution_count": 8,
   "metadata": {},
   "outputs": [
    {
     "data": {
      "text/plain": [
       "2784"
      ]
     },
     "execution_count": 8,
     "metadata": {},
     "output_type": "execute_result"
    }
   ],
   "source": [
    "df1.Range_n_Cuisine.value_counts().sum()"
   ]
  },
  {
   "cell_type": "code",
   "execution_count": 9,
   "metadata": {},
   "outputs": [
    {
     "data": {
      "text/plain": [
       "2784"
      ]
     },
     "execution_count": 9,
     "metadata": {},
     "output_type": "execute_result"
    }
   ],
   "source": [
    "df1.Details.value_counts().sum()"
   ]
  },
  {
   "cell_type": "code",
   "execution_count": 10,
   "metadata": {},
   "outputs": [
    {
     "data": {
      "text/plain": [
       "(2784, 2)"
      ]
     },
     "execution_count": 10,
     "metadata": {},
     "output_type": "execute_result"
    }
   ],
   "source": [
    "df2 = df1.copy()\n",
    "df2 = df2[['restaurant_id', 'Tags']]\n",
    "df2.shape"
   ]
  },
  {
   "cell_type": "code",
   "execution_count": 11,
   "metadata": {},
   "outputs": [
    {
     "data": {
      "text/plain": [
       "(2784, 16)"
      ]
     },
     "execution_count": 11,
     "metadata": {},
     "output_type": "execute_result"
    }
   ],
   "source": [
    "# dummify categorical features\n",
    "restr_metadata = pd.get_dummies(df2, columns = ['Tags'])\n",
    "\n",
    "restr_metadata = restr_metadata.sort_values('restaurant_id').reset_index().drop('index', axis=1)\n",
    "restr_metadata.shape"
   ]
  },
  {
   "cell_type": "code",
   "execution_count": 12,
   "metadata": {},
   "outputs": [
    {
     "data": {
      "text/plain": [
       "<2784x15 sparse matrix of type '<class 'numpy.uint8'>'\n",
       "\twith 214 stored elements in Compressed Sparse Row format>"
      ]
     },
     "execution_count": 12,
     "metadata": {},
     "output_type": "execute_result"
    }
   ],
   "source": [
    "from scipy.sparse import csr_matrix\n",
    "# convert to csr matrix\n",
    "restr_metadata_csr = csr_matrix(restr_metadata.drop('restaurant_id', axis=1).values)\n",
    "restr_metadata_csr"
   ]
  },
  {
   "cell_type": "code",
   "execution_count": 13,
   "metadata": {},
   "outputs": [
    {
     "data": {
      "text/html": [
       "<div>\n",
       "<style scoped>\n",
       "    .dataframe tbody tr th:only-of-type {\n",
       "        vertical-align: middle;\n",
       "    }\n",
       "\n",
       "    .dataframe tbody tr th {\n",
       "        vertical-align: top;\n",
       "    }\n",
       "\n",
       "    .dataframe thead th {\n",
       "        text-align: right;\n",
       "    }\n",
       "</style>\n",
       "<table border=\"1\" class=\"dataframe\">\n",
       "  <thead>\n",
       "    <tr style=\"text-align: right;\">\n",
       "      <th>restaurant_id</th>\n",
       "      <th>10</th>\n",
       "      <th>41</th>\n",
       "      <th>204</th>\n",
       "      <th>217</th>\n",
       "      <th>225</th>\n",
       "      <th>363</th>\n",
       "      <th>364</th>\n",
       "      <th>367</th>\n",
       "      <th>368</th>\n",
       "      <th>369</th>\n",
       "      <th>370</th>\n",
       "      <th>373</th>\n",
       "      <th>376</th>\n",
       "      <th>379</th>\n",
       "      <th>380</th>\n",
       "    </tr>\n",
       "    <tr>\n",
       "      <th>user_id</th>\n",
       "      <th></th>\n",
       "      <th></th>\n",
       "      <th></th>\n",
       "      <th></th>\n",
       "      <th></th>\n",
       "      <th></th>\n",
       "      <th></th>\n",
       "      <th></th>\n",
       "      <th></th>\n",
       "      <th></th>\n",
       "      <th></th>\n",
       "      <th></th>\n",
       "      <th></th>\n",
       "      <th></th>\n",
       "      <th></th>\n",
       "    </tr>\n",
       "  </thead>\n",
       "  <tbody>\n",
       "    <tr>\n",
       "      <th>0</th>\n",
       "      <td>0.0</td>\n",
       "      <td>0.0</td>\n",
       "      <td>0.0</td>\n",
       "      <td>1.25</td>\n",
       "      <td>0.0</td>\n",
       "      <td>0.0</td>\n",
       "      <td>0.0</td>\n",
       "      <td>0.0</td>\n",
       "      <td>0.0</td>\n",
       "      <td>0.0</td>\n",
       "      <td>0.0</td>\n",
       "      <td>0.5</td>\n",
       "      <td>0.0</td>\n",
       "      <td>0.0</td>\n",
       "      <td>0.0</td>\n",
       "    </tr>\n",
       "    <tr>\n",
       "      <th>1</th>\n",
       "      <td>0.0</td>\n",
       "      <td>0.0</td>\n",
       "      <td>2.5</td>\n",
       "      <td>0.00</td>\n",
       "      <td>0.0</td>\n",
       "      <td>0.0</td>\n",
       "      <td>0.0</td>\n",
       "      <td>0.0</td>\n",
       "      <td>3.5</td>\n",
       "      <td>0.0</td>\n",
       "      <td>1.5</td>\n",
       "      <td>0.0</td>\n",
       "      <td>4.5</td>\n",
       "      <td>0.0</td>\n",
       "      <td>0.0</td>\n",
       "    </tr>\n",
       "    <tr>\n",
       "      <th>2</th>\n",
       "      <td>2.0</td>\n",
       "      <td>0.0</td>\n",
       "      <td>0.0</td>\n",
       "      <td>0.00</td>\n",
       "      <td>0.0</td>\n",
       "      <td>1.5</td>\n",
       "      <td>0.5</td>\n",
       "      <td>0.0</td>\n",
       "      <td>0.0</td>\n",
       "      <td>0.0</td>\n",
       "      <td>0.0</td>\n",
       "      <td>0.0</td>\n",
       "      <td>0.0</td>\n",
       "      <td>1.0</td>\n",
       "      <td>0.0</td>\n",
       "    </tr>\n",
       "    <tr>\n",
       "      <th>3</th>\n",
       "      <td>0.0</td>\n",
       "      <td>4.0</td>\n",
       "      <td>0.0</td>\n",
       "      <td>0.00</td>\n",
       "      <td>4.5</td>\n",
       "      <td>4.0</td>\n",
       "      <td>0.0</td>\n",
       "      <td>0.0</td>\n",
       "      <td>0.0</td>\n",
       "      <td>0.0</td>\n",
       "      <td>0.0</td>\n",
       "      <td>0.0</td>\n",
       "      <td>0.0</td>\n",
       "      <td>1.0</td>\n",
       "      <td>0.0</td>\n",
       "    </tr>\n",
       "    <tr>\n",
       "      <th>4</th>\n",
       "      <td>0.5</td>\n",
       "      <td>0.0</td>\n",
       "      <td>0.0</td>\n",
       "      <td>2.75</td>\n",
       "      <td>0.0</td>\n",
       "      <td>0.0</td>\n",
       "      <td>3.0</td>\n",
       "      <td>0.0</td>\n",
       "      <td>0.0</td>\n",
       "      <td>0.0</td>\n",
       "      <td>0.0</td>\n",
       "      <td>0.0</td>\n",
       "      <td>2.5</td>\n",
       "      <td>0.0</td>\n",
       "      <td>0.0</td>\n",
       "    </tr>\n",
       "  </tbody>\n",
       "</table>\n",
       "</div>"
      ],
      "text/plain": [
       "restaurant_id  10   41   204   217  225  363  364  367  368  369  370  373  \\\n",
       "user_id                                                                      \n",
       "0              0.0  0.0  0.0  1.25  0.0  0.0  0.0  0.0  0.0  0.0  0.0  0.5   \n",
       "1              0.0  0.0  2.5  0.00  0.0  0.0  0.0  0.0  3.5  0.0  1.5  0.0   \n",
       "2              2.0  0.0  0.0  0.00  0.0  1.5  0.5  0.0  0.0  0.0  0.0  0.0   \n",
       "3              0.0  4.0  0.0  0.00  4.5  4.0  0.0  0.0  0.0  0.0  0.0  0.0   \n",
       "4              0.5  0.0  0.0  2.75  0.0  0.0  3.0  0.0  0.0  0.0  0.0  0.0   \n",
       "\n",
       "restaurant_id  376  379  380  \n",
       "user_id                       \n",
       "0              0.0  0.0  0.0  \n",
       "1              4.5  0.0  0.0  \n",
       "2              0.0  1.0  0.0  \n",
       "3              0.0  1.0  0.0  \n",
       "4              2.5  0.0  0.0  "
      ]
     },
     "execution_count": 13,
     "metadata": {},
     "output_type": "execute_result"
    }
   ],
   "source": [
    "user_restr_interaction = pd.pivot_table(df1, index='user_id', columns='restaurant_id', values='Rating_x')\n",
    "\n",
    "# fill missing values with 0\n",
    "user_restr_interaction = user_restr_interaction.fillna(0)\n",
    "\n",
    "user_restr_interaction.head()"
   ]
  },
  {
   "cell_type": "code",
   "execution_count": 14,
   "metadata": {},
   "outputs": [
    {
     "data": {
      "text/plain": [
       "(20, 15)"
      ]
     },
     "execution_count": 14,
     "metadata": {},
     "output_type": "execute_result"
    }
   ],
   "source": [
    "user_restr_interaction.shape"
   ]
  },
  {
   "cell_type": "code",
   "execution_count": 15,
   "metadata": {},
   "outputs": [],
   "source": [
    "user_id = list(user_restr_interaction.index)\n",
    "user_dict = {}\n",
    "counter = 0 \n",
    "for i in user_id:\n",
    "    user_dict[i] = counter\n",
    "    counter += 1"
   ]
  },
  {
   "cell_type": "code",
   "execution_count": 16,
   "metadata": {},
   "outputs": [],
   "source": [
    "item_dict ={}\n",
    "df = df1[['restaurant_id', 'title']].sort_values('restaurant_id').reset_index()\n",
    "\n",
    "for i in range(df.shape[0]):\n",
    "    item_dict[(df.loc[i,'restaurant_id'])] = df.loc[i,'title']"
   ]
  },
  {
   "cell_type": "code",
   "execution_count": 17,
   "metadata": {},
   "outputs": [
    {
     "data": {
      "text/plain": [
       "<20x15 sparse matrix of type '<class 'numpy.float64'>'\n",
       "\twith 87 stored elements in Compressed Sparse Row format>"
      ]
     },
     "execution_count": 17,
     "metadata": {},
     "output_type": "execute_result"
    }
   ],
   "source": [
    "# convert to csr matrix\n",
    "from scipy.sparse import csr_matrix\n",
    "user_restr_interaction_csr = csr_matrix(user_restr_interaction.values)\n",
    "user_restr_interaction_csr"
   ]
  },
  {
   "cell_type": "code",
   "execution_count": 18,
   "metadata": {},
   "outputs": [
    {
     "name": "stderr",
     "output_type": "stream",
     "text": [
      "/Library/Frameworks/Python.framework/Versions/3.7/lib/python3.7/site-packages/lightfm/_lightfm_fast.py:9: UserWarning: LightFM was compiled without OpenMP support. Only a single thread will be used.\n",
      "  warnings.warn('LightFM was compiled without OpenMP support. '\n"
     ]
    }
   ],
   "source": [
    "from lightfm import LightFM\n",
    "model = LightFM(loss='warp',\n",
    "                random_state=2016,\n",
    "                learning_rate=0.90,\n",
    "                no_components=150,\n",
    "                user_alpha=0.000005)\n",
    "\n",
    "model = model.fit(user_restr_interaction_csr,\n",
    "                  epochs=100,\n",
    "                  num_threads=16, verbose=False)"
   ]
  },
  {
   "cell_type": "code",
   "execution_count": 19,
   "metadata": {},
   "outputs": [],
   "source": [
    "def sample_recommendation_user(model, interactions, user_id, user_dict, \n",
    "                               item_dict,threshold = 0,nrec_items = 5, show = True):\n",
    "    \n",
    "    n_users, n_items = interactions.shape\n",
    "    user_x = user_dict[user_id]\n",
    "    scores = pd.Series(model.predict(user_x,np.arange(n_items), item_features=restr_metadata_csr))\n",
    "    scores.index = interactions.columns\n",
    "    scores = list(pd.Series(scores.sort_values(ascending=False).index))\n",
    "    \n",
    "    known_items = list(pd.Series(interactions.loc[user_id,:] \\\n",
    "                                 [interactions.loc[user_id,:] > threshold].index).sort_values(ascending=False))\n",
    "    \n",
    "    scores = [x for x in scores if x not in known_items]\n",
    "    return_score_list = scores[0:nrec_items]\n",
    "    known_items = list(pd.Series(known_items).apply(lambda x: item_dict[x]))\n",
    "    scores = list(pd.Series(return_score_list).apply(lambda x: item_dict[x]))\n",
    "    if show == True:\n",
    "        print (\"User: \" + str(user_id))\n",
    "        print(\"Known Likes:\")\n",
    "        counter = 1\n",
    "        for i in known_items:\n",
    "            print(str(counter) + '- ' + i)\n",
    "            counter+=1\n",
    "\n",
    "        print(\"\\n Recommended Items:\")\n",
    "        counter = 1\n",
    "        for i in scores:\n",
    "            print(str(counter) + '- ' + i)\n",
    "            counter+=1"
   ]
  },
  {
   "cell_type": "code",
   "execution_count": 20,
   "metadata": {},
   "outputs": [
    {
     "name": "stdout",
     "output_type": "stream",
     "text": [
      "User: 7\n",
      "Known Likes:\n",
      "1- The Great Wok\n",
      "2- Jake's\n",
      "3- Chartreuse Moose Cappuccino Bar & Bistro\n",
      "4- A&W Restaurant\n",
      "5- Canadian 2 For 1 Pizza\n",
      "\n",
      " Recommended Items:\n",
      "1- Smitty's 100 Mile House\n",
      "2- El Caballo Restaurant\n",
      "3- P Bass Fish and Chips\n",
      "4- Blue Sky Chinese Restaurant\n",
      "5- Farrier pub\n"
     ]
    }
   ],
   "source": [
    "\n",
    "sample_recommendation_user(model, user_restr_interaction, 7, user_dict, item_dict)"
   ]
  }
 ],
 "metadata": {
  "kernelspec": {
   "display_name": "Python 3",
   "language": "python",
   "name": "python3"
  },
  "language_info": {
   "codemirror_mode": {
    "name": "ipython",
    "version": 3
   },
   "file_extension": ".py",
   "mimetype": "text/x-python",
   "name": "python",
   "nbconvert_exporter": "python",
   "pygments_lexer": "ipython3",
   "version": "3.8.3"
  }
 },
 "nbformat": 4,
 "nbformat_minor": 4
}
